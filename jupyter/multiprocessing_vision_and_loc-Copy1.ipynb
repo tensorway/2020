{
 "cells": [
  {
   "cell_type": "code",
   "execution_count": 4,
   "metadata": {},
   "outputs": [],
   "source": [
    "import math\n",
    "import time\n",
    "import numpy as np\n",
    "from robocup import field\n",
    "from robocup import vision\n",
    "from robocup import switches as s\n",
    "from robocup import commands as comm\n",
    "from robocup import localization as loc\n",
    "from multiprocessing import Process, Value\n",
    "\n",
    "robot_angle = 75"
   ]
  },
  {
   "cell_type": "code",
   "execution_count": 5,
   "metadata": {},
   "outputs": [
    {
     "name": "stdout",
     "output_type": "stream",
     "text": [
      "Help on module robocup.commands in robocup:\n",
      "\n",
      "NAME\n",
      "    robocup.commands\n",
      "\n",
      "FUNCTIONS\n",
      "    pause()\n",
      "    \n",
      "    send_byte(x)\n",
      "    \n",
      "    set_moving_angle(angle, speed)\n",
      "    \n",
      "    set_orientation()\n",
      "    \n",
      "    start()\n",
      "\n",
      "DATA\n",
      "    ser = Serial<id=0xa5967bb0, open=True>(port='/dev/ttyS...out=1, xonxof...\n",
      "\n",
      "FILE\n",
      "    /home/pi/Desktop/02.11.2019. - 23h/jupyter/robocup/commands.py\n",
      "\n",
      "\n"
     ]
    }
   ],
   "source": [
    "help(comm)"
   ]
  },
  {
   "cell_type": "code",
   "execution_count": 15,
   "metadata": {},
   "outputs": [
    {
     "name": "stdout",
     "output_type": "stream",
     "text": [
      "0.0 0.0 128.06161419466378 278.0616141946638 0.0 hellooo\r"
     ]
    },
    {
     "ename": "KeyboardInterrupt",
     "evalue": "",
     "output_type": "error",
     "traceback": [
      "\u001b[0;31m---------------------------------------------------------------------------\u001b[0m",
      "\u001b[0;31mKeyboardInterrupt\u001b[0m                         Traceback (most recent call last)",
      "\u001b[0;32m<ipython-input-15-889091004b66>\u001b[0m in \u001b[0;36m<module>\u001b[0;34m()\u001b[0m\n\u001b[1;32m     21\u001b[0m     \u001b[0mcomm\u001b[0m\u001b[0;34m.\u001b[0m\u001b[0mset_moving_angle\u001b[0m\u001b[0;34m(\u001b[0m\u001b[0mba\u001b[0m\u001b[0;34m,\u001b[0m \u001b[0;36m0.05\u001b[0m\u001b[0;34m)\u001b[0m\u001b[0;34m\u001b[0m\u001b[0;34m\u001b[0m\u001b[0m\n\u001b[1;32m     22\u001b[0m     \u001b[0mprint\u001b[0m\u001b[0;34m(\u001b[0m\u001b[0mx\u001b[0m\u001b[0;34m,\u001b[0m \u001b[0my\u001b[0m\u001b[0;34m,\u001b[0m \u001b[0mangle\u001b[0m\u001b[0;34m,\u001b[0m \u001b[0mba\u001b[0m\u001b[0;34m,\u001b[0m \u001b[0mdist\u001b[0m\u001b[0;34m,\u001b[0m \u001b[0;34m\"hello\"\u001b[0m\u001b[0;34m,\u001b[0m \u001b[0mend\u001b[0m \u001b[0;34m=\u001b[0m \u001b[0;34m'\\r'\u001b[0m\u001b[0;34m)\u001b[0m\u001b[0;34m\u001b[0m\u001b[0;34m\u001b[0m\u001b[0m\n\u001b[0;32m---> 23\u001b[0;31m     \u001b[0mtime\u001b[0m\u001b[0;34m.\u001b[0m\u001b[0msleep\u001b[0m\u001b[0;34m(\u001b[0m\u001b[0;36m0.02\u001b[0m\u001b[0;34m)\u001b[0m\u001b[0;34m\u001b[0m\u001b[0;34m\u001b[0m\u001b[0m\n\u001b[0m\u001b[1;32m     24\u001b[0m     \u001b[0;32mif\u001b[0m \u001b[0;32mnot\u001b[0m \u001b[0ms\u001b[0m\u001b[0;34m.\u001b[0m\u001b[0mstate\u001b[0m\u001b[0;34m(\u001b[0m\u001b[0;36m3\u001b[0m\u001b[0;34m)\u001b[0m\u001b[0;34m:\u001b[0m\u001b[0;34m\u001b[0m\u001b[0;34m\u001b[0m\u001b[0m\n\u001b[1;32m     25\u001b[0m         \u001b[0;32mwhile\u001b[0m \u001b[0;32mnot\u001b[0m \u001b[0ms\u001b[0m\u001b[0;34m.\u001b[0m\u001b[0mstate\u001b[0m\u001b[0;34m(\u001b[0m\u001b[0;36m3\u001b[0m\u001b[0;34m)\u001b[0m\u001b[0;34m:\u001b[0m\u001b[0;34m\u001b[0m\u001b[0;34m\u001b[0m\u001b[0m\n",
      "\u001b[0;31mKeyboardInterrupt\u001b[0m: "
     ]
    },
    {
     "name": "stderr",
     "output_type": "stream",
     "text": [
      "Process Process-10:\n",
      "Traceback (most recent call last):\n",
      "  File \"/usr/lib/python3.7/multiprocessing/process.py\", line 297, in _bootstrap\n",
      "    self.run()\n",
      "  File \"/usr/lib/python3.7/multiprocessing/process.py\", line 99, in run\n",
      "    self._target(*self._args, **self._kwargs)\n",
      "  File \"/home/pi/Desktop/02.11.2019. - 23h/jupyter/robocup/vision.py\", line 61, in detect_the_ball\n",
      "    __, img = cap.read()\n",
      "KeyboardInterrupt\n"
     ]
    }
   ],
   "source": [
    "xnum = Value('d', 0.0)\n",
    "ynum = Value('d', 0.0)\n",
    "anglenum = Value('d', 0.0)\n",
    "distnum = Value('d', 0.0)\n",
    "p1 = Process(target=loc.localize, args=(robot_angle, xnum, ynum, False))\n",
    "p2 = Process(target=vision.detect_the_ball, args=(anglenum, distnum, False))\n",
    "p1.start()\n",
    "p2.start()\n",
    "while s.state(3):\n",
    "    a = 0\n",
    "comm.set_orientation()\n",
    "while not s.state(3):\n",
    "    a = 0\n",
    "comm.start()\n",
    "while True:\n",
    "    x = xnum.value\n",
    "    y = ynum.value\n",
    "    angle = anglenum.value\n",
    "    dist = distnum.value\n",
    "    ba = robot_angle_to_catch_ball(angle, x, y)\n",
    "    comm.set_moving_angle(ba, 0.05)\n",
    "    print(x, y, angle, ba, dist, \"hello\", end = '\\r')\n",
    "    time.sleep(0.02)\n",
    "    if not s.state(3):\n",
    "        while not s.state(3):\n",
    "            comm.pause()\n",
    "            time.sleep(0.01)\n",
    "        comm.start()"
   ]
  },
  {
   "cell_type": "code",
   "execution_count": 55,
   "metadata": {},
   "outputs": [],
   "source": [
    "def adaptive_speed(max_speed, min_speed, upper_dist, lower_dist, x, y, ant):\n",
    "\n",
    "    rant = math.radians(ant)\n",
    "    try:\n",
    "        math.tan(rant)\n",
    "    except:\n",
    "        rant += 0.01\n",
    "    max_speeds = [0, 0, 0, 0]\n",
    "    dists = [x, y, field.x - x, field.y - y]\n",
    "    \n",
    "    for i in range (len(max_speeds)):\n",
    "        if dists[i] <= lower_dist:\n",
    "            max_speeds[i] = min_speed\n",
    "        elif dists[i] <= upper_dist:\n",
    "            max_speeds[i] = (max_speed - min_speed) / (upper_dist - lower_dist) * (dists[i] - lower_dist) + min_speed;\n",
    "        else:\n",
    "            max_speeds[i] = max_speed\n",
    "            \n",
    "    print(dists, max_speeds)\n",
    "            \n",
    "    x_speed = math.cos(rant)\n",
    "    y_speed = math.sin(rant)\n",
    "    speed_to_ret = min_speed\n",
    "    print(x_speed, y_speed)\n",
    "    max_speed_x = max_speeds[2] if x_speed > 0 else max_speeds[0]\n",
    "    max_speed_y = max_speeds[3] if y_speed > 0 else max_speeds[1]\n",
    "    print(max_speed_x, max_speed_y)\n",
    "\n",
    "    if abs(math.tan(rant)*max_speed_x) <= max_speed_y:\n",
    "        speed_to_ret = math.sqrt(max_speed_x**2 + (math.tan(rant) * max_speed_x) * (math.tan(rant) * max_speed_x));\n",
    "    elif abs(1 / math.tan(rant)*max_speed_y) <= max_speed_x:\n",
    "        speed_to_ret = math.sqrt(max_speed_y * max_speed_y + (1 / math.tan(rant) * max_speed_y) * (1 / math.tan(rant) * max_speed_y));\n",
    "\n",
    "\n",
    "    if (speed_to_ret < min_speed):\n",
    "        speed_to_ret = min_speed\n",
    "    return speed_to_ret\n",
    "\n"
   ]
  },
  {
   "cell_type": "code",
   "execution_count": 60,
   "metadata": {},
   "outputs": [
    {
     "name": "stdout",
     "output_type": "stream",
     "text": [
      "[1800, 0, 20, 2340] [0.5, 0.3, 0.3, 0.5]\n",
      "0.7071067811865474 -0.7071067811865477\n",
      "0.3 0.3\n"
     ]
    },
    {
     "data": {
      "text/plain": [
       "0.42426406871192845"
      ]
     },
     "execution_count": 60,
     "metadata": {},
     "output_type": "execute_result"
    }
   ],
   "source": [
    "adaptive_speed(0.5, 0.3, 600, 300, 1800, 0, 315)"
   ]
  },
  {
   "cell_type": "code",
   "execution_count": 14,
   "metadata": {},
   "outputs": [],
   "source": [
    "def robot_angle_to_catch_ball(ball_angle, x, y):\n",
    "    det_side = False\n",
    "    side = 0                                         #0 left , 1 right\n",
    "    max_angle = 60\n",
    "    conv_angle = ball_angle*1.5\n",
    "    if conv_angle > max_angle:\n",
    "        conv_angle = max_angle\n",
    "    if conv_angle < -max_angle:\n",
    "        conv_angle = -max_angle\n",
    "    angle_to_go = (ball_angle + conv_angle + 90) % 360\n",
    "\n",
    "\n",
    "    if (not det_side and ball_angle > 180 + 65 and ball_angle < 360 - 65):\n",
    "        if (x < field.x/2):\n",
    "            side = 0\n",
    "            angle_to_go = ball_angle + 90 + max_angle\n",
    "        else:\n",
    "            side = 1\n",
    "            angle_to_go = ball_angle + 90 - max_angle\n",
    "        det_side = true\n",
    "  \n",
    "    elif (det_side and ball_angle > 180):\n",
    "        if side:\n",
    "            angle_to_go = ball_angle + 90 - max_angle\n",
    "        else:\n",
    "            angle_to_go = ball_angle + 90 + max_angle\n",
    "    else:\n",
    "        det_side = False\n",
    "\n",
    "    angle_to_go = angle_to_go % 360\n",
    "    \n",
    "    return angle_to_go\n"
   ]
  },
  {
   "cell_type": "code",
   "execution_count": 13,
   "metadata": {},
   "outputs": [
    {
     "name": "stdout",
     "output_type": "stream",
     "text": [
      "Help on module robocup.switches in robocup:\n",
      "\n",
      "NAME\n",
      "    robocup.switches\n",
      "\n",
      "FUNCTIONS\n",
      "    state(i)\n",
      "\n",
      "DATA\n",
      "    pin = 1\n",
      "    switch_pins = [24, 8, 7, 1]\n",
      "\n",
      "FILE\n",
      "    /home/pi/Desktop/02.11.2019. - 23h/jupyter/robocup/switches.py\n",
      "\n",
      "\n"
     ]
    }
   ],
   "source": [
    "help(s)"
   ]
  }
 ],
 "metadata": {
  "kernelspec": {
   "display_name": "Python 3",
   "language": "python",
   "name": "python3"
  },
  "language_info": {
   "codemirror_mode": {
    "name": "ipython",
    "version": 3
   },
   "file_extension": ".py",
   "mimetype": "text/x-python",
   "name": "python",
   "nbconvert_exporter": "python",
   "pygments_lexer": "ipython3",
   "version": "3.7.3"
  }
 },
 "nbformat": 4,
 "nbformat_minor": 2
}
