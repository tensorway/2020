{
 "cells": [
  {
   "source": [
    "# Putting it all together\n",
    "\n",
    "Ovo je example program koji sadrži sve iz prijašnjih tutorijala\n",
    "\n",
    "Kako ne radimo u direktoriju u kojem se nalazi robocup folder treba donje dvije komande izvršiti (samo jednom)."
   ],
   "cell_type": "markdown",
   "metadata": {}
  },
  {
   "cell_type": "code",
   "execution_count": 1,
   "metadata": {},
   "outputs": [],
   "source": [
    "import sys\n",
    "sys.path.append('../')"
   ]
  },
  {
   "source": [
    "Uvezimo sve potrebno:"
   ],
   "cell_type": "markdown",
   "metadata": {}
  },
  {
   "cell_type": "code",
   "execution_count": null,
   "metadata": {},
   "outputs": [],
   "source": [
    "import math\n",
    "import time\n",
    "import numpy as np\n",
    "from robocup import field\n",
    "from robocup import vision\n",
    "from robocup import switches as s\n",
    "from robocup import movement as mov\n",
    "from robocup import commands as comm\n",
    "from robocup import localization as loc\n",
    "from multiprocessing import Process, Value\n",
    "from robocup import bluetooth_communication as blu\n",
    "\n",
    "robot_angle = 225"
   ]
  },
  {
   "source": [
    "Napravimo dva različita procesa jedan za lokalizaciju drugi za procesuiranje slike:"
   ],
   "cell_type": "markdown",
   "metadata": {}
  },
  {
   "cell_type": "code",
   "execution_count": 2,
   "metadata": {
    "scrolled": true
   },
   "outputs": [
    {
     "name": "stdout",
     "output_type": "stream",
     "text": [
      "640x480\n",
      "640x480\n"
     ]
    },
    {
     "name": "stderr",
     "output_type": "stream",
     "text": [
      "Too many measurments in the input buffer: 574/500. Clearing buffer...\n",
      "Too many measurments in the input buffer: 501/500. Clearing buffer...\n",
      "Too many measurments in the input buffer: 615/500. Clearing buffer...\n"
     ]
    }
   ],
   "source": [
    "xnum = Value('d', 0.0)\n",
    "ynum = Value('d', 0.0)\n",
    "anglenum = Value('d', 0.0)\n",
    "distnum = Value('d', 0.0)\n",
    "sizenum = Value('d', 0.0)\n",
    "recnum = Value('d', 0.0)\n",
    "erasenum = Value('d', 0.0)\n",
    "\n",
    "p1 = Process(target=loc.localize, args=(robot_angle, xnum, ynum, False))\n",
    "p2 = Process(target=vision.detect_the_ball, args=(anglenum, distnum, sizenum, recnum, erasenum, False))\n",
    "p1.start()\n",
    "p2.start()"
   ]
  },
  {
   "source": [
    "Ova četiri cella treba izvršiti s malim vremenskim odmakom (npr. 1s) služi za skupljanje statistike za obradu slike"
   ],
   "cell_type": "markdown",
   "metadata": {}
  },
  {
   "cell_type": "code",
   "execution_count": 3,
   "metadata": {},
   "outputs": [],
   "source": [
    "erasenum.value = 1"
   ]
  },
  {
   "cell_type": "code",
   "execution_count": 4,
   "metadata": {},
   "outputs": [],
   "source": [
    "erasenum.value = 0"
   ]
  },
  {
   "cell_type": "code",
   "execution_count": 5,
   "metadata": {},
   "outputs": [],
   "source": [
    "recnum.value = 1"
   ]
  },
  {
   "cell_type": "code",
   "execution_count": 6,
   "metadata": {},
   "outputs": [],
   "source": [
    "recnum.value = 0"
   ]
  },
  {
   "source": [
    "## Napadač\n",
    "\n",
    "#### ako vidimo loptu:\n",
    "\n",
    "1. izračunamo kut pod kojim bi se trebali kretati da ga uhvatimo\n",
    "2. promjenimo ga ukoliko ide prema crti\n",
    "3. smanjimo brzinu ukoliko idemo prema crti \n",
    "4. smanjimo brzinu ukoliko je lopta blizu\n",
    "5. \n",
    "ukoliko smo detektirali da smo van linije:\n",
    "- vratimo se nazad\n",
    "\n",
    "inače:\n",
    "- idemo za balunom s izračunatim kutem\n",
    "\n",
    "\n",
    "#### ako ne vidimo loptu:\n",
    "- vratimo se u sredinu terena\n"
   ],
   "cell_type": "markdown",
   "metadata": {}
  },
  {
   "cell_type": "code",
   "execution_count": 7,
   "metadata": {},
   "outputs": [],
   "source": [
    "def attacker():\n",
    "    if seeball > 2:\n",
    "        robot_speed = 0.3\n",
    "        ba = mov.robot_angle_to_catch_ball(angle, x, y)\n",
    "        _, ba = mov.flatten_angle_attacker(upper_dist=1200, x=x, y=y, ant=ba, speed=robot_speed)\n",
    "        robot_speed, angle_out = mov.adaptive_speed_line_attacker(max_speed=0.4 , min_speed=0, upper_dist=800, x=x, y=y, ant=(ba)%360)\n",
    "        robot_speed_ball = mov.adaptive_speed_ball(ba, dist, robot_speed, 0.3)\n",
    "        min_speed = robot_speed if robot_speed_ball > robot_speed else robot_speed_ball\n",
    "        if angle_out is None:\n",
    "            comm.set_moving_angle(ba, min_speed)\n",
    "        else:\n",
    "            comm.set_moving_angle(angle_out, robot_speed)\n",
    "    else:\n",
    "        mov.move_to(x, y, field.x/2+100, field.y/2+350, 0.5)    "
   ]
  },
  {
   "source": [
    "## Golman\n",
    "\n",
    "#### ako vidimo loptu:\n",
    "\n",
    "1. izračunamo kut pod kojim bi se trebali kretati da ga stanemo izmedu njega i gola\n",
    "2. smanjimo brzinu ukoliko idemo prema crti (zamišljenoj koja se nalazi malo izvan jedanaesterca) \n",
    "3. ukoliko je lopta bliže od 20cm moramo je uhvatiti prema pravilima nakon 10s zato:\n",
    "- zapamtimo vrijeme te ukoliko nakon 7s idalje stoji lopta bliže od 35cm (radi sigurnosti) idemo prema njoj\n",
    "\n",
    "\n",
    "#### ako ne vidimo loptu:\n",
    "- vratimo se u sredinu gola"
   ],
   "cell_type": "markdown",
   "metadata": {}
  },
  {
   "cell_type": "code",
   "execution_count": 8,
   "metadata": {},
   "outputs": [],
   "source": [
    "def goalief(ball_angle, ball_size, ball_distance, goalie_last_time):\n",
    "    robot_speed = 0.3\n",
    "    if seeball > 2:\n",
    "        dirr = math.sin(math.radians(ball_angle))\n",
    "        ba = 0 if ball_angle<0 else 180\n",
    "        robot_max_speed = 0.4*abs(dirr)\n",
    "        robot_speed, angle_out = mov.adaptive_speed_line_goalie(max_speed=robot_max_speed , min_speed=0, upper_dist=200, x=x, y=y, ant=(ba)%360)\n",
    "        \n",
    "        \n",
    "        if ball_distance > 350:\n",
    "            goalie_last_time = time.time()  \n",
    "        if time.time() - goalie_last_time  > 7:\n",
    "            attacker()\n",
    "            return goalie_last_time\n",
    "        min_speed = robot_speed\n",
    "        if angle_out is None:\n",
    "            comm.set_moving_angle(ba, min_speed)\n",
    "        else:\n",
    "            comm.set_moving_angle(angle_out, robot_speed)\n",
    "    else:\n",
    "        mov.move_to(x, y, field.x/2, 520, 0.7)\n",
    "        goalie_last_time = time.time()\n",
    "    return goalie_last_time    \n",
    "        \n",
    "        "
   ]
  },
  {
   "source": [
    "## Glavna Petlja\n",
    "Prvo čekamo da se stisne prekidač0 pa stavimo orijentaciju i čekamo ponovno.\n",
    "\n",
    "1. skupimo updateane vrijednosti koje su nam procesi p1 i p2 dali\n",
    "2. seeball je varijabla koja sprečava da naglo promjenimo sve ukoliko jedan frame nismo vidjeli loptu, ona služi da se izbjegne trzanje koje bi nastalo ako tren vidimo loptu tren ne\n",
    "3. ukoliko neku koordinatu nismo detektirali koristit cemo zadnju\n",
    "4. gledamo prekidač2:\n",
    "- ukoliko je u stanju 1 ---> golman\n",
    "- ukoliko je u stanju 0 ---> napadač\n",
    ". ako je lopta blizu udarimo kickerom\n",
    " \n",
    "\n"
   ],
   "cell_type": "markdown",
   "metadata": {}
  },
  {
   "cell_type": "code",
   "execution_count": null,
   "metadata": {},
   "outputs": [],
   "source": [
    "while s.state(0):\n",
    "    a = 0\n",
    "comm.set_orientation()\n",
    "while not s.state(0):\n",
    "    a = 0\n",
    "comm.start()\n",
    "x = field.x / 2 + 0.01\n",
    "y = field.y / 2 + 0.012\n",
    "seeball = 0\n",
    "robot_speed = 0.1\n",
    "goalie = False\n",
    "goalie_last_time = 0\n",
    "\n",
    "while True:\n",
    "    xc = xnum.value\n",
    "    yc = ynum.value\n",
    "    angle = anglenum.value\n",
    "    ball_size = sizenum.value\n",
    "    dist = distnum.value   \n",
    "\n",
    "    seeball += 1 if ball_size > 200 else -3 \n",
    "    if seeball > 10:\n",
    "        seeball = 10\n",
    "    if seeball < -1:\n",
    "        seeball = -1\n",
    "        \n",
    "    if (xc != -1):\n",
    "        x = xc\n",
    "    if (yc != -1): \n",
    "        y = yc\n",
    "    if not s.state(2):   \n",
    "        goalie_last_time = goalief(ball_angle = angle, ball_size = ball_size, ball_distance = dist, goalie_last_time=goalie_last_time)\n",
    "    else:\n",
    "        attacker()\n",
    "    if angle > -10 and angle<10 and dist < 155 and dist > 135 and ball_size > 1300 and ball_size < 1600:\n",
    "        comm.kick()\n",
    "        time.sleep(0.005)\n",
    "    time.sleep(0.005)\n",
    "    s.check_pause()"
   ]
  }
 ],
 "metadata": {
  "kernelspec": {
   "display_name": "Python 3",
   "language": "python",
   "name": "python3"
  },
  "language_info": {
   "codemirror_mode": {
    "name": "ipython",
    "version": 3
   },
   "file_extension": ".py",
   "mimetype": "text/x-python",
   "name": "python",
   "nbconvert_exporter": "python",
   "pygments_lexer": "ipython3",
   "version": "3.8.2-final"
  }
 },
 "nbformat": 4,
 "nbformat_minor": 2
}