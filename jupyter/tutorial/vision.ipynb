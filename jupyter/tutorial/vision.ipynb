{
 "metadata": {
  "language_info": {
   "codemirror_mode": {
    "name": "ipython",
    "version": 3
   },
   "file_extension": ".py",
   "mimetype": "text/x-python",
   "name": "python",
   "nbconvert_exporter": "python",
   "pygments_lexer": "ipython3",
   "version": "3.8.2-final"
  },
  "orig_nbformat": 2,
  "kernelspec": {
   "name": "python38264bit41770f51cb494085b126429b02db281f",
   "display_name": "Python 3.8.2 64-bit"
  }
 },
 "nbformat": 4,
 "nbformat_minor": 2,
 "cells": [
  {
   "source": [
    "# Vision\n",
    "\n",
    "Ovaj modul sadrži osnovne funkcije za procesurianje slika.\n",
    "\n",
    "Kako ne radimo u direktoriju u kojem se nalazi robocup folder treba donje dvije komande izvršiti (samo jednom)."
   ],
   "cell_type": "markdown",
   "metadata": {}
  },
  {
   "cell_type": "code",
   "execution_count": 1,
   "metadata": {},
   "outputs": [],
   "source": [
    "import sys\n",
    "sys.path.append('../')"
   ]
  },
  {
   "source": [
    "Ubacimo modul za vid."
   ],
   "cell_type": "markdown",
   "metadata": {}
  },
  {
   "cell_type": "code",
   "execution_count": 2,
   "metadata": {},
   "outputs": [
    {
     "output_type": "error",
     "ename": "ModuleNotFoundError",
     "evalue": "No module named 'picamera'",
     "traceback": [
      "\u001b[0;31m---------------------------------------------------------------------------\u001b[0m",
      "\u001b[0;31mModuleNotFoundError\u001b[0m                       Traceback (most recent call last)",
      "\u001b[0;32m<ipython-input-2-0c56924a9437>\u001b[0m in \u001b[0;36m<module>\u001b[0;34m\u001b[0m\n\u001b[0;32m----> 1\u001b[0;31m \u001b[0;32mfrom\u001b[0m \u001b[0mrobocup\u001b[0m \u001b[0;32mimport\u001b[0m \u001b[0mvision\u001b[0m\u001b[0;34m\u001b[0m\u001b[0;34m\u001b[0m\u001b[0m\n\u001b[0m",
      "\u001b[0;32m~/robotika/2020/jupyter/robocup/vision.py\u001b[0m in \u001b[0;36m<module>\u001b[0;34m\u001b[0m\n\u001b[1;32m      3\u001b[0m \u001b[0;32mimport\u001b[0m \u001b[0mmatplotlib\u001b[0m\u001b[0;34m.\u001b[0m\u001b[0mpyplot\u001b[0m \u001b[0;32mas\u001b[0m \u001b[0mplt\u001b[0m\u001b[0;34m\u001b[0m\u001b[0;34m\u001b[0m\u001b[0m\n\u001b[1;32m      4\u001b[0m \u001b[0;32mimport\u001b[0m \u001b[0mmath\u001b[0m\u001b[0;34m\u001b[0m\u001b[0;34m\u001b[0m\u001b[0m\n\u001b[0;32m----> 5\u001b[0;31m \u001b[0;32mfrom\u001b[0m \u001b[0mpicamera\u001b[0m\u001b[0;34m.\u001b[0m\u001b[0marray\u001b[0m \u001b[0;32mimport\u001b[0m \u001b[0mPiRGBArray\u001b[0m\u001b[0;34m\u001b[0m\u001b[0;34m\u001b[0m\u001b[0m\n\u001b[0m\u001b[1;32m      6\u001b[0m \u001b[0;32mfrom\u001b[0m \u001b[0mpicamera\u001b[0m \u001b[0;32mimport\u001b[0m \u001b[0mPiCamera\u001b[0m\u001b[0;34m\u001b[0m\u001b[0;34m\u001b[0m\u001b[0m\n\u001b[1;32m      7\u001b[0m \u001b[0;32mimport\u001b[0m \u001b[0mtime\u001b[0m\u001b[0;34m\u001b[0m\u001b[0;34m\u001b[0m\u001b[0m\n",
      "\u001b[0;31mModuleNotFoundError\u001b[0m: No module named 'picamera'"
     ]
    }
   ],
   "source": [
    "from robocup import vision"
   ]
  },
  {
   "source": [
    "Modul vision.py nema puno funkcija, koje bi se trebale koristiti van samoga modula. Tu su dvije samo funkcije \n",
    "\n",
    "- detect_the_ball(anglenum, dist, sizenum, recnum, erasenum, debug \n",
    "- dist_from_size(size)\n",
    "\n",
    "detect_the_ball je napravljena tako da ne radi na istom procesu kao i glavni program te zbog toga joj argumenti nisu int-ovi ili float-ovi, nego multiprocessing.Value, kako bi se mogle dijeliti informacije između procesa. zadnji argument je debug koji kada je True omogućava vizualizaciju.\n",
    "\n",
    "num na kraju imena je konvencija ovoga python paketa da je varijabla tipa multiprocessing.Value\n",
    "\n",
    "Funkcija detect_the_ball() ima u sebi beskonačnu petlju tako da bi ona trebala uvijek raditi uz taj glavni program. Ovdje cemo pustit funkciju na isti proces tako da je treba prekinuti prije nego se želi ići dalje."
   ],
   "cell_type": "markdown",
   "metadata": {
    "tags": []
   }
  },
  {
   "cell_type": "code",
   "execution_count": null,
   "metadata": {},
   "outputs": [],
   "source": [
    "from multiprocessing import Value\n",
    "\n",
    "anglenum = Value('d', 0.0)\n",
    "distnum = Value('d', 0.0)\n",
    "sizenum = Value('d', 0.0)\n",
    "recnum = Value('d', 0.0)\n",
    "erasenum = Value('d', 0.0)\n",
    "debug = True\n",
    "\n",
    "vision.detect_the_ball(anglenum, distnum, sizenum, recnum, erasenum, debug)"
   ]
  },
  {
   "source": [
    "Unutar funkcije detect_the_ball() su thresholdovi za detekciju lopte te ukoliko se želi to mijenjati treba se izravno u njoj promijeniti."
   ],
   "cell_type": "markdown",
   "metadata": {}
  },
  {
   "source": [
    "Ukoliko želimo da je detect_the_ball() na drugom procesu to izvršiti preko multiprocessinga. U ovom primjeru debug će biti False no to nije potrebno u stvarnome korištenju:"
   ],
   "cell_type": "markdown",
   "metadata": {}
  },
  {
   "cell_type": "code",
   "execution_count": null,
   "metadata": {},
   "outputs": [],
   "source": [
    "from multiprocessing import Process\n",
    "debug = False\n",
    "\n",
    "p1 = Process(target=vision.detect_the_ball, args=(anglenum, distnum, sizenum, recnum, erasenum, debug))\n",
    "p1.start()"
   ]
  },
  {
   "source": [
    "Sada možemo koristiti prijašnje *num varijable te će se one updateati automatiski, tj. dok god radi proces p1. \n",
    "\n",
    "- anglenum.value daje kut pod kojim je lopta\n",
    "- distnum.value daje udaljenost lopte (dosta neprecizno)\n",
    "- sizenum.value daje pixel velićinu lopte"
   ],
   "cell_type": "markdown",
   "metadata": {}
  },
  {
   "cell_type": "code",
   "execution_count": null,
   "metadata": {},
   "outputs": [],
   "source": [
    "anglenum.value, distnum.value, sizenum.value"
   ]
  },
  {
   "cell_type": "code",
   "execution_count": null,
   "metadata": {},
   "outputs": [],
   "source": [
    "anglenum.value, distnum.value, sizenum.value"
   ]
  },
  {
   "cell_type": "code",
   "execution_count": null,
   "metadata": {},
   "outputs": [],
   "source": [
    "anglenum.value, distnum.value, sizenum.value"
   ]
  },
  {
   "source": [
    "Procces možemo i zaustaviti:"
   ],
   "cell_type": "markdown",
   "metadata": {}
  },
  {
   "cell_type": "code",
   "execution_count": null,
   "metadata": {},
   "outputs": [],
   "source": [
    "p1.terminate()"
   ]
  },
  {
   "source": [
    "Ostaje još funkcija dist_from_size() koja kao argument prima velicinu lopte u pixelima i vraća njezinu udaljenost u milimetrima:"
   ],
   "cell_type": "markdown",
   "metadata": {}
  },
  {
   "cell_type": "code",
   "execution_count": 3,
   "metadata": {},
   "outputs": [
    {
     "output_type": "error",
     "ename": "NameError",
     "evalue": "name 'vision' is not defined",
     "traceback": [
      "\u001b[0;31m---------------------------------------------------------------------------\u001b[0m",
      "\u001b[0;31mNameError\u001b[0m                                 Traceback (most recent call last)",
      "\u001b[0;32m<ipython-input-3-0296b6e508da>\u001b[0m in \u001b[0;36m<module>\u001b[0;34m\u001b[0m\n\u001b[0;32m----> 1\u001b[0;31m \u001b[0mvision\u001b[0m\u001b[0;34m.\u001b[0m\u001b[0mdist_from_size\u001b[0m\u001b[0;34m(\u001b[0m\u001b[0;36m100\u001b[0m\u001b[0;34m)\u001b[0m\u001b[0;34m\u001b[0m\u001b[0;34m\u001b[0m\u001b[0m\n\u001b[0m",
      "\u001b[0;31mNameError\u001b[0m: name 'vision' is not defined"
     ]
    }
   ],
   "source": [
    "vision.dist_from_size(100)"
   ]
  },
  {
   "source": [
    "robot_angle_to_catch_ball() uzima kut lopte te koordinate robota i vraća kut pod kojim bi se trebao robot kretati da je uhvati s prednjim dijelom."
   ],
   "cell_type": "markdown",
   "metadata": {}
  },
  {
   "source": [
    "Popis svega"
   ],
   "cell_type": "markdown",
   "metadata": {}
  },
  {
   "cell_type": "code",
   "execution_count": 4,
   "metadata": {},
   "outputs": [
    {
     "output_type": "error",
     "ename": "NameError",
     "evalue": "name 'vision' is not defined",
     "traceback": [
      "\u001b[0;31m---------------------------------------------------------------------------\u001b[0m",
      "\u001b[0;31mNameError\u001b[0m                                 Traceback (most recent call last)",
      "\u001b[0;32m<ipython-input-4-82d1cb713638>\u001b[0m in \u001b[0;36m<module>\u001b[0;34m\u001b[0m\n\u001b[0;32m----> 1\u001b[0;31m \u001b[0mhelp\u001b[0m\u001b[0;34m(\u001b[0m\u001b[0mvision\u001b[0m\u001b[0;34m)\u001b[0m\u001b[0;34m\u001b[0m\u001b[0;34m\u001b[0m\u001b[0m\n\u001b[0m",
      "\u001b[0;31mNameError\u001b[0m: name 'vision' is not defined"
     ]
    }
   ],
   "source": [
    "help(vision)"
   ]
  }
 ]
}