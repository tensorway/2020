{
 "cells": [
  {
   "cell_type": "code",
   "execution_count": 1,
   "metadata": {},
   "outputs": [],
   "source": [
    "import math\n",
    "import time\n",
    "import numpy as np\n",
    "from robocup import field\n",
    "from robocup import vision\n",
    "from robocup import switches as s\n",
    "from robocup import movement as mov\n",
    "from robocup import commands as comm\n",
    "from robocup import localization as loc\n",
    "#from filterpy.kalman import KalmanFilter\n",
    "from multiprocessing import Process, Value\n",
    "#from filterpy.common import Q_discrete_white_noise\n",
    "from robocup import bluetooth_communication as blu\n",
    "\n",
    "\n",
    "robot_angle = 225"
   ]
  },
  {
   "cell_type": "code",
   "execution_count": 2,
   "metadata": {
    "scrolled": true
   },
   "outputs": [
    {
     "name": "stdout",
     "output_type": "stream",
     "text": [
      "640x480\n",
      "640x480\n"
     ]
    },
    {
     "name": "stderr",
     "output_type": "stream",
     "text": [
      "Too many measurments in the input buffer: 574/500. Clearing buffer...\n",
      "Too many measurments in the input buffer: 501/500. Clearing buffer...\n",
      "Too many measurments in the input buffer: 615/500. Clearing buffer...\n"
     ]
    }
   ],
   "source": [
    "xnum = Value('d', 0.0)\n",
    "ynum = Value('d', 0.0)\n",
    "anglenum = Value('d', 0.0)\n",
    "distnum = Value('d', 0.0)\n",
    "sizenum = Value('d', 0.0)\n",
    "recnum = Value('d', 0.0)\n",
    "erasenum = Value('d', 0.0)\n",
    "#vision.detect_the_ball(anglenum, distnum, sizenum, recnum, True)\n",
    "p1 = Process(target=loc.localize, args=(robot_angle, xnum, ynum, False))\n",
    "p2 = Process(target=vision.detect_the_ball, args=(anglenum, distnum, sizenum, recnum, erasenum, False))\n",
    "p1.start()\n",
    "p2.start()"
   ]
  },
  {
   "cell_type": "code",
   "execution_count": 3,
   "metadata": {},
   "outputs": [],
   "source": [
    "erasenum.value = 1"
   ]
  },
  {
   "cell_type": "code",
   "execution_count": 4,
   "metadata": {},
   "outputs": [],
   "source": [
    "erasenum.value = 0"
   ]
  },
  {
   "cell_type": "code",
   "execution_count": 5,
   "metadata": {},
   "outputs": [],
   "source": [
    "recnum.value = 1"
   ]
  },
  {
   "cell_type": "code",
   "execution_count": 6,
   "metadata": {},
   "outputs": [],
   "source": [
    "recnum.value = 0"
   ]
  },
  {
   "cell_type": "code",
   "execution_count": null,
   "metadata": {},
   "outputs": [],
   "source": [
    "while s.state(0):\n",
    "    a = 0\n",
    "comm.set_orientation()\n",
    "while not s.state(0):\n",
    "    a = 0\n",
    "comm.start()\n",
    "x = field.x / 2 + 0.01\n",
    "y = field.y / 2 + 0.012\n",
    "seeball = 0\n",
    "robot_speed = 0.1\n",
    "goalie = False\n",
    "goalie_last_time = 0\n",
    "\n",
    "while True:\n",
    "    xc = xnum.value\n",
    "    yc = ynum.value\n",
    "    angle = anglenum.value\n",
    "    ball_size = sizenum.value\n",
    "    dist = distnum.value   \n",
    "\n",
    "    seeball += 1 if ball_size > 0 else -1 \n",
    "    if seeball > 3:\n",
    "        seeball = 3\n",
    "    if seeball < -1:\n",
    "        seeball = -1\n",
    "        \n",
    "    if (xc != -1):\n",
    "        x = xc\n",
    "    if (yc != -1): \n",
    "        y = yc\n",
    "        \n",
    "    if s.state(2):\n",
    "        goalie_last_time = goalief(angle, ball_size, dist, goalie_last_time)\n",
    "    else:\n",
    "        attacker()\n",
    "    #print(x, y, robot_speed, angle, ba, seeball)#,  end = '\\r')\n",
    "    time.sleep(0.005)\n",
    "    s.check_pause()\n",
    "    if not s.state(3):\n",
    "        break"
   ]
  },
  {
   "cell_type": "code",
   "execution_count": 7,
   "metadata": {},
   "outputs": [],
   "source": [
    "def attacker():\n",
    "    if seeball > 2:\n",
    "        robot_speed = 0.3\n",
    "        ba = mov.robot_angle_to_catch_ball(angle, x, y)\n",
    "        _, ba = mov.flatten_angle_attacker(upper_dist=800, x=x, y=y, ant=ba, speed=robot_speed)\n",
    "        robot_speed, angle_out = mov.adaptive_speed_line(max_speed=0.4 , min_speed=0, upper_dist=800, x=x, y=y, ant=(ba)%360)\n",
    "        \n",
    "        min_speed = robot_speed\n",
    "        if angle_out is None:\n",
    "            comm.set_moving_angle(ba, min_speed)\n",
    "        else:\n",
    "            comm.set_moving_angle(angle_out, robot_speed)\n",
    "    else:\n",
    "        mov.move_to(x, y, field.x/2, field.y/2, 0.6)    "
   ]
  },
  {
   "cell_type": "code",
   "execution_count": 8,
   "metadata": {},
   "outputs": [],
   "source": [
    "def goalief(ball_angle, ball_size, ball_distance, goalie_last_time):\n",
    "    robot_speed = 0.3\n",
    "    #print (time.time() - goalie_last_time, ball_distance, seeball)\n",
    "    if seeball > 2:\n",
    "        dirr = math.sin(math.radians(ball_angle))\n",
    "        ba = 0 if ball_angle<0 else 180\n",
    "        robot_max_speed = 0.4*abs(dirr)\n",
    "        #ba = mov.robot_angle_to_catch_ball(ball_angle, x, y)\n",
    "        #print(\"ba1=\", ba)\n",
    "        ##_, ba = mov.flatten_angle_goalie(upper_dist=800, x=x, y=y, ant=ba, speed=robot_speed)\n",
    "        #print(\"ba flat=\", ba)\n",
    "        #robot_speed, ba = mov.goalie_vector_transform(x, y, ba, robot_max_speed)\n",
    "        ##robot_speed, ba = mov.goalie_vector_transform(x, y, ba, robot_speed)\n",
    "        robot_speed, angle_out = mov.adaptive_speed_line_goalie(max_speed=robot_max_speed , min_speed=0, upper_dist=200, x=x, y=y, ant=(ba)%360)\n",
    "        \n",
    "        \n",
    "        if ball_distance > 350:\n",
    "            goalie_last_time = time.time()  \n",
    "        if time.time() - goalie_last_time  > 7:\n",
    "            #robot_speed, ba = mov.goalie_vector_transform(x, y, ba, robot_speed)\n",
    "            attacker()\n",
    "            return goalie_last_time\n",
    "        min_speed = robot_speed\n",
    "        if angle_out is None:\n",
    "            comm.set_moving_angle(ba, min_speed)\n",
    "        else:\n",
    "            comm.set_moving_angle(angle_out, robot_speed)\n",
    "    else:\n",
    "        mov.move_to(x, y, field.x/2, 520, 0.7)\n",
    "        goalie_last_time = time.time()\n",
    "    return goalie_last_time    \n",
    "        \n",
    "        "
   ]
  },
  {
   "cell_type": "code",
   "execution_count": 5,
   "metadata": {},
   "outputs": [
    {
     "data": {
      "text/plain": [
       "(0.1902629759044045, 273.01278750418334)"
      ]
     },
     "execution_count": 5,
     "metadata": {},
     "output_type": "execute_result"
    }
   ],
   "source": [
    "mov.goalie_vector_transform(900, 900, 0, 0)"
   ]
  },
  {
   "cell_type": "code",
   "execution_count": 15,
   "metadata": {},
   "outputs": [
    {
     "ename": "NameError",
     "evalue": "name 'KalmanFilter' is not defined",
     "output_type": "error",
     "traceback": [
      "\u001b[0;31m---------------------------------------------------------------------------\u001b[0m",
      "\u001b[0;31mNameError\u001b[0m                                 Traceback (most recent call last)",
      "\u001b[0;32m<ipython-input-15-b73d08fd111b>\u001b[0m in \u001b[0;36m<module>\u001b[0;34m()\u001b[0m\n\u001b[1;32m      1\u001b[0m \u001b[0mdt\u001b[0m \u001b[0;34m=\u001b[0m \u001b[0;36m0.005\u001b[0m\u001b[0;34m\u001b[0m\u001b[0;34m\u001b[0m\u001b[0m\n\u001b[0;32m----> 2\u001b[0;31m \u001b[0mkf\u001b[0m \u001b[0;34m=\u001b[0m \u001b[0mKalmanFilter\u001b[0m \u001b[0;34m(\u001b[0m\u001b[0mdim_x\u001b[0m\u001b[0;34m=\u001b[0m\u001b[0;36m4\u001b[0m\u001b[0;34m,\u001b[0m \u001b[0mdim_z\u001b[0m\u001b[0;34m=\u001b[0m\u001b[0;36m2\u001b[0m\u001b[0;34m)\u001b[0m\u001b[0;34m\u001b[0m\u001b[0;34m\u001b[0m\u001b[0m\n\u001b[0m\u001b[1;32m      3\u001b[0m f.x = np.array([[field.x/2],\n\u001b[1;32m      4\u001b[0m                 \u001b[0;34m[\u001b[0m\u001b[0mfield\u001b[0m\u001b[0;34m.\u001b[0m\u001b[0my\u001b[0m\u001b[0;34m/\u001b[0m\u001b[0;36m2\u001b[0m\u001b[0;34m]\u001b[0m\u001b[0;34m,\u001b[0m\u001b[0;34m\u001b[0m\u001b[0;34m\u001b[0m\u001b[0m\n\u001b[1;32m      5\u001b[0m                 \u001b[0;34m[\u001b[0m\u001b[0;36m0.\u001b[0m\u001b[0;34m]\u001b[0m\u001b[0;34m,\u001b[0m\u001b[0;34m\u001b[0m\u001b[0;34m\u001b[0m\u001b[0m\n",
      "\u001b[0;31mNameError\u001b[0m: name 'KalmanFilter' is not defined"
     ]
    }
   ],
   "source": [
    "dt = 0.005\n",
    "kf = KalmanFilter (dim_x=4, dim_z=2)\n",
    "f.x = np.array([[field.x/2],\n",
    "                [field.y/2],\n",
    "                [0.], \n",
    "                [0.]])   \n",
    "    \n",
    "f.F = np.array([[1., 0., dt, 0.],\n",
    "                [0., 1., 0., dt],\n",
    "                [0., 0., 1., 0.],\n",
    "                [0., 0., 0., 1.]])\n",
    "    \n",
    "f.H = np.array([[1., 0., 0., 0.],\n",
    "                [0., 1., 0., 0.]])\n",
    "    \n",
    "f.P *= 1000.\n",
    "R = np.array([[50., 50.]])\n",
    "R_nox = np.array([[50000., 50.]])\n",
    "R_noy = np.array([[50000., 50.]])\n",
    "R_noxy = np.array([[50000., 50000.]])\n",
    "f.R = R\n",
    "f.Q = Q_discrete_white_noise(dim=4, dt=dt, var=0.13)\n",
    "last_filter_call = time.time()\n",
    "d_filter_call = 0.005\n",
    "xf = field.x/2\n",
    "yf = field.y/2\n",
    "def filter_loc(was_measurment_updated, xm, ym):\n",
    "    if was_measurment_updated:\n",
    "        f.predict()\n",
    "        f.update(z)\n",
    "    elif time.time() - last_filter_call > d_filter_call:\n",
    "        f.predict()\n",
    "        \n",
    "    print(f.x) \n",
    "    return f.x[0], f.x[1]"
   ]
  },
  {
   "cell_type": "code",
   "execution_count": 4,
   "metadata": {},
   "outputs": [
    {
     "data": {
      "text/plain": [
       "0"
      ]
     },
     "execution_count": 4,
     "metadata": {},
     "output_type": "execute_result"
    }
   ],
   "source": [
    "20*(0>0)"
   ]
  },
  {
   "cell_type": "code",
   "execution_count": 1,
   "metadata": {},
   "outputs": [],
   "source": [
    "from robocup import movement as mov\n",
    "lines = [\n",
    "    [260, 260, 570, 260],\n",
    "    [570, 260, 570, 410],\n",
    "    [570, 410, 660, 520],\n",
    "    [660, 520, 1160, 520],\n",
    "    [1160, 520, 1250, 410],\n",
    "    [1250, 410, 1250, 260],\n",
    "    [1250, 260, 1560, 260],\n",
    "    [1560, 260, 1560, 2170],\n",
    "    [1560, 2170, 1250, 2170],\n",
    "    [1250, 2170, 1250, 2020],\n",
    "    [1250, 2020, 1160, 1910],\n",
    "    [1160, 1910, 660, 1910],\n",
    "    [660, 1910, 570, 2020],\n",
    "    [570, 2020, 570, 2170],\n",
    "    [570, 2170, 260, 2170],\n",
    "    [260, 2170, 260, 260]\n",
    "]"
   ]
  },
  {
   "cell_type": "code",
   "execution_count": 3,
   "metadata": {},
   "outputs": [
    {
     "name": "stdout",
     "output_type": "stream",
     "text": [
      "Help on module robocup.movement in robocup:\n",
      "\n",
      "NAME\n",
      "    robocup.movement\n",
      "\n",
      "FUNCTIONS\n",
      "    adaptive_speed_ball(angle_to_go, ball_dist, speed, ball_close_speed)\n",
      "    \n",
      "    adaptive_speed_line(max_speed, min_speed, upper_dist, x, y, ant)\n",
      "    \n",
      "    adaptive_speed_rect(max_speed, min_speed, ball_close_speed, upper_dist, lower_dist, x, y, ant, ball_dist)\n",
      "    \n",
      "    flatten_angle(upper_dist, x, y, ant)\n",
      "    \n",
      "    line_dists(x1, y1)\n",
      "    \n",
      "    move_to(x0, y0, x, y)\n",
      "    \n",
      "    robot_angle_to_catch_ball(ball_angle, x, y)\n",
      "\n",
      "DATA\n",
      "    lines = [[260, 260, 570, 260], [570, 260, 570, 410], [570, 410, 660, 5...\n",
      "\n",
      "FILE\n",
      "    /home/pi/Desktop/24.11.2019. - 21h/jupyter/robocup/movement.py\n",
      "\n",
      "\n"
     ]
    }
   ],
   "source": [
    "help(mov)"
   ]
  },
  {
   "cell_type": "code",
   "execution_count": 14,
   "metadata": {},
   "outputs": [
    {
     "data": {
      "text/plain": [
       "(-8.752538256722763, 0.6259580211832472)"
      ]
     },
     "execution_count": 14,
     "metadata": {},
     "output_type": "execute_result"
    }
   ],
   "source": [
    "mov.flatten_angle(300, 540, 770, 300, 1)"
   ]
  },
  {
   "cell_type": "code",
   "execution_count": null,
   "metadata": {},
   "outputs": [],
   "source": []
  }
 ],
 "metadata": {
  "kernelspec": {
   "display_name": "Python 3",
   "language": "python",
   "name": "python3"
  },
  "language_info": {
   "codemirror_mode": {
    "name": "ipython",
    "version": 3
   },
   "file_extension": ".py",
   "mimetype": "text/x-python",
   "name": "python",
   "nbconvert_exporter": "python",
   "pygments_lexer": "ipython3",
   "version": "3.7.3"
  }
 },
 "nbformat": 4,
 "nbformat_minor": 2
}
