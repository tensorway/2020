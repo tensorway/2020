{
 "metadata": {
  "language_info": {
   "codemirror_mode": {
    "name": "ipython",
    "version": 3
   },
   "file_extension": ".py",
   "mimetype": "text/x-python",
   "name": "python",
   "nbconvert_exporter": "python",
   "pygments_lexer": "ipython3",
   "version": "3.8.2-final"
  },
  "orig_nbformat": 2,
  "kernelspec": {
   "name": "python38264bit41770f51cb494085b126429b02db281f",
   "display_name": "Python 3.8.2 64-bit"
  }
 },
 "nbformat": 4,
 "nbformat_minor": 2,
 "cells": [
  {
   "source": [
    "# Localization\n",
    "\n",
    "Ovaj modul sadrži funkcije potrebne za lokalizaciju robota.\n",
    "\n",
    "Kako ne radimo u direktoriju u kojem se nalazi robocup folder treba donje dvije komande izvršiti (samo jednom)."
   ],
   "cell_type": "markdown",
   "metadata": {}
  },
  {
   "cell_type": "code",
   "execution_count": 1,
   "metadata": {},
   "outputs": [],
   "source": [
    "import sys\n",
    "sys.path.append('../')"
   ]
  },
  {
   "source": [
    "Uvoz localization modula"
   ],
   "cell_type": "markdown",
   "metadata": {}
  },
  {
   "cell_type": "code",
   "execution_count": 2,
   "metadata": {},
   "outputs": [
    {
     "output_type": "error",
     "ename": "ModuleNotFoundError",
     "evalue": "No module named 'rplidar'",
     "traceback": [
      "\u001b[0;31m---------------------------------------------------------------------------\u001b[0m",
      "\u001b[0;31mModuleNotFoundError\u001b[0m                       Traceback (most recent call last)",
      "\u001b[0;32m<ipython-input-2-ecae35d1b06f>\u001b[0m in \u001b[0;36m<module>\u001b[0;34m\u001b[0m\n\u001b[0;32m----> 1\u001b[0;31m \u001b[0;32mfrom\u001b[0m \u001b[0mrobocup\u001b[0m \u001b[0;32mimport\u001b[0m \u001b[0mlocalization\u001b[0m \u001b[0;32mas\u001b[0m \u001b[0mloc\u001b[0m\u001b[0;34m\u001b[0m\u001b[0;34m\u001b[0m\u001b[0m\n\u001b[0m",
      "\u001b[0;32m~/robotika/2020/jupyter/robocup/localization.py\u001b[0m in \u001b[0;36m<module>\u001b[0;34m\u001b[0m\n\u001b[1;32m      1\u001b[0m \u001b[0;32mimport\u001b[0m \u001b[0msys\u001b[0m\u001b[0;34m\u001b[0m\u001b[0;34m\u001b[0m\u001b[0m\n\u001b[0;32m----> 2\u001b[0;31m \u001b[0;32mfrom\u001b[0m \u001b[0mrplidar\u001b[0m \u001b[0;32mimport\u001b[0m \u001b[0mRPLidar\u001b[0m\u001b[0;34m\u001b[0m\u001b[0;34m\u001b[0m\u001b[0m\n\u001b[0m\u001b[1;32m      3\u001b[0m \u001b[0;32mimport\u001b[0m \u001b[0mnumpy\u001b[0m \u001b[0;32mas\u001b[0m \u001b[0mnp\u001b[0m\u001b[0;34m\u001b[0m\u001b[0;34m\u001b[0m\u001b[0m\n\u001b[1;32m      4\u001b[0m \u001b[0;32mimport\u001b[0m \u001b[0mtime\u001b[0m\u001b[0;34m\u001b[0m\u001b[0;34m\u001b[0m\u001b[0m\n\u001b[1;32m      5\u001b[0m \u001b[0;32mimport\u001b[0m \u001b[0mmath\u001b[0m\u001b[0;34m\u001b[0m\u001b[0;34m\u001b[0m\u001b[0m\n",
      "\u001b[0;31mModuleNotFoundError\u001b[0m: No module named 'rplidar'"
     ]
    }
   ],
   "source": [
    "from robocup import localization as loc"
   ]
  },
  {
   "source": [
    "Modul localization.py nema puno funkcija koje bi se trebale koristiti van samoga modula. Tu je samo jedna funkcija:\n",
    "\n",
    "- localize(robot_angle, xnum, ynum, debug)\n",
    "localize je napravljena tako da ne radi na istom procesu kao i glavni program te zbog toga joj argumenti nisu int-ovi ili float-ovi, nego multiprocessing.Value, kako bi se mogle dijeliti informacije između procesa. Zadnji argument je debug koji kada je True omogućava vizualizaciju, a prvi kut pod kojim je lidar u odnosu na robota (on je obično 225).\n",
    "\n",
    "num na kraju imena je konvencija ovoga python paketa da je varijabla tipa multiprocessing.Value\n",
    "\n",
    "Funkcija localize() ima u sebi beskonačnu petlju tako da bi ona trebala uvijek raditi uz taj glavni program. Ovdje cemo pustit funkciju na isti proces tako da je treba prekinuti prije nego se želi ići dalje."
   ],
   "cell_type": "markdown",
   "metadata": {}
  },
  {
   "cell_type": "code",
   "execution_count": null,
   "metadata": {},
   "outputs": [],
   "source": [
    "from multiprocessing import Value\n",
    "\n",
    "xum = Value('d', 0.0)\n",
    "ynum = Value('d', 0.0)\n",
    "debug = True\n",
    "robot_angle = 225\n",
    "\n",
    "loc.localize(robot_angle, xnum, ynum, debug)"
   ]
  },
  {
   "source": [
    "Ukoliko želimo da je detect_the_ball() na drugom procesu to izvršiti preko multiprocessinga. U ovom primjeru debug će biti False no to nije potrebno u stvarnome korištenju:"
   ],
   "cell_type": "markdown",
   "metadata": {}
  },
  {
   "cell_type": "code",
   "execution_count": null,
   "metadata": {},
   "outputs": [],
   "source": [
    "from multiprocessing import Process\n",
    "debug = False\n",
    "\n",
    "p1 = Process(target=loc.localize, args=(robot_angle, xnum, ynum, debug)\n",
    "p1.start()"
   ]
  },
  {
   "source": [
    "Sada možemo koristiti prijašnje *num varijable te će se one updateati automatiski, tj. dok god radi proces p1.\n",
    "\n",
    "- xnum.value daje x koordinatu \n",
    "- ynum.value daje y koordinatu\n",
    "\n",
    "oba daju vrijednost u milimetrima koja je dosta precizna. \n",
    "Ishodište je kut na lijevoj strani gledajući prema suparničkom golu dalji od suparničkog gola."
   ],
   "cell_type": "markdown",
   "metadata": {}
  },
  {
   "source": [
    "Važno je napomenuti da unutar funkcije localize se nalazi jedan dio koji je O(n^2) gdje je n broj nađenih zidova, što nije problem u terenu gdje su samo četiri zida (eventualno još dva ili tri zbog drugih robota) no kada stoji van terena u neurednom okruženju (s puno ravnih i neravnih površina) nalazi dosta zidova. To nije bitno ako se samo testira no nemojte očekivati brzinu reakcije kao unutar terena.\n",
    "\n",
    "Ukoliko ste primjetili:\n",
    "\n",
    "***Too many measurments in the input buffer: 501/500. Clearing buffer...***\n",
    "\n",
    "Ili nešto slično u jednom od testiranja, to je simptom gore opisanoga problema. Process ne stigne procesuirati sva čitanja pa briše višak, to se kao što je rečeno ne događa u urednom okružju terena.\n"
   ],
   "cell_type": "markdown",
   "metadata": {}
  },
  {
   "cell_type": "code",
   "execution_count": null,
   "metadata": {},
   "outputs": [],
   "source": [
    "xnum.value, ynum.value"
   ]
  },
  {
   "cell_type": "code",
   "execution_count": null,
   "metadata": {},
   "outputs": [],
   "source": [
    "xnum.value, ynum.value"
   ]
  },
  {
   "cell_type": "code",
   "execution_count": null,
   "metadata": {},
   "outputs": [],
   "source": [
    "xnum.value, ynum.value"
   ]
  },
  {
   "source": [
    "Popis svega"
   ],
   "cell_type": "markdown",
   "metadata": {}
  },
  {
   "cell_type": "code",
   "execution_count": 1,
   "metadata": {
    "tags": []
   },
   "outputs": [
    {
     "output_type": "error",
     "ename": "NameError",
     "evalue": "name 'loc' is not defined",
     "traceback": [
      "\u001b[0;31m---------------------------------------------------------------------------\u001b[0m",
      "\u001b[0;31mNameError\u001b[0m                                 Traceback (most recent call last)",
      "\u001b[0;32m<ipython-input-1-c071670445e2>\u001b[0m in \u001b[0;36m<module>\u001b[0;34m\u001b[0m\n\u001b[0;32m----> 1\u001b[0;31m \u001b[0mhelp\u001b[0m\u001b[0;34m(\u001b[0m\u001b[0mloc\u001b[0m\u001b[0;34m)\u001b[0m\u001b[0;34m\u001b[0m\u001b[0;34m\u001b[0m\u001b[0m\n\u001b[0m",
      "\u001b[0;31mNameError\u001b[0m: name 'loc' is not defined"
     ]
    }
   ],
   "source": [
    "help(loc)"
   ]
  }
 ]
}