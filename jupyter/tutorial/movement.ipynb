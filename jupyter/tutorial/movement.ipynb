{
 "metadata": {
  "language_info": {
   "codemirror_mode": {
    "name": "ipython",
    "version": 3
   },
   "file_extension": ".py",
   "mimetype": "text/x-python",
   "name": "python",
   "nbconvert_exporter": "python",
   "pygments_lexer": "ipython3",
   "version": "3.8.2-final"
  },
  "orig_nbformat": 2,
  "kernelspec": {
   "name": "python38264bit41770f51cb494085b126429b02db281f",
   "display_name": "Python 3.8.2 64-bit"
  }
 },
 "nbformat": 4,
 "nbformat_minor": 2,
 "cells": [
  {
   "source": [
    "# Movement\n",
    "\n",
    "Ovaj modul sadrži osnovne funkcije za kretanje robota.\n",
    "\n",
    "Kako ne radimo u direktoriju u kojem se nalazi robocup folder treba donje dvije komande izvršiti (samo jednom)."
   ],
   "cell_type": "markdown",
   "metadata": {}
  },
  {
   "cell_type": "code",
   "execution_count": 1,
   "metadata": {},
   "outputs": [],
   "source": [
    "import sys\n",
    "sys.path.append('../')"
   ]
  },
  {
   "source": [
    "Prije korištenja treba inicijalizirati IO pinove na Rasberryju s init() funkcijom.\n"
   ],
   "cell_type": "markdown",
   "metadata": {}
  },
  {
   "cell_type": "code",
   "execution_count": 4,
   "metadata": {},
   "outputs": [
    {
     "output_type": "error",
     "ename": "ModuleNotFoundError",
     "evalue": "No module named 'rplidar'",
     "traceback": [
      "\u001b[0;31m---------------------------------------------------------------------------\u001b[0m",
      "\u001b[0;31mModuleNotFoundError\u001b[0m                       Traceback (most recent call last)",
      "\u001b[0;32m<ipython-input-4-a6d481ab5705>\u001b[0m in \u001b[0;36m<module>\u001b[0;34m\u001b[0m\n\u001b[0;32m----> 1\u001b[0;31m \u001b[0;32mfrom\u001b[0m \u001b[0mrobocup\u001b[0m \u001b[0;32mimport\u001b[0m \u001b[0mmovement\u001b[0m \u001b[0;32mas\u001b[0m \u001b[0mmov\u001b[0m\u001b[0;34m\u001b[0m\u001b[0;34m\u001b[0m\u001b[0m\n\u001b[0m",
      "\u001b[0;32m~/robotika/2020/jupyter/robocup/movement.py\u001b[0m in \u001b[0;36m<module>\u001b[0;34m\u001b[0m\n\u001b[1;32m      1\u001b[0m \u001b[0;32mimport\u001b[0m \u001b[0mmath\u001b[0m\u001b[0;34m\u001b[0m\u001b[0;34m\u001b[0m\u001b[0m\n\u001b[1;32m      2\u001b[0m \u001b[0;32mfrom\u001b[0m \u001b[0mrobocup\u001b[0m \u001b[0;32mimport\u001b[0m \u001b[0mfield\u001b[0m\u001b[0;34m\u001b[0m\u001b[0;34m\u001b[0m\u001b[0m\n\u001b[0;32m----> 3\u001b[0;31m \u001b[0;32mfrom\u001b[0m \u001b[0mrobocup\u001b[0m \u001b[0;32mimport\u001b[0m \u001b[0mlocalization\u001b[0m \u001b[0;32mas\u001b[0m \u001b[0mloc\u001b[0m\u001b[0;34m\u001b[0m\u001b[0;34m\u001b[0m\u001b[0m\n\u001b[0m\u001b[1;32m      4\u001b[0m \u001b[0;32mfrom\u001b[0m \u001b[0mrobocup\u001b[0m \u001b[0;32mimport\u001b[0m \u001b[0msimulate_lidar\u001b[0m \u001b[0;32mas\u001b[0m \u001b[0msim\u001b[0m\u001b[0;34m\u001b[0m\u001b[0;34m\u001b[0m\u001b[0m\n\u001b[1;32m      5\u001b[0m \u001b[0;32mfrom\u001b[0m \u001b[0mrobocup\u001b[0m \u001b[0;32mimport\u001b[0m \u001b[0mcommands\u001b[0m \u001b[0;32mas\u001b[0m \u001b[0mcomm\u001b[0m\u001b[0;34m\u001b[0m\u001b[0;34m\u001b[0m\u001b[0m\n",
      "\u001b[0;32m~/robotika/2020/jupyter/robocup/localization.py\u001b[0m in \u001b[0;36m<module>\u001b[0;34m\u001b[0m\n\u001b[1;32m      1\u001b[0m \u001b[0;32mimport\u001b[0m \u001b[0msys\u001b[0m\u001b[0;34m\u001b[0m\u001b[0;34m\u001b[0m\u001b[0m\n\u001b[0;32m----> 2\u001b[0;31m \u001b[0;32mfrom\u001b[0m \u001b[0mrplidar\u001b[0m \u001b[0;32mimport\u001b[0m \u001b[0mRPLidar\u001b[0m\u001b[0;34m\u001b[0m\u001b[0;34m\u001b[0m\u001b[0m\n\u001b[0m\u001b[1;32m      3\u001b[0m \u001b[0;32mimport\u001b[0m \u001b[0mnumpy\u001b[0m \u001b[0;32mas\u001b[0m \u001b[0mnp\u001b[0m\u001b[0;34m\u001b[0m\u001b[0;34m\u001b[0m\u001b[0m\n\u001b[1;32m      4\u001b[0m \u001b[0;32mimport\u001b[0m \u001b[0mtime\u001b[0m\u001b[0;34m\u001b[0m\u001b[0;34m\u001b[0m\u001b[0m\n\u001b[1;32m      5\u001b[0m \u001b[0;32mimport\u001b[0m \u001b[0mmath\u001b[0m\u001b[0;34m\u001b[0m\u001b[0;34m\u001b[0m\u001b[0m\n",
      "\u001b[0;31mModuleNotFoundError\u001b[0m: No module named 'rplidar'"
     ]
    }
   ],
   "source": [
    "from robocup import movement as mov"
   ]
  },
  {
   "source": [
    "Jedna od osnovnih funkcija iz modula je move_to() funkcija. To je ne blokirajuća funkcija koja za argumente uzima koordinate gdje treba ići, koordinate robota te maksimalnu brzinu koju smije koristiti. \n",
    "Ako izvršite donji cell robot bi se trebao samo nastaviti gibati, jer je funkcija ne blokirajuća, tako da ne preporučujem ali ostavljam je kao primjer."
   ],
   "cell_type": "markdown",
   "metadata": {
    "tags": []
   }
  },
  {
   "cell_type": "code",
   "execution_count": null,
   "metadata": {},
   "outputs": [],
   "source": [
    "mov.move_to(500, 500, 1000, 1000, 0.5) "
   ]
  },
  {
   "source": [
    "Funkcija adaptive_speed_ball() uzima za argumente kut pod kojim bi se trebalo kretati udaljenost lopte, trenutaćnu brzinu i sporiju brzinu u blizini lopte i vraća brzinu kojom bi se trebalo gibati."
   ],
   "cell_type": "markdown",
   "metadata": {}
  },
  {
   "cell_type": "code",
   "execution_count": 3,
   "metadata": {},
   "outputs": [
    {
     "output_type": "error",
     "ename": "NameError",
     "evalue": "name 'mov' is not defined",
     "traceback": [
      "\u001b[0;31m---------------------------------------------------------------------------\u001b[0m",
      "\u001b[0;31mNameError\u001b[0m                                 Traceback (most recent call last)",
      "\u001b[0;32m<ipython-input-3-85d87b6ff0f4>\u001b[0m in \u001b[0;36m<module>\u001b[0;34m\u001b[0m\n\u001b[0;32m----> 1\u001b[0;31m \u001b[0mhelp\u001b[0m\u001b[0;34m(\u001b[0m\u001b[0mmov\u001b[0m\u001b[0;34m)\u001b[0m\u001b[0;34m\u001b[0m\u001b[0;34m\u001b[0m\u001b[0m\n\u001b[0m",
      "\u001b[0;31mNameError\u001b[0m: name 'mov' is not defined"
     ]
    }
   ],
   "source": [
    "mov.adaptive_speed_ball(125, 60, 0.5, 0.2)"
   ]
  },
  {
   "source": [
    "robot_angle_to_catch_ball() uzima kut lopte te koordinate robota i vraća kut pod kojim bi se trebao robot kretati da je uhvati s prednjim dijelom."
   ],
   "cell_type": "markdown",
   "metadata": {}
  },
  {
   "cell_type": "code",
   "execution_count": 5,
   "metadata": {},
   "outputs": [
    {
     "output_type": "error",
     "ename": "NameError",
     "evalue": "name 'mov' is not defined",
     "traceback": [
      "\u001b[0;31m---------------------------------------------------------------------------\u001b[0m",
      "\u001b[0;31mNameError\u001b[0m                                 Traceback (most recent call last)",
      "\u001b[0;32m<ipython-input-5-66999650a84e>\u001b[0m in \u001b[0;36m<module>\u001b[0;34m\u001b[0m\n\u001b[0;32m----> 1\u001b[0;31m \u001b[0mmov\u001b[0m\u001b[0;34m.\u001b[0m\u001b[0mrobot_angle_to_catch_ball\u001b[0m\u001b[0;34m(\u001b[0m\u001b[0;36m45\u001b[0m\u001b[0;34m,\u001b[0m \u001b[0;36m1500\u001b[0m\u001b[0;34m,\u001b[0m \u001b[0;36m1500\u001b[0m\u001b[0;34m)\u001b[0m\u001b[0;34m\u001b[0m\u001b[0;34m\u001b[0m\u001b[0m\n\u001b[0m",
      "\u001b[0;31mNameError\u001b[0m: name 'mov' is not defined"
     ]
    }
   ],
   "source": [
    "mov.robot_angle_to_catch_ball(45, 1500, 1500)"
   ]
  },
  {
   "source": [
    "adaptive_speed_line() je funkcija koja smanjuje brzinu robota ukoliko je u blizini crte. Radi tako da rastavlja komponente brzine robota i smanjuje one komponente koje bi uzrokovale prelazak crte. Tako recimo ukoliko se robot giba brzinom s komponentama vx=0.2, vy=-0.8, funkcija će transformirati (u blizini crte koja se nalazi iza robota) u nešto oblika vx=0.2, vy=-0.5\n",
    "\n",
    "oblika je adaptive_speed_line(max_speed, min_speed, upper_dist, x, y, ant)\n",
    "\n",
    "min_speed je obično 0 kako robot nebi prešao crtu, upper_dist je udaljenost ispod koje se smanjuje brzina x, y koordinate a ant je kut kretanja"
   ],
   "cell_type": "markdown",
   "metadata": {}
  },
  {
   "cell_type": "code",
   "execution_count": 7,
   "metadata": {},
   "outputs": [
    {
     "output_type": "error",
     "ename": "NameError",
     "evalue": "name 'mov' is not defined",
     "traceback": [
      "\u001b[0;31m---------------------------------------------------------------------------\u001b[0m",
      "\u001b[0;31mNameError\u001b[0m                                 Traceback (most recent call last)",
      "\u001b[0;32m<ipython-input-7-f4d3f60071f2>\u001b[0m in \u001b[0;36m<module>\u001b[0;34m\u001b[0m\n\u001b[0;32m----> 1\u001b[0;31m \u001b[0mmov\u001b[0m\u001b[0;34m.\u001b[0m\u001b[0madaptive_speed_line\u001b[0m\u001b[0;34m(\u001b[0m\u001b[0;36m0.8\u001b[0m\u001b[0;34m,\u001b[0m \u001b[0;36m0\u001b[0m\u001b[0;34m,\u001b[0m \u001b[0;36m600\u001b[0m\u001b[0;34m,\u001b[0m \u001b[0;36m1000\u001b[0m\u001b[0;34m,\u001b[0m \u001b[0;36m1000\u001b[0m\u001b[0;34m,\u001b[0m \u001b[0;36m270\u001b[0m\u001b[0;34m)\u001b[0m\u001b[0;34m\u001b[0m\u001b[0;34m\u001b[0m\u001b[0m\n\u001b[0m",
      "\u001b[0;31mNameError\u001b[0m: name 'mov' is not defined"
     ]
    }
   ],
   "source": [
    "mov.adaptive_speed_line(0.8, 0, 600, 1000, 1000, 270)"
   ]
  },
  {
   "source": [
    "Na gornji tip funkcije postoji par varijacija kao što su:\n",
    "- adaptive_speed_line_attacker(max_speed, min_speed, upper_dist, x, y, ant):\n",
    "- adaptive_speed_line_goalie(max_speed, min_speed, upper_dist, x, y, ant)\n",
    "- adaptive_speed_rect(max_speed, min_speed, ball_close_speed, upper_dist, lower_dist, x, y, ant, ball_dist)\n",
    "\n",
    "One samo barataju s različitim skupom linija. Attaker ima liniju koja se nalazi nešto ispred jedanaesterca kako se nebi ušao u jedanaesterac, a goalie ima liniju ispred jedanaesteraca kako nebi izasao."
   ],
   "cell_type": "markdown",
   "metadata": {}
  },
  {
   "source": [
    "Popis svega"
   ],
   "cell_type": "markdown",
   "metadata": {}
  },
  {
   "cell_type": "code",
   "execution_count": 8,
   "metadata": {},
   "outputs": [
    {
     "output_type": "error",
     "ename": "NameError",
     "evalue": "name 'mov' is not defined",
     "traceback": [
      "\u001b[0;31m---------------------------------------------------------------------------\u001b[0m",
      "\u001b[0;31mNameError\u001b[0m                                 Traceback (most recent call last)",
      "\u001b[0;32m<ipython-input-8-85d87b6ff0f4>\u001b[0m in \u001b[0;36m<module>\u001b[0;34m\u001b[0m\n\u001b[0;32m----> 1\u001b[0;31m \u001b[0mhelp\u001b[0m\u001b[0;34m(\u001b[0m\u001b[0mmov\u001b[0m\u001b[0;34m)\u001b[0m\u001b[0;34m\u001b[0m\u001b[0;34m\u001b[0m\u001b[0m\n\u001b[0m",
      "\u001b[0;31mNameError\u001b[0m: name 'mov' is not defined"
     ]
    }
   ],
   "source": [
    "help(mov)"
   ]
  }
 ]
}