{
 "metadata": {
  "language_info": {
   "codemirror_mode": {
    "name": "ipython",
    "version": 3
   },
   "file_extension": ".py",
   "mimetype": "text/x-python",
   "name": "python",
   "nbconvert_exporter": "python",
   "pygments_lexer": "ipython3",
   "version": "3.8.2-final"
  },
  "orig_nbformat": 2,
  "kernelspec": {
   "name": "python38264bit41770f51cb494085b126429b02db281f",
   "display_name": "Python 3.8.2 64-bit"
  }
 },
 "nbformat": 4,
 "nbformat_minor": 2,
 "cells": [
  {
   "source": [
    "# Field\n",
    "\n",
    "Ovaj modul sadrži osnovne konstante terena.\n",
    "\n",
    "Kako ne radimo u direktoriju u kojem se nalazi robocup folder treba donje dvije komande izvršiti (samo jednom)."
   ],
   "cell_type": "markdown",
   "metadata": {}
  },
  {
   "cell_type": "code",
   "execution_count": 1,
   "metadata": {},
   "outputs": [],
   "source": [
    "import sys\n",
    "sys.path.append('../')"
   ]
  },
  {
   "source": [
    "Uvoz field modula"
   ],
   "cell_type": "markdown",
   "metadata": {}
  },
  {
   "cell_type": "code",
   "execution_count": 2,
   "metadata": {},
   "outputs": [],
   "source": [
    "from robocup import field"
   ]
  },
  {
   "source": [
    "Osnovne konstante su širina i duljina terena, koje su kao i sve ostale mjere izražene u milimetrima:"
   ],
   "cell_type": "markdown",
   "metadata": {
    "tags": []
   }
  },
  {
   "cell_type": "code",
   "execution_count": 4,
   "metadata": {},
   "outputs": [
    {
     "output_type": "execute_result",
     "data": {
      "text/plain": "(1820, 2340)"
     },
     "metadata": {},
     "execution_count": 4
    }
   ],
   "source": [
    "field.x, field.y"
   ]
  },
  {
   "source": [
    "Ostale važne konstante su scale i scale_field koje služe za crtanje terena i vizualizaciju i nebi se trebale koristiti izvan toga te liste s popisom linija na terenu. Te popise koristi većinom modul movement.py koji u sebi ima funkcije za izbjegavanje linije."
   ],
   "cell_type": "markdown",
   "metadata": {}
  },
  {
   "source": [
    "Popis svega"
   ],
   "cell_type": "markdown",
   "metadata": {}
  },
  {
   "cell_type": "code",
   "execution_count": 5,
   "metadata": {
    "tags": []
   },
   "outputs": [
    {
     "output_type": "stream",
     "name": "stdout",
     "text": "Help on module robocup.field in robocup:\n\nNAME\n    robocup.field\n\nDATA\n    a = [121, 201, 121, 210]\n    field = [[0, 0, 0, 2340], [0, 0, 1820, 0], [0, 2340, 1820, 2340], [182...\n    field_t = [[0, 0, 0, 233], [0, 0, 181, 0], [0, 233, 181, 233], [181, 0...\n    goal = [[600, 236, 1220, 236], [600, 236, 600, 320], [600, 320, 610, 3...\n    goal2 = [[600, 2104, 1220, 2104], [600, 2104, 600, 2020], [600, 2020, ...\n    goal_wx = 10\n    goal_wy = 10\n    i = 19\n    j = 3\n    l = [1220, 320, 1220, 236]\n    l2 = [1220, 2020, 1220, 2104]\n    s = [1220, 2020, 1220, 2104]\n    scale = 500\n    scale_field = 0.0999980000399992\n    x = 1820\n    y = 2340\n\nFILE\n    /home/darijan/robotika/2020/jupyter/robocup/field.py\n\n\n"
    }
   ],
   "source": [
    "help(field)"
   ]
  },
  {
   "cell_type": "code",
   "execution_count": null,
   "metadata": {},
   "outputs": [],
   "source": []
  }
 ]
}