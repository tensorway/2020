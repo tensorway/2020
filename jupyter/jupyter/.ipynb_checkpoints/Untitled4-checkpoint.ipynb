{
 "cells": [
  {
   "cell_type": "code",
   "execution_count": 1,
   "metadata": {},
   "outputs": [],
   "source": [
    "import cv2\n",
    "import numpy as np\n",
    "from robocup import localization as loc\n",
    "from robocup import field\n",
    "import math"
   ]
  },
  {
   "cell_type": "code",
   "execution_count": null,
   "metadata": {},
   "outputs": [],
   "source": [
    "%timeit "
   ]
  },
  {
   "cell_type": "code",
   "execution_count": 20,
   "metadata": {},
   "outputs": [
    {
     "name": "stdout",
     "output_type": "stream",
     "text": [
      "1618.3336747816556 1230.4588841224174\n"
     ]
    }
   ],
   "source": [
    "w = 500\n",
    "img = cv2.imread('slike/9.jpg', 0)        \n",
    "\n",
    "f = np.array(img, copy=True)\n",
    "f2 = np.array(img, copy=True)\n",
    "f3 = np.array(img, copy=True)\n",
    "x, _, lines = loc.find_xy(f, w, 20, 0.2, 0.005)\n",
    "side = 1\n",
    "if loc.side_x(250, 250, lines[0][0], lines[0][1], f):\n",
    "    side = -1\n",
    "f2 = loc.draw_rect_line(f2, lines[0], side, 600*field.scale_field, 620*field.scale_field)\n",
    "loc.draw_line_polar(f2, lines[0])\n",
    "_, y, lines = loc.find_xy(f2, w, 20, 0.2, 0.005)\n",
    "if y == -1:\n",
    "    f3 = loc.draw_rect_line(f3, lines[0], side, 0, 620*field.scale_field)\n",
    "    f3 = loc.draw_rect_line(f3, lines[0], side, (600+620)*field.scale_field, 800*field.scale_field)\n",
    "    _, y, lines = loc.find_xy(f3, w, 20, 0.2, 0.005)\n",
    "print(x, y)\n",
    "\n",
    "    \n",
    "\n",
    "            \n",
    "\n",
    "f2 = loc.draw_cross(f2, 250, 250, 20, 255)   \n",
    "cv2.imshow(\"2\", f2)\n",
    "#cv2.imshow(\"1\", f)\n",
    "#cv2.imshow(\"0\", img)\n",
    "cv2.waitKey(0)\n",
    "cv2.destroyAllWindows()"
   ]
  },
  {
   "cell_type": "code",
   "execution_count": 42,
   "metadata": {},
   "outputs": [],
   "source": [
    "def find_xy(f, w, line_sens, lines_min_dist, right_angle_deviation):\n",
    "    x_coor = -1\n",
    "    y_coor = -1\n",
    "    lines = cv2.HoughLines(f,2,np.pi/180*2,line_sens)\n",
    "\n",
    "    if lines is not None:\n",
    "        nms_lines = []\n",
    "        print(len(lines), lines)\n",
    "        found = False\n",
    "        for i in range (len(lines)):\n",
    "            l = lines[i]\n",
    "            print(l)\n",
    "            l = l[0]\n",
    "            if True:\n",
    "                rho = l[0]\n",
    "                theta = l[1]\n",
    "                print(rho, theta, \"l\")\n",
    "                \n",
    "                if loc.lines_d (l, nms_lines, w*1.41, math.pi) > lines_min_dist:\n",
    "                    if True: #not found or loc.is_on_right(nms_lines[0], l, right_angle_deviation):\n",
    "                        nms_lines.append(l)\n",
    "                        found = True\n",
    "                        f = loc.draw_line_polar(f, l)\n",
    "                        print(\"l= \", l)\n",
    "\n",
    "\n",
    "                        dist = loc.pl_dist_polar2(w/2, w/2, rho, theta)\n",
    "                        dist2 = dist / field.scale_field\n",
    "                        if loc.is_y(l) and x_coor == -1:\n",
    "                            if loc.side_x(int(w/2), int(w/2), rho, theta, f):\n",
    "                                x_coor = field.x - dist2\n",
    "                                print(\"l1= \", l)\n",
    "                            else:\n",
    "                                x_coor = dist2\n",
    "                                print(\"l2= \", l)\n",
    "                        elif not loc.is_y(l) and y_coor == -1:   \n",
    "                            if not loc.side_y(int(w/2), int(w/2), rho, theta, f):\n",
    "                                y_coor = field.y - dist2\n",
    "                                print(\"l3= \", l)\n",
    "                            else:\n",
    "                                y_coor = dist2\n",
    "                                print(\"l4= \", l)\n",
    "                        \n",
    "                        if x_coor!= -1 and y_coor != -1:\n",
    "                            return x_coor, y_coor, nms_lines, f\n",
    "                        \n",
    "                        print(\"x = \", x_coor, \"y = \", y_coor, \" dist= \", dist, \" dist2 = \", dist2)#, end = '\\r') #, \" rho=\", rho, \" theta=\", theta, \" a=\", a, \" b=\", b, \" pres=\", x0, \" rho=\", rho, \" theta = \", theta, \" end \" , end='\\r')\n",
    "    return x_coor, y_coor, nms_lines, f"
   ]
  }
 ],
 "metadata": {
  "kernelspec": {
   "display_name": "Python 3",
   "language": "python",
   "name": "python3"
  },
  "language_info": {
   "codemirror_mode": {
    "name": "ipython",
    "version": 3
   },
   "file_extension": ".py",
   "mimetype": "text/x-python",
   "name": "python",
   "nbconvert_exporter": "python",
   "pygments_lexer": "ipython3",
   "version": "3.6.8"
  }
 },
 "nbformat": 4,
 "nbformat_minor": 2
}
