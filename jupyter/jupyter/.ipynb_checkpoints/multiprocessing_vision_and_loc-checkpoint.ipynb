{
 "cells": [
  {
   "cell_type": "code",
   "execution_count": 6,
   "metadata": {},
   "outputs": [],
   "source": [
    "import math\n",
    "import time\n",
    "import numpy as np\n",
    "from robocup import field\n",
    "from robocup import vision\n",
    "from robocup import localization as loc\n",
    "from multiprocessing import Process, Value\n",
    "\n",
    "robot_angle = -75"
   ]
  },
  {
   "cell_type": "code",
   "execution_count": 8,
   "metadata": {},
   "outputs": [
    {
     "name": "stdout",
     "output_type": "stream",
     "text": [
      "-1.0 595.3998924297296 108.51269067414547 0.0 helloo\r"
     ]
    },
    {
     "name": "stderr",
     "output_type": "stream",
     "text": [
      "Too many measurments in the input buffer: 542/500. Clearing buffer...\n"
     ]
    },
    {
     "name": "stdout",
     "output_type": "stream",
     "text": [
      "-1.0 595.3998924297296 -160.44800482675942 0.0 hello3072 0.0 hello\r"
     ]
    },
    {
     "name": "stderr",
     "output_type": "stream",
     "text": [
      "Too many measurments in the input buffer: 557/500. Clearing buffer...\n"
     ]
    },
    {
     "name": "stdout",
     "output_type": "stream",
     "text": [
      "-1.0 594.948588308927 -156.87620811163072 0.0 hello3072 0.0 hello\r"
     ]
    },
    {
     "name": "stderr",
     "output_type": "stream",
     "text": [
      "Too many measurments in the input buffer: 509/500. Clearing buffer...\n"
     ]
    },
    {
     "name": "stdout",
     "output_type": "stream",
     "text": [
      "-1.0 595.3998924297296 -156.87620811163072 0.0 hello58 0.0 helloo\r"
     ]
    },
    {
     "name": "stderr",
     "output_type": "stream",
     "text": [
      "Too many measurments in the input buffer: 525/500. Clearing buffer...\n"
     ]
    },
    {
     "name": "stdout",
     "output_type": "stream",
     "text": [
      "-1.0 595.3998924297296 -156.87620811163072 0.0 hello\r"
     ]
    },
    {
     "name": "stderr",
     "output_type": "stream",
     "text": [
      "Too many measurments in the input buffer: 565/500. Clearing buffer...\n"
     ]
    },
    {
     "name": "stdout",
     "output_type": "stream",
     "text": [
      "-1.0 595.3998924297296 93.16229775213938 0.0 hellolo\r"
     ]
    },
    {
     "name": "stderr",
     "output_type": "stream",
     "text": [
      "Too many measurments in the input buffer: 507/500. Clearing buffer...\n"
     ]
    },
    {
     "name": "stdout",
     "output_type": "stream",
     "text": [
      "-1.0 595.3998924297296 -156.87620811163072 0.0 hello4925 0.0 hello\r"
     ]
    },
    {
     "name": "stderr",
     "output_type": "stream",
     "text": [
      "Too many measurments in the input buffer: 508/500. Clearing buffer...\n"
     ]
    },
    {
     "name": "stdout",
     "output_type": "stream",
     "text": [
      "-1.0 595.3998924297296 -156.87620811163072 0.0 hello3072 0.0 hello\r"
     ]
    },
    {
     "name": "stderr",
     "output_type": "stream",
     "text": [
      "Too many measurments in the input buffer: 523/500. Clearing buffer...\n"
     ]
    },
    {
     "name": "stdout",
     "output_type": "stream",
     "text": [
      "-1.0 595.3998924297296 -156.87620811163072 0.0 hello3072 0.0 hello hello595.3998924297296 -156.87620811163072 0.0 hello595.3998924297296 -156.87620811163072 0.0 hello-156.87620811163072 0.0 hello\r"
     ]
    },
    {
     "name": "stderr",
     "output_type": "stream",
     "text": [
      "Too many measurments in the input buffer: 524/500. Clearing buffer...\n"
     ]
    },
    {
     "name": "stdout",
     "output_type": "stream",
     "text": [
      "-1.0 594.6901547684337 -156.76383848877748 0.0 hello\r"
     ]
    },
    {
     "name": "stderr",
     "output_type": "stream",
     "text": [
      "Too many measurments in the input buffer: 507/500. Clearing buffer...\n"
     ]
    },
    {
     "name": "stdout",
     "output_type": "stream",
     "text": [
      "-1.0 595.3998924297296 -156.87620811163072 0.0 hello\r"
     ]
    },
    {
     "name": "stderr",
     "output_type": "stream",
     "text": [
      "Too many measurments in the input buffer: 529/500. Clearing buffer...\n"
     ]
    },
    {
     "name": "stdout",
     "output_type": "stream",
     "text": [
      "-1.0 595.3998924297296 -156.76383848877748 0.0 hello\r"
     ]
    },
    {
     "name": "stderr",
     "output_type": "stream",
     "text": [
      "Too many measurments in the input buffer: 523/500. Clearing buffer...\n"
     ]
    },
    {
     "name": "stdout",
     "output_type": "stream",
     "text": [
      "-1.0 595.3998924297296 -156.76383848877748 0.0 hello\r"
     ]
    },
    {
     "name": "stderr",
     "output_type": "stream",
     "text": [
      "Too many measurments in the input buffer: 512/500. Clearing buffer...\n"
     ]
    },
    {
     "name": "stdout",
     "output_type": "stream",
     "text": [
      "-1.0 595.3998924297296 66.17573941710457 0.0 hellolo\r"
     ]
    },
    {
     "name": "stderr",
     "output_type": "stream",
     "text": [
      "Too many measurments in the input buffer: 545/500. Clearing buffer...\n"
     ]
    },
    {
     "name": "stdout",
     "output_type": "stream",
     "text": [
      "-1.0 594.6901547684337 -156.87620811163072 0.0 hello\r"
     ]
    },
    {
     "name": "stderr",
     "output_type": "stream",
     "text": [
      "Too many measurments in the input buffer: 520/500. Clearing buffer...\n"
     ]
    },
    {
     "name": "stdout",
     "output_type": "stream",
     "text": [
      "-1.0 595.3998924297296 66.71393508177643 0.0 hellolo\r"
     ]
    },
    {
     "name": "stderr",
     "output_type": "stream",
     "text": [
      "Too many measurments in the input buffer: 530/500. Clearing buffer...\n"
     ]
    },
    {
     "name": "stdout",
     "output_type": "stream",
     "text": [
      "-1.0 594.6901547684337 -156.87620811163072 0.0 hello\r"
     ]
    },
    {
     "name": "stderr",
     "output_type": "stream",
     "text": [
      "Too many measurments in the input buffer: 510/500. Clearing buffer...\n"
     ]
    },
    {
     "name": "stdout",
     "output_type": "stream",
     "text": [
      "-1.0 594.6901547684337 -156.76383848877748 0.0 hello\r"
     ]
    },
    {
     "name": "stderr",
     "output_type": "stream",
     "text": [
      "Too many measurments in the input buffer: 509/500. Clearing buffer...\n"
     ]
    },
    {
     "name": "stdout",
     "output_type": "stream",
     "text": [
      "-1.0 595.3998924297296 -156.76383848877748 0.0 hello\r"
     ]
    },
    {
     "name": "stderr",
     "output_type": "stream",
     "text": [
      "Too many measurments in the input buffer: 542/500. Clearing buffer...\n"
     ]
    },
    {
     "name": "stdout",
     "output_type": "stream",
     "text": [
      "-1.0 595.3998924297296 66.13982480865765 0.0 hellolo\r"
     ]
    },
    {
     "name": "stderr",
     "output_type": "stream",
     "text": [
      "Too many measurments in the input buffer: 519/500. Clearing buffer...\n"
     ]
    },
    {
     "name": "stdout",
     "output_type": "stream",
     "text": [
      "-1.0 595.3998924297296 -156.87620811163072 0.0 hello\r"
     ]
    },
    {
     "name": "stderr",
     "output_type": "stream",
     "text": [
      "Too many measurments in the input buffer: 523/500. Clearing buffer...\n"
     ]
    },
    {
     "name": "stdout",
     "output_type": "stream",
     "text": [
      "-1.0 595.3998924297296 -156.87620811163072 0.0 hello\r"
     ]
    },
    {
     "name": "stderr",
     "output_type": "stream",
     "text": [
      "Too many measurments in the input buffer: 531/500. Clearing buffer...\n"
     ]
    },
    {
     "name": "stdout",
     "output_type": "stream",
     "text": [
      "-1.0 595.3998924297296 69.57397523691098 0.0 hellolo\r"
     ]
    },
    {
     "name": "stderr",
     "output_type": "stream",
     "text": [
      "Too many measurments in the input buffer: 501/500. Clearing buffer...\n"
     ]
    },
    {
     "name": "stdout",
     "output_type": "stream",
     "text": [
      "-1.0 595.3998924297296 -156.87620811163072 0.0 hello3072 0.0 hello\r"
     ]
    },
    {
     "name": "stderr",
     "output_type": "stream",
     "text": [
      "Too many measurments in the input buffer: 540/500. Clearing buffer...\n"
     ]
    },
    {
     "name": "stdout",
     "output_type": "stream",
     "text": [
      "-1.0 594.6901547684337 -156.87620811163072 0.0 hello3072 0.0 hello\r"
     ]
    },
    {
     "name": "stderr",
     "output_type": "stream",
     "text": [
      "Too many measurments in the input buffer: 507/500. Clearing buffer...\n"
     ]
    },
    {
     "name": "stdout",
     "output_type": "stream",
     "text": [
      "-1.0 595.3998924297296 -156.87620811163072 0.0 hello\r"
     ]
    },
    {
     "name": "stderr",
     "output_type": "stream",
     "text": [
      "Too many measurments in the input buffer: 537/500. Clearing buffer...\n"
     ]
    },
    {
     "name": "stdout",
     "output_type": "stream",
     "text": [
      "-1.0 595.3998924297296 -156.87620811163072 0.0 hello\r"
     ]
    },
    {
     "name": "stderr",
     "output_type": "stream",
     "text": [
      "Too many measurments in the input buffer: 544/500. Clearing buffer...\n"
     ]
    },
    {
     "name": "stdout",
     "output_type": "stream",
     "text": [
      "-1.0 595.3998924297296 -156.87620811163072 0.0 hello\r"
     ]
    },
    {
     "name": "stderr",
     "output_type": "stream",
     "text": [
      "Too many measurments in the input buffer: 510/500. Clearing buffer...\n"
     ]
    },
    {
     "name": "stdout",
     "output_type": "stream",
     "text": [
      "-1.0 594.6901547684337 -156.87620811163072 0.0 hello\r"
     ]
    },
    {
     "name": "stderr",
     "output_type": "stream",
     "text": [
      "Too many measurments in the input buffer: 577/500. Clearing buffer...\n"
     ]
    },
    {
     "name": "stdout",
     "output_type": "stream",
     "text": [
      "-1.0 595.3998924297296 -156.87620811163072 0.0 hello\r"
     ]
    },
    {
     "name": "stderr",
     "output_type": "stream",
     "text": [
      "Process Process-11:\n",
      "Traceback (most recent call last):\n"
     ]
    },
    {
     "name": "stdout",
     "output_type": "stream",
     "text": [
      "-1.0 595.3998924297296 103.47575915592498 0.0 hello\r",
      "-1.0 595.3998924297296 103.47575915592498 0.0 hello\r",
      "-1.0 595.3998924297296 -156.87620811163072 0.0 hello\r",
      "-1.0 595.3998924297296 102.1313210666325 0.0 hello\r"
     ]
    },
    {
     "name": "stderr",
     "output_type": "stream",
     "text": [
      "  File \"/usr/lib/python3.7/multiprocessing/process.py\", line 99, in run\n",
      "    self._target(*self._args, **self._kwargs)\n",
      "  File \"/usr/lib/python3.7/multiprocessing/process.py\", line 297, in _bootstrap\n",
      "    self.run()\n",
      "Process Process-12:\n",
      "  File \"/usr/lib/python3.7/multiprocessing/process.py\", line 297, in _bootstrap\n",
      "    self.run()\n",
      "Traceback (most recent call last):\n",
      "  File \"/usr/lib/python3.7/multiprocessing/process.py\", line 99, in run\n",
      "    self._target(*self._args, **self._kwargs)\n",
      "  File \"/home/pi/Desktop/12.10.2019.-13/jupyter/robocup/localization.py\", line 363, in localize\n",
      "    x.value, y.value, f1, f2, f3 = get_pos(f)\n",
      "  File \"/home/pi/Desktop/12.10.2019.-13/jupyter/robocup/vision.py\", line 62, in detect_the_ball\n",
      "    hsv = cv2.cvtColor(img, cv2.COLOR_BGR2HSV)\n"
     ]
    },
    {
     "ename": "KeyboardInterrupt",
     "evalue": "",
     "output_type": "error",
     "traceback": [
      "\u001b[0;31m---------------------------------------------------------------------------\u001b[0m",
      "\u001b[0;31mKeyboardInterrupt\u001b[0m                         Traceback (most recent call last)",
      "\u001b[0;32m<ipython-input-8-1a82026c212a>\u001b[0m in \u001b[0;36m<module>\u001b[0;34m()\u001b[0m\n\u001b[1;32m     14\u001b[0m     \u001b[0mdist\u001b[0m \u001b[0;34m=\u001b[0m \u001b[0mdistnum\u001b[0m\u001b[0;34m.\u001b[0m\u001b[0mvalue\u001b[0m\u001b[0;34m\u001b[0m\u001b[0;34m\u001b[0m\u001b[0m\n\u001b[1;32m     15\u001b[0m     \u001b[0mprint\u001b[0m\u001b[0;34m(\u001b[0m\u001b[0mx\u001b[0m\u001b[0;34m,\u001b[0m \u001b[0my\u001b[0m\u001b[0;34m,\u001b[0m \u001b[0mangle\u001b[0m\u001b[0;34m,\u001b[0m \u001b[0mdist\u001b[0m\u001b[0;34m,\u001b[0m \u001b[0;34m\"hello\"\u001b[0m\u001b[0;34m,\u001b[0m \u001b[0mend\u001b[0m \u001b[0;34m=\u001b[0m \u001b[0;34m'\\r'\u001b[0m\u001b[0;34m)\u001b[0m\u001b[0;34m\u001b[0m\u001b[0;34m\u001b[0m\u001b[0m\n\u001b[0;32m---> 16\u001b[0;31m     \u001b[0mtime\u001b[0m\u001b[0;34m.\u001b[0m\u001b[0msleep\u001b[0m\u001b[0;34m(\u001b[0m\u001b[0;36m0.02\u001b[0m\u001b[0;34m)\u001b[0m\u001b[0;34m\u001b[0m\u001b[0;34m\u001b[0m\u001b[0m\n\u001b[0m",
      "\u001b[0;31mKeyboardInterrupt\u001b[0m: "
     ]
    },
    {
     "name": "stderr",
     "output_type": "stream",
     "text": [
      "  File \"/home/pi/Desktop/12.10.2019.-13/jupyter/robocup/localization.py\", line 320, in get_pos\n",
      "    x, _, lines = find_xy(f, w, 20, 0.2, 0.005, False)\n",
      "KeyboardInterrupt\n",
      "  File \"/home/pi/Desktop/12.10.2019.-13/jupyter/robocup/localization.py\", line 196, in lines_d\n",
      "    temp = dist_rho(l, l_test) / u_range + dist_angl(l_test[1], l[1]) / v_range\n",
      "  File \"/home/pi/Desktop/12.10.2019.-13/jupyter/robocup/localization.py\", line 282, in find_xy\n",
      "    if lines_d (l, nms_lines, w*1.41, math.pi) > lines_min_dist:\n",
      "  File \"/home/pi/Desktop/12.10.2019.-13/jupyter/robocup/localization.py\", line 208, in dist_angl\n",
      "    if x < y:\n",
      "KeyboardInterrupt\n"
     ]
    }
   ],
   "source": [
    "xnum = Value('d', 0.0)\n",
    "ynum = Value('d', 0.0)\n",
    "anglenum = Value('d', 0.0)\n",
    "distnum = Value('d', 0.0)\n",
    "p1 = Process(target=loc.localize, args=(robot_angle, xnum, ynum, True))\n",
    "p2 = Process(target=vision.detect_the_ball, args=(anglenum, distnum, False))\n",
    "p1.start()\n",
    "p2.start()\n",
    "\n",
    "while True:\n",
    "    x = xnum.value\n",
    "    y = ynum.value\n",
    "    angle = anglenum.value\n",
    "    dist = distnum.value\n",
    "    print(x, y, angle, dist, \"hello\", end = '\\r')\n",
    "    time.sleep(0.02)"
   ]
  },
  {
   "cell_type": "code",
   "execution_count": null,
   "metadata": {},
   "outputs": [],
   "source": []
  },
  {
   "cell_type": "code",
   "execution_count": null,
   "metadata": {},
   "outputs": [],
   "source": []
  }
 ],
 "metadata": {
  "kernelspec": {
   "display_name": "Python 3",
   "language": "python",
   "name": "python3"
  },
  "language_info": {
   "codemirror_mode": {
    "name": "ipython",
    "version": 3
   },
   "file_extension": ".py",
   "mimetype": "text/x-python",
   "name": "python",
   "nbconvert_exporter": "python",
   "pygments_lexer": "ipython3",
   "version": "3.7.3"
  }
 },
 "nbformat": 4,
 "nbformat_minor": 2
}
