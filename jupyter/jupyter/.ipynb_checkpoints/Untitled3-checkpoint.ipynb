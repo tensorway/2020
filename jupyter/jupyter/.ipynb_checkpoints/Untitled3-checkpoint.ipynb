{
 "cells": [
  {
   "cell_type": "code",
   "execution_count": 1,
   "metadata": {},
   "outputs": [],
   "source": [
    "import sys\n",
    "from rplidar import RPLidar\n",
    "import numpy as np\n",
    "import time\n",
    "import math \n",
    "import cv2\n",
    "from robocup import simulate_lidar as sim\n",
    "from robocup import field"
   ]
  },
  {
   "cell_type": "code",
   "execution_count": 1,
   "metadata": {},
   "outputs": [
    {
     "ename": "NameError",
     "evalue": "name 'field' is not defined",
     "output_type": "error",
     "traceback": [
      "\u001b[0;31m---------------------------------------------------------------------------\u001b[0m",
      "\u001b[0;31mNameError\u001b[0m                                 Traceback (most recent call last)",
      "\u001b[0;32m<ipython-input-1-5cbb9da34a79>\u001b[0m in \u001b[0;36m<module>\u001b[0;34m\u001b[0m\n\u001b[1;32m      8\u001b[0m     \u001b[0mangles\u001b[0m\u001b[0;34m.\u001b[0m\u001b[0mappend\u001b[0m\u001b[0;34m(\u001b[0m\u001b[0mi\u001b[0m\u001b[0;34m)\u001b[0m\u001b[0;34m\u001b[0m\u001b[0;34m\u001b[0m\u001b[0m\n\u001b[1;32m      9\u001b[0m \u001b[0;34m\u001b[0m\u001b[0m\n\u001b[0;32m---> 10\u001b[0;31m \u001b[0mfield_t\u001b[0m \u001b[0;34m=\u001b[0m \u001b[0mfield\u001b[0m\u001b[0;34m.\u001b[0m\u001b[0mfield_t\u001b[0m\u001b[0;34m\u001b[0m\u001b[0;34m\u001b[0m\u001b[0m\n\u001b[0m\u001b[1;32m     11\u001b[0m \u001b[0mscan_list\u001b[0m\u001b[0;34m,\u001b[0m \u001b[0mpoints\u001b[0m \u001b[0;34m=\u001b[0m \u001b[0msim\u001b[0m\u001b[0;34m.\u001b[0m\u001b[0mcalc_scan_for_point\u001b[0m\u001b[0;34m(\u001b[0m\u001b[0mx0\u001b[0m\u001b[0;34m,\u001b[0m \u001b[0my0\u001b[0m\u001b[0;34m,\u001b[0m \u001b[0mangles\u001b[0m\u001b[0;34m,\u001b[0m\u001b[0mfield_t\u001b[0m\u001b[0;34m)\u001b[0m\u001b[0;34m\u001b[0m\u001b[0;34m\u001b[0m\u001b[0m\n\u001b[1;32m     12\u001b[0m \u001b[0mscan\u001b[0m \u001b[0;34m=\u001b[0m \u001b[0mnp\u001b[0m\u001b[0;34m.\u001b[0m\u001b[0marray\u001b[0m\u001b[0;34m(\u001b[0m\u001b[0mscan_list\u001b[0m\u001b[0;34m)\u001b[0m\u001b[0;34m\u001b[0m\u001b[0;34m\u001b[0m\u001b[0m\n",
      "\u001b[0;31mNameError\u001b[0m: name 'field' is not defined"
     ]
    }
   ],
   "source": [
    "w = 500\n",
    "x0 = 100\n",
    "y0 = 250\n",
    "t = 0\n",
    "\n",
    "angles = []\n",
    "for i in range (360):\n",
    "    angles.append(i)\n",
    "\n",
    "field_t = field.field_t\n",
    "scan_list, points = sim.calc_scan_for_point(x0, y0, angles,field_t)\n",
    "scan = np.array(scan_list)\n",
    "print(scan)\n",
    "scan += np.random.normal(0,10, len(scan_list))\n",
    "print(scan)"
   ]
  },
  {
   "cell_type": "code",
   "execution_count": 12,
   "metadata": {},
   "outputs": [
    {
     "name": "stdout",
     "output_type": "stream",
     "text": [
      "361 1 57365.8034249514\n",
      "361 11 54139.161364671796\n",
      "361 21 52457.46884473137\n",
      "361 31 51532.245358971304\n",
      "361 41 50974.8827242097\n",
      "361 51 49266.39586864131\n",
      "361 61 43170.25875480556\n",
      "361 71 38267.62720851255\n",
      "361 81 35491.27426000885\n",
      "361 91 32994.699610136275\n",
      "361 101 30509.221531687414\n",
      "361 111 28274.572374989155\n",
      "361 121 25972.099589176527\n",
      "361 131 23939.580702559964\n",
      "361 141 21876.520341337637\n",
      "361 151 19918.245450949988\n",
      "361 161 17944.554045762117\n",
      "361 171 16005.794005191396\n",
      "361 181 14083.284102681064\n",
      "361 191 12206.623098248048\n",
      "361 201 10505.680176242673\n",
      "361 211 8839.521693123055\n",
      "361 221 7050.722711677971\n",
      "361 231 5304.919007478893\n",
      "361 241 3759.999553039248\n",
      "361 251 2885.4454659229064\n",
      "361 261 3807.774842648329\n",
      "361 271 5454.936466646786\n",
      "361 281 7287.018265978901\n",
      "361 291 9201.11350729211\n",
      "361 301 11004.370243690057\n",
      "361 311 12910.201788426686\n",
      "361 321 14826.777429168476\n",
      "361 331 16831.067138660324\n",
      "361 341 18938.800177110516\n",
      "361 351 21082.046753849958\n",
      "361 361 23388.59013616587\n",
      "361 371 25808.442021550207\n",
      "361 381 28195.32592226447\n",
      "361 391 30848.085375192037\n",
      "361 401 33808.52579132235\n",
      "361 411 40123.63701782028\n",
      "361 421 43067.66592084876\n",
      "361 431 47412.43802718049\n",
      "361 441 48615.27604230514\n",
      "361 451 50141.50798358606\n",
      "361 461 52552.56276855531\n",
      "100 251 2885.4454659229064\n"
     ]
    }
   ],
   "source": [
    "min_dist = 100000\n",
    "x = 100\n",
    "y = -1\n",
    "#for i in range (1, 363, 10):\n",
    "for j in range (1, 467, 10):\n",
    "    test_scan, points = sim.calc_scan_for_point(x, j, angles,field_t)\n",
    "    #dist = np.linalg.norm(scan-test_scan)\n",
    "    dist = np.sum(np.abs(scan-test_scan))\n",
    "    if dist < min_dist:\n",
    "        min_dist = dist\n",
    "        y = j\n",
    "    print(i, j, dist)\n",
    "        \n",
    "print(x, y, min_dist)\n",
    "        "
   ]
  },
  {
   "cell_type": "code",
   "execution_count": 2,
   "metadata": {},
   "outputs": [
    {
     "name": "stdout",
     "output_type": "stream",
     "text": [
      "Help on module robocup.field in robocup:\n",
      "\n",
      "NAME\n",
      "    robocup.field\n",
      "\n",
      "DATA\n",
      "    a = [122, 201, 122, 210]\n",
      "    field = [[0, 0, 0, 2340], [0, 0, 1820, 0], [0, 2340, 1820, 2340], [182...\n",
      "    field_t = [[0, 0, 0, 233], [0, 0, 181, 0], [0, 233, 181, 233], [181, 0...\n",
      "    goal = [[595, 231, 1225, 231], [595, 231, 595, 320], [595, 320, 610, 3...\n",
      "    goal2 = [[595, 2109, 1225, 2109], [595, 2109, 595, 2020], [595, 2020, ...\n",
      "    goal_wx = 15\n",
      "    goal_wy = 15\n",
      "    i = 19\n",
      "    j = 3\n",
      "    l = [1225, 320, 1225, 231]\n",
      "    l2 = [1225, 2020, 1225, 2109]\n",
      "    s = [1225, 2020, 1225, 2109]\n",
      "    scale = 500\n",
      "    scale_field = 0.0999980000399992\n",
      "    x = 1820\n",
      "    y = 2340\n",
      "\n",
      "FILE\n",
      "    /home/pi/Desktop/26.8.2019.-7h/jupyter/robocup/field.py\n",
      "\n",
      "\n"
     ]
    }
   ],
   "source": [
    "\n",
    "help(field)\n",
    "\n"
   ]
  },
  {
   "cell_type": "code",
   "execution_count": null,
   "metadata": {},
   "outputs": [],
   "source": []
  }
 ],
 "metadata": {
  "kernelspec": {
   "display_name": "Python 3",
   "language": "python",
   "name": "python3"
  },
  "language_info": {
   "codemirror_mode": {
    "name": "ipython",
    "version": 3
   },
   "file_extension": ".py",
   "mimetype": "text/x-python",
   "name": "python",
   "nbconvert_exporter": "python",
   "pygments_lexer": "ipython3",
   "version": "3.7.3"
  }
 },
 "nbformat": 4,
 "nbformat_minor": 2
}
