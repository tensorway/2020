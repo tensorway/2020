{
 "cells": [
  {
   "cell_type": "code",
   "execution_count": 1,
   "metadata": {},
   "outputs": [],
   "source": [
    "import cv2\n",
    "import numpy as np\n",
    "from robocup import localization as loc\n",
    "from robocup import field\n",
    "import math"
   ]
  },
  {
   "cell_type": "code",
   "execution_count": 3,
   "metadata": {},
   "outputs": [
    {
     "name": "stdout",
     "output_type": "stream",
     "text": [
      "-10000 4000000.0 400.0\n",
      "coeff -0.9999999949999999\n",
      "[[210   0]\n",
      " [160   0]\n",
      " [159 499]\n",
      " [209 499]]\n",
      "[[210   0]\n",
      " [160   0]\n",
      " [159 499]\n",
      " [209 499]]\n"
     ]
    }
   ],
   "source": [
    "f = cv2.imread('slike/8.jpg')\n",
    "a, b = loc.polar_line2cart(400, 0)\n",
    "f = loc.draw_rect_line(f, a, b, -1, 190, 50)\n",
    "cv2.imshow(\"sjkj\", f)\n",
    "cv2.waitKey(0)\n",
    "cv2.destroyAllWindows()"
   ]
  },
  {
   "cell_type": "code",
   "execution_count": 57,
   "metadata": {},
   "outputs": [
    {
     "name": "stdout",
     "output_type": "stream",
     "text": [
      "100 loops, best of 3: 2.15 ms per loop\n"
     ]
    }
   ],
   "source": [
    "%timeit x, y = find_xy(f, w, 50, 0.2, 0.3)"
   ]
  },
  {
   "cell_type": "code",
   "execution_count": 4,
   "metadata": {},
   "outputs": [
    {
     "name": "stdout",
     "output_type": "stream",
     "text": [
      "1381.0485871204426 1361.0845871204426\n"
     ]
    }
   ],
   "source": [
    "w = 500\n",
    "scale = 500\n",
    "f = cv2.imread('slike/3.jpg', 0)        \n",
    "\n",
    "\n",
    "x, y = loc.find_xy(f, w, 50, 0.2, 0.3)\n",
    "print(x, y)\n",
    "    \n",
    "\n",
    "            \n",
    "\n",
    "f = loc.draw_cross(f, 250, 250, 20, 255)   \n",
    "cv2.imshow(\"sjkj\", f)\n",
    "cv2.waitKey(0)\n",
    "cv2.destroyAllWindows()"
   ]
  },
  {
   "cell_type": "code",
   "execution_count": 51,
   "metadata": {},
   "outputs": [],
   "source": [
    "def find_xy(f, w, line_sens, lines_min_dist, right_angle_deviation):\n",
    "    x_coor = -1\n",
    "    y_coor = -1\n",
    "    lines = cv2.HoughLines(f,2,np.pi/180*2,line_sens)\n",
    "        \n",
    "    if lines is not None:\n",
    "        nms_lines = []\n",
    "        found = False\n",
    "        for l in lines:\n",
    "            for rho, theta in l:\n",
    "                l = l[0]\n",
    "                if loc.lines_d (l, nms_lines, w*1.41, math.pi) > lines_min_dist:\n",
    "                    if not found or loc.is_on_right(nms_lines[0], l, right_angle_deviation):\n",
    "                        nms_lines.append(l)\n",
    "                        found = True\n",
    "                        loc.draw_line_polar(f, l)\n",
    "\n",
    "\n",
    "                        dist = loc.pl_dist_polar2(w/2, w/2, rho, theta)\n",
    "                        dist2 = dist / field.scale_field\n",
    "                        if is_y(l) and x_coor == -1:\n",
    "                            if loc.side_x(int(w/2), int(w/2), rho, theta, f):\n",
    "                                x_coor = field.x - dist2\n",
    "                            else:\n",
    "                                x_coor = dist2\n",
    "                        elif y_coor == -1:   \n",
    "                            if not loc.side_y(int(w/2), int(w/2), rho, theta, f):\n",
    "                                y_coor = field.y - dist2\n",
    "                            else:\n",
    "                                y_coor = dist2\n",
    "                        \n",
    "                        if x_coor!= -1 and y != -1:\n",
    "                            return x_coor, y_coor\n",
    "                        \n",
    "                        #print(\"x = \", x_coor, \"y = \", y_coor, \" dist= \", dist, \" dist2 = \", dist2)#, end = '\\r') #, \" rho=\", rho, \" theta=\", theta, \" a=\", a, \" b=\", b, \" pres=\", x0, \" rho=\", rho, \" theta = \", theta, \" end \" , end='\\r')\n",
    "    return x_coor, y_coor"
   ]
  },
  {
   "cell_type": "code",
   "execution_count": 111,
   "metadata": {},
   "outputs": [],
   "source": [
    "def lines_d (l_test, nms_lines, u_range, v_range):\n",
    "    mini = 1000;\n",
    "    #print(nms_lines)\n",
    "    for l in nms_lines:\n",
    "        #l = l[0\n",
    "        temp = dist_rho(l, l_test) / u_range + dist_angl(l_test[1], l[1]) / v_range\n",
    "        #print(\"ls\" ,l_test, l, dist_rho(l, l_test) / u_range,   dist_angl(l_test[1], l[1]) / v_range)\n",
    "        if temp < mini:\n",
    "            mini = temp\n",
    "    \n",
    "    #(mini)\n",
    "    return mini"
   ]
  },
  {
   "cell_type": "code",
   "execution_count": 87,
   "metadata": {},
   "outputs": [],
   "source": [
    "def dist_angl(a, b):\n",
    "    x = abs(a-b)\n",
    "    y = abs(math.pi - a - b)\n",
    "    if x < y:\n",
    "        return x\n",
    "    return y"
   ]
  },
  {
   "cell_type": "code",
   "execution_count": 88,
   "metadata": {},
   "outputs": [],
   "source": [
    "def dist_rho(l1, l2):\n",
    "    if l1[0]*l2[0] < 0:\n",
    "        if l1[1] > math.pi/2 and l2[1] < math.pi/2 or l2[1] > math.pi/2 and l1[1] < math.pi/2:\n",
    "            return abs(abs(l1[0]) - abs(l2[0]))\n",
    "    return abs(l1[0] - l2[0])        "
   ]
  },
  {
   "cell_type": "code",
   "execution_count": 117,
   "metadata": {},
   "outputs": [],
   "source": [
    "def is_on_right(l0, l, d):\n",
    "    #print(\"jfsgjsjj\")\n",
    "    t0 = l0[1]\n",
    "    t1 = l[1]\n",
    "    if t0 > math.pi:\n",
    "        t0 -= math.pi\n",
    "    if t1 > math.pi:\n",
    "        t1 -= math.pi\n",
    "        \n",
    "    dist = dist_angl(t0, t1)\n",
    "    print(\"deist = \", dist, l0, l)\n",
    "    if dist < d or dist > math.pi/2 -d and dist < math.pi/2 + d:\n",
    "        return True\n",
    "    return False"
   ]
  },
  {
   "cell_type": "code",
   "execution_count": 86,
   "metadata": {},
   "outputs": [
    {
     "data": {
      "text/plain": [
       "2"
      ]
     },
     "execution_count": 86,
     "metadata": {},
     "output_type": "execute_result"
    }
   ],
   "source": [
    "5 % 3"
   ]
  },
  {
   "cell_type": "code",
   "execution_count": 122,
   "metadata": {},
   "outputs": [],
   "source": [
    "def draw_line_polar(img, l):\n",
    "    rho = l[0]\n",
    "    theta = l[1]\n",
    "    a = np.cos(theta)\n",
    "    b = np.sin(theta)\n",
    "    x0 = a*rho\n",
    "    y0 = b*rho\n",
    "    x1 = int(x0 + 1000*(-b))\n",
    "    y1 = int(y0 + 1000*(a))\n",
    "    x2 = int(x0 - 1000*(-b))\n",
    "    y2 = int(y0 - 1000*(a))\n",
    "    cv2.line(img,(x1,y1),(x2,y2),255,2)\n",
    "    \n",
    "    return img"
   ]
  },
  {
   "cell_type": "code",
   "execution_count": 10,
   "metadata": {},
   "outputs": [],
   "source": [
    "def is_y(l):\n",
    "    theta = l[1]\n",
    "    if theta < math.pi/4 or theta > math.pi/4*3:\n",
    "        return True\n",
    "    return False"
   ]
  }
 ],
 "metadata": {
  "kernelspec": {
   "display_name": "Python 3",
   "language": "python",
   "name": "python3"
  },
  "language_info": {
   "codemirror_mode": {
    "name": "ipython",
    "version": 3
   },
   "file_extension": ".py",
   "mimetype": "text/x-python",
   "name": "python",
   "nbconvert_exporter": "python",
   "pygments_lexer": "ipython3",
   "version": "3.7.3"
  }
 },
 "nbformat": 4,
 "nbformat_minor": 2
}
