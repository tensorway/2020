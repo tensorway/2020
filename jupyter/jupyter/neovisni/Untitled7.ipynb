{
 "cells": [
  {
   "cell_type": "code",
   "execution_count": 38,
   "metadata": {
    "scrolled": false
   },
   "outputs": [
    {
     "ename": "KeyboardInterrupt",
     "evalue": "",
     "output_type": "error",
     "traceback": [
      "\u001b[0;31m---------------------------------------------------------------------------\u001b[0m",
      "\u001b[0;31mKeyboardInterrupt\u001b[0m                         Traceback (most recent call last)",
      "\u001b[0;32m<ipython-input-38-75d4325d05b6>\u001b[0m in \u001b[0;36m<module>\u001b[0;34m()\u001b[0m\n\u001b[1;32m     14\u001b[0m \u001b[0;32mwhile\u001b[0m \u001b[0;36m1\u001b[0m\u001b[0;34m:\u001b[0m\u001b[0;34m\u001b[0m\u001b[0;34m\u001b[0m\u001b[0m\n\u001b[1;32m     15\u001b[0m     \u001b[0mset_moving_angle\u001b[0m\u001b[0;34m(\u001b[0m\u001b[0;36m157\u001b[0m\u001b[0;34m,\u001b[0m \u001b[0;36m0.26\u001b[0m\u001b[0;34m)\u001b[0m\u001b[0;34m\u001b[0m\u001b[0;34m\u001b[0m\u001b[0m\n\u001b[0;32m---> 16\u001b[0;31m     \u001b[0mtime\u001b[0m\u001b[0;34m.\u001b[0m\u001b[0msleep\u001b[0m\u001b[0;34m(\u001b[0m\u001b[0;36m0.3\u001b[0m\u001b[0;34m)\u001b[0m\u001b[0;34m\u001b[0m\u001b[0;34m\u001b[0m\u001b[0m\n\u001b[0m",
      "\u001b[0;31mKeyboardInterrupt\u001b[0m: "
     ]
    }
   ],
   "source": [
    "import time\n",
    "import serial\n",
    "               \n",
    "ser = serial.Serial(            \n",
    "     port='/dev/ttyS0',\n",
    "     baudrate = 115200,\n",
    "     parity=serial.PARITY_NONE,\n",
    "     stopbits=serial.STOPBITS_ONE,\n",
    "     bytesize=serial.EIGHTBITS,\n",
    "     timeout=1\n",
    ")\n",
    "time.sleep(0.3)\n",
    "\n",
    "while 1:\n",
    "    set_moving_angle(157, 0.26)\n",
    "    time.sleep(0.3)"
   ]
  },
  {
   "cell_type": "code",
   "execution_count": 36,
   "metadata": {},
   "outputs": [],
   "source": [
    "def send_byte(x):\n",
    "    #print(x)\n",
    "    b = x.to_bytes(1, byteorder = 'big')\n",
    "    ser.write(b)"
   ]
  },
  {
   "cell_type": "code",
   "execution_count": 35,
   "metadata": {},
   "outputs": [],
   "source": [
    "def set_moving_angle(angle, speed):\n",
    "    angle = int(angle)\n",
    "    int_speed = (int)(speed * 1000)\n",
    "    a1 = int_speed >> 8\n",
    "    a2 = int_speed - (a1 << 8)\n",
    "    a3 = angle >> 8\n",
    "    a4 = angle - (a3 << 8)\n",
    "    #print(a1, a2, a3, a4)\n",
    "    \n",
    "    ser.write(b'm')\n",
    "    ser.write(b'u')\n",
    "    ser.write(b'u')\n",
    "    ser.write(b'u')\n",
    "    send_byte(a3)\n",
    "    send_byte(a4)\n",
    "    send_byte(a1)\n",
    "    send_byte(a2)"
   ]
  },
  {
   "cell_type": "code",
   "execution_count": 3,
   "metadata": {},
   "outputs": [
    {
     "name": "stdout",
     "output_type": "stream",
     "text": [
      "Help on package serial:\n",
      "\n",
      "NAME\n",
      "    serial\n",
      "\n",
      "DESCRIPTION\n",
      "    # This is a wrapper module for different platform implementations\n",
      "    #\n",
      "    # This file is part of pySerial. https://github.com/pyserial/pyserial\n",
      "    # (C) 2001-2017 Chris Liechti <cliechti@gmx.net>\n",
      "    #\n",
      "    # SPDX-License-Identifier:    BSD-3-Clause\n",
      "\n",
      "PACKAGE CONTENTS\n",
      "    rfc2217\n",
      "    rs485\n",
      "    serialcli\n",
      "    serialjava\n",
      "    serialposix\n",
      "    serialutil\n",
      "    serialwin32\n",
      "    threaded (package)\n",
      "    tools (package)\n",
      "    urlhandler (package)\n",
      "    win32\n",
      "\n",
      "FUNCTIONS\n",
      "    serial_for_url(url, *args, **kwargs)\n",
      "        Get an instance of the Serial class, depending on port/url. The port is not\n",
      "        opened when the keyword parameter 'do_not_open' is true, by default it\n",
      "        is. All other parameters are directly passed to the __init__ method when\n",
      "        the port is instantiated.\n",
      "        \n",
      "        The list of package names that is searched for protocol handlers is kept in\n",
      "        ``protocol_handler_packages``.\n",
      "        \n",
      "        e.g. we want to support a URL ``foobar://``. A module\n",
      "        ``my_handlers.protocol_foobar`` is provided by the user. Then\n",
      "        ``protocol_handler_packages.append(\"my_handlers\")`` would extend the search\n",
      "        path so that ``serial_for_url(\"foobar://\"))`` would work.\n",
      "\n",
      "DATA\n",
      "    CR = b'\\r'\n",
      "    EIGHTBITS = 8\n",
      "    FIVEBITS = 5\n",
      "    LF = b'\\n'\n",
      "    PARITY_EVEN = 'E'\n",
      "    PARITY_MARK = 'M'\n",
      "    PARITY_NAMES = {'E': 'Even', 'M': 'Mark', 'N': 'None', 'O': 'Odd', 'S'...\n",
      "    PARITY_NONE = 'N'\n",
      "    PARITY_ODD = 'O'\n",
      "    PARITY_SPACE = 'S'\n",
      "    SEVENBITS = 7\n",
      "    SIXBITS = 6\n",
      "    STOPBITS_ONE = 1\n",
      "    STOPBITS_ONE_POINT_FIVE = 1.5\n",
      "    STOPBITS_TWO = 2\n",
      "    VERSION = '3.4'\n",
      "    XOFF = b'\\x13'\n",
      "    XON = b'\\x11'\n",
      "    basestring = (<class 'str'>,)\n",
      "    portNotOpenError = SerialException('Attempting to use a port that is n...\n",
      "    protocol_handler_packages = ['serial.urlhandler']\n",
      "    writeTimeoutError = SerialTimeoutException('Write timeout')\n",
      "\n",
      "VERSION\n",
      "    3.4\n",
      "\n",
      "FILE\n",
      "    /usr/lib/python3/dist-packages/serial/__init__.py\n",
      "\n",
      "\n"
     ]
    }
   ],
   "source": [
    "help(serial)"
   ]
  },
  {
   "cell_type": "code",
   "execution_count": 4,
   "metadata": {},
   "outputs": [
    {
     "name": "stdout",
     "output_type": "stream",
     "text": [
      "Serial is open: True\n"
     ]
    },
    {
     "ename": "KeyboardInterrupt",
     "evalue": "",
     "output_type": "error",
     "traceback": [
      "\u001b[0;31m---------------------------------------------------------------------------\u001b[0m",
      "\u001b[0;31mKeyboardInterrupt\u001b[0m                         Traceback (most recent call last)",
      "\u001b[0;32m<ipython-input-4-3e4def962cc4>\u001b[0m in \u001b[0;36m<module>\u001b[0;34m()\u001b[0m\n\u001b[1;32m     12\u001b[0m \u001b[0mprint\u001b[0m\u001b[0;34m(\u001b[0m\u001b[0;34m\"Serial is open: \"\u001b[0m \u001b[0;34m+\u001b[0m \u001b[0mstr\u001b[0m\u001b[0;34m(\u001b[0m\u001b[0mser\u001b[0m\u001b[0;34m.\u001b[0m\u001b[0misOpen\u001b[0m\u001b[0;34m(\u001b[0m\u001b[0;34m)\u001b[0m\u001b[0;34m)\u001b[0m\u001b[0;34m)\u001b[0m\u001b[0;34m\u001b[0m\u001b[0;34m\u001b[0m\u001b[0m\n\u001b[1;32m     13\u001b[0m \u001b[0;34m\u001b[0m\u001b[0m\n\u001b[0;32m---> 14\u001b[0;31m \u001b[0mser\u001b[0m\u001b[0;34m.\u001b[0m\u001b[0mwrite\u001b[0m\u001b[0;34m(\u001b[0m\u001b[0;36m300\u001b[0m\u001b[0;34m)\u001b[0m\u001b[0;34m\u001b[0m\u001b[0;34m\u001b[0m\u001b[0m\n\u001b[0m\u001b[1;32m     15\u001b[0m \u001b[0mx\u001b[0m \u001b[0;34m=\u001b[0m \u001b[0mser\u001b[0m\u001b[0;34m.\u001b[0m\u001b[0mread\u001b[0m\u001b[0;34m(\u001b[0m\u001b[0;34m)\u001b[0m\u001b[0;34m\u001b[0m\u001b[0;34m\u001b[0m\u001b[0m\n\u001b[1;32m     16\u001b[0m \u001b[0mprint\u001b[0m\u001b[0;34m(\u001b[0m \u001b[0mx\u001b[0m \u001b[0;34m)\u001b[0m\u001b[0;34m\u001b[0m\u001b[0;34m\u001b[0m\u001b[0m\n",
      "\u001b[0;32m/usr/lib/python3/dist-packages/serial/serialposix.py\u001b[0m in \u001b[0;36mwrite\u001b[0;34m(self, data)\u001b[0m\n\u001b[1;32m    554\u001b[0m                     \u001b[0;32massert\u001b[0m \u001b[0mtimeout\u001b[0m\u001b[0;34m.\u001b[0m\u001b[0mtime_left\u001b[0m\u001b[0;34m(\u001b[0m\u001b[0;34m)\u001b[0m \u001b[0;32mis\u001b[0m \u001b[0;32mNone\u001b[0m\u001b[0;34m\u001b[0m\u001b[0;34m\u001b[0m\u001b[0m\n\u001b[1;32m    555\u001b[0m                     \u001b[0;31m# wait for write operation\u001b[0m\u001b[0;34m\u001b[0m\u001b[0;34m\u001b[0m\u001b[0;34m\u001b[0m\u001b[0m\n\u001b[0;32m--> 556\u001b[0;31m                     \u001b[0mabort\u001b[0m\u001b[0;34m,\u001b[0m \u001b[0mready\u001b[0m\u001b[0;34m,\u001b[0m \u001b[0m_\u001b[0m \u001b[0;34m=\u001b[0m \u001b[0mselect\u001b[0m\u001b[0;34m.\u001b[0m\u001b[0mselect\u001b[0m\u001b[0;34m(\u001b[0m\u001b[0;34m[\u001b[0m\u001b[0mself\u001b[0m\u001b[0;34m.\u001b[0m\u001b[0mpipe_abort_write_r\u001b[0m\u001b[0;34m]\u001b[0m\u001b[0;34m,\u001b[0m \u001b[0;34m[\u001b[0m\u001b[0mself\u001b[0m\u001b[0;34m.\u001b[0m\u001b[0mfd\u001b[0m\u001b[0;34m]\u001b[0m\u001b[0;34m,\u001b[0m \u001b[0;34m[\u001b[0m\u001b[0;34m]\u001b[0m\u001b[0;34m,\u001b[0m \u001b[0;32mNone\u001b[0m\u001b[0;34m)\u001b[0m\u001b[0;34m\u001b[0m\u001b[0;34m\u001b[0m\u001b[0m\n\u001b[0m\u001b[1;32m    557\u001b[0m                     \u001b[0;32mif\u001b[0m \u001b[0mabort\u001b[0m\u001b[0;34m:\u001b[0m\u001b[0;34m\u001b[0m\u001b[0;34m\u001b[0m\u001b[0m\n\u001b[1;32m    558\u001b[0m                         \u001b[0mos\u001b[0m\u001b[0;34m.\u001b[0m\u001b[0mread\u001b[0m\u001b[0;34m(\u001b[0m\u001b[0mself\u001b[0m\u001b[0;34m.\u001b[0m\u001b[0mpipe_abort_write_r\u001b[0m\u001b[0;34m,\u001b[0m \u001b[0;36m1\u001b[0m\u001b[0;34m)\u001b[0m\u001b[0;34m\u001b[0m\u001b[0;34m\u001b[0m\u001b[0m\n",
      "\u001b[0;31mKeyboardInterrupt\u001b[0m: "
     ]
    }
   ],
   "source": [
    "import serial\n",
    "\n",
    "ser = serial.Serial(\n",
    "        port='/dev/ttyAMA0',\n",
    "        baudrate=9600,\n",
    "        parity=serial.PARITY_NONE,\n",
    "        stopbits=serial.STOPBITS_ONE,\n",
    "        bytesize=serial.EIGHTBITS,\n",
    "        timeout=1\n",
    ")\n",
    "\n",
    "print(\"Serial is open: \" + str(ser.isOpen()))\n",
    "\n",
    "ser.write(300)\n",
    "x = ser.read()\n",
    "print( x )\n",
    "\n",
    "ser.close()"
   ]
  },
  {
   "cell_type": "code",
   "execution_count": null,
   "metadata": {},
   "outputs": [],
   "source": []
  }
 ],
 "metadata": {
  "kernelspec": {
   "display_name": "Python 3",
   "language": "python",
   "name": "python3"
  },
  "language_info": {
   "codemirror_mode": {
    "name": "ipython",
    "version": 3
   },
   "file_extension": ".py",
   "mimetype": "text/x-python",
   "name": "python",
   "nbconvert_exporter": "python",
   "pygments_lexer": "ipython3",
   "version": "3.7.3"
  }
 },
 "nbformat": 4,
 "nbformat_minor": 2
}
