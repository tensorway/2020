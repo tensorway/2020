{
 "cells": [
  {
   "cell_type": "code",
   "execution_count": 166,
   "metadata": {},
   "outputs": [],
   "source": [
    "import cv2\n",
    "import numpy as np\n",
    "import time as t"
   ]
  },
  {
   "cell_type": "code",
   "execution_count": 182,
   "metadata": {},
   "outputs": [],
   "source": []
  },
  {
   "cell_type": "code",
   "execution_count": 176,
   "metadata": {
    "scrolled": false
   },
   "outputs": [],
   "source": [
    "cv2.destroyAllWindows()"
   ]
  },
  {
   "cell_type": "code",
   "execution_count": 178,
   "metadata": {},
   "outputs": [
    {
     "data": {
      "text/plain": [
       "-1"
      ]
     },
     "execution_count": 178,
     "metadata": {},
     "output_type": "execute_result"
    }
   ],
   "source": [
    "img = cv2.imread('messi.jpg', 3)\n",
    "cv2.imshow('image', img)\n",
    "cv2.waitKey(20)"
   ]
  },
  {
   "cell_type": "code",
   "execution_count": 179,
   "metadata": {},
   "outputs": [],
   "source": [
    "cv2.destroyAllWindows()\n"
   ]
  },
  {
   "cell_type": "code",
   "execution_count": 193,
   "metadata": {},
   "outputs": [
    {
     "name": "stdout",
     "output_type": "stream",
     "text": [
      "[[[153 110  47]\n",
      "  [153 110  47]\n",
      "  [154 111  48]\n",
      "  ...\n",
      "  [163 135 101]\n",
      "  [163 135 101]\n",
      "  [164 136 102]]\n",
      "\n",
      " [[153 110  47]\n",
      "  [153 110  47]\n",
      "  [154 111  48]\n",
      "  ...\n",
      "  [161 133 102]\n",
      "  [162 133 102]\n",
      "  [162 134 103]]\n",
      "\n",
      " [[153 110  47]\n",
      "  [153 110  47]\n",
      "  [154 111  48]\n",
      "  ...\n",
      "  [160 133 106]\n",
      "  [162 133 106]\n",
      "  [160 133 106]]\n",
      "\n",
      " ...\n",
      "\n",
      " [[104 138 232]\n",
      "  [ 93 131 225]\n",
      "  [ 57 101 194]\n",
      "  ...\n",
      "  [  6  14  21]\n",
      "  [  7  15  22]\n",
      "  [  9  17  24]]\n",
      "\n",
      " [[ 96 129 226]\n",
      "  [ 95 133 229]\n",
      "  [ 51  97 192]\n",
      "  ...\n",
      "  [ 10  16  23]\n",
      "  [  8  16  23]\n",
      "  [ 10  18  25]]\n",
      "\n",
      " [[ 99 132 229]\n",
      "  [100 138 234]\n",
      "  [ 79 125 220]\n",
      "  ...\n",
      "  [ 11  17  24]\n",
      "  [  9  17  24]\n",
      "  [  9  17  24]]]\n",
      "[[[184 174 120]\n",
      "  [189 177 123]\n",
      "  [192 178 125]\n",
      "  ...\n",
      "  [187 170 237]\n",
      "  [185 170 231]\n",
      "  [188 175 229]]\n",
      "\n",
      " [[188 175 123]\n",
      "  [190 178 124]\n",
      "  [192 178 125]\n",
      "  ...\n",
      "  [187 170 237]\n",
      "  [186 171 232]\n",
      "  [189 176 230]]\n",
      "\n",
      " [[190 176 127]\n",
      "  [192 178 125]\n",
      "  [194 179 123]\n",
      "  ...\n",
      "  [187 170 237]\n",
      "  [187 172 233]\n",
      "  [190 177 231]]\n",
      "\n",
      " ...\n",
      "\n",
      " [[178 151 207]\n",
      "  [174 148 208]\n",
      "  [174 147 211]\n",
      "  ...\n",
      "  [154 113 158]\n",
      "  [152 116 158]\n",
      "  [148 117 154]]\n",
      "\n",
      " [[178 150 209]\n",
      "  [174 145 208]\n",
      "  [176 145 212]\n",
      "  ...\n",
      "  [156 114 161]\n",
      "  [155 119 163]\n",
      "  [151 117 157]]\n",
      "\n",
      " [[178 151 207]\n",
      "  [173 145 205]\n",
      "  [179 146 213]\n",
      "  ...\n",
      "  [158 116 164]\n",
      "  [158 119 164]\n",
      "  [155 117 159]]]\n"
     ]
    }
   ],
   "source": [
    "img1 = cv2.imread('trans1.jpg')\n",
    "img2 = cv2.imread('trans2.jpg')\n",
    "cv2.namedWindow('si')\n",
    "def no(x):\n",
    "    a = 0\n",
    "cv2.createTrackbar('trans', 'si', 0, 100, no)\n",
    "print(img1)\n",
    "print(img2)\n",
    "over = True\n",
    "\n",
    "while over:\n",
    "    maxi = 100\n",
    "    for i in range (maxi):\n",
    "        koef1 = cv2.getTrackbarPos('trans', 'si')/100\n",
    "        koef2 = 1-koef1\n",
    "        img = cv2.addWeighted(img1,koef1,img2,koef2,0)\n",
    "        cv2.imshow('si', img)\n",
    "        if cv2.waitKey(10) == 27:\n",
    "            over = False\n",
    "            break\n",
    "\n",
    "cv2.destroyAllWindows()"
   ]
  },
  {
   "cell_type": "code",
   "execution_count": 194,
   "metadata": {},
   "outputs": [
    {
     "data": {
      "text/plain": [
       "True"
      ]
     },
     "execution_count": 194,
     "metadata": {},
     "output_type": "execute_result"
    }
   ],
   "source": [
    "cv2.useOptimized()"
   ]
  },
  {
   "cell_type": "markdown",
   "metadata": {},
   "source": [
    "## "
   ]
  },
  {
   "cell_type": "code",
   "execution_count": 201,
   "metadata": {},
   "outputs": [
    {
     "name": "stdout",
     "output_type": "stream",
     "text": [
      "10 loops, best of 3: 23.9 ms per loop\n"
     ]
    }
   ],
   "source": [
    "x = 4\n",
    "%timeit res = cv2.medianBlur(img1, 49)"
   ]
  },
  {
   "cell_type": "code",
   "execution_count": 3,
   "metadata": {},
   "outputs": [
    {
     "name": "stdout",
     "output_type": "stream",
     "text": [
      "3.201871210744805\n",
      "16.79454797350866\n",
      "31.252963749487723\n",
      "32.65956005450652\n",
      "26.554463092984534\n"
     ]
    }
   ],
   "source": [
    "import cv2\n",
    "import numpy as np\n",
    "import time\n",
    "\n",
    "cap = cv2.VideoCapture(0)\n",
    "last_print = 0\n",
    "while(1):\n",
    "\n",
    "    times = time.time()\n",
    "    # Take each frame\n",
    "    _, frame = cap.read()\n",
    "\n",
    "    # Convert BGR to HSV\n",
    "    hsv = cv2.cvtColor(frame, cv2.COLOR_BGR2HSV)\n",
    "\n",
    "    # define range of blue color in HSV\n",
    "    lower_blue = np.array([90,50,50])\n",
    "    upper_blue = np.array([150,255,255])\n",
    "\n",
    "    # Threshold the HSV image to get only blue colors\n",
    "    mask = cv2.inRange(hsv, lower_blue, upper_blue)\n",
    "\n",
    "    # Bitwise-AND mask and original image\n",
    "    res = cv2.bitwise_and(frame,frame, mask= mask)\n",
    "\n",
    "    cv2.imshow('frame',frame)\n",
    "    cv2.imshow('mask',mask)\n",
    "    cv2.imshow('res',res)\n",
    "    k = cv2.waitKey(1) & 0xFF\n",
    "    if k == 27:\n",
    "        break\n",
    "    fps = 1/ (time.time()-times)\n",
    "    if time.time()-last_print > 2:\n",
    "        print(fps)\n",
    "        last_print = time.time()\n",
    "cv2.destroyAllWindows()\n",
    "cap.release()"
   ]
  },
  {
   "cell_type": "code",
   "execution_count": 2,
   "metadata": {},
   "outputs": [
    {
     "data": {
      "text/plain": [
       "array([[[ 60, 255, 255]]], dtype=uint8)"
      ]
     },
     "execution_count": 2,
     "metadata": {},
     "output_type": "execute_result"
    }
   ],
   "source": [
    "green = np.uint8([[[0, 255, 0]]])\n",
    "green = cv2.cvtColor(green, cv2.COLOR_BGR2HSV)\n",
    "green"
   ]
  },
  {
   "cell_type": "code",
   "execution_count": 3,
   "metadata": {},
   "outputs": [],
   "source": [
    "cap.release()"
   ]
  },
  {
   "cell_type": "code",
   "execution_count": 6,
   "metadata": {},
   "outputs": [],
   "source": [
    "def no(x):\n",
    "    a = 7"
   ]
  },
  {
   "cell_type": "code",
   "execution_count": null,
   "metadata": {},
   "outputs": [],
   "source": [
    "import numpy as np \n",
    "import cv2 as cv\n",
    "import time as t\n",
    "\n",
    "cap = cv.VideoCapture(0)\n",
    "low = np.array([100, 50, 50])\n",
    "high = np.array([150, 255, 255])\n",
    "cv.namedWindow('low')\n",
    "cv.createTrackbar('h', 'low', 0, 179, no)\n",
    "cv.createTrackbar('s', 'low', 0, 255, no)\n",
    "cv.createTrackbar('v', 'low', 0, 255, no)\n",
    "cv.namedWindow('high')\n",
    "cv.createTrackbar('h', 'high', 0, 179, no)\n",
    "cv.createTrackbar('s', 'high', 0, 255, no)\n",
    "cv.createTrackbar('v', 'high', 0, 255, no)\n",
    "\n",
    "while True:\n",
    "    _, frame = cap.read()\n",
    "    h = cv.getTrackbarPos('h', 'low')\n",
    "    s = cv.getTrackbarPos('s', 'low')\n",
    "    v = cv.getTrackbarPos('v', 'low')\n",
    "    low = [h, s, v]\n",
    "    \n",
    "    h = cv.getTrackbarPos('h', 'high')\n",
    "    s = cv.getTrackBarPos('s', 'high')\n",
    "    v = cv.getTrackbarPos('v', 'high')\n",
    "    high = [h, s, v]\n",
    "    hsv = cv.cvtColor(frame, cv.COLOR_BGR2HSV)\n",
    "    mask = cv.inRange(hsv, low, high)\n",
    "    cv.imshow('mask', mask)\n",
    "    cv.imshow('image', img)\n",
    "    k = cv.waitKey(1)\n",
    "    if k == 27:\n",
    "        break\n",
    "    \n",
    "cv.destroyAllWindows()\n",
    "cap.release()\n"
   ]
  }
 ],
 "metadata": {
  "kernelspec": {
   "display_name": "Python 3",
   "language": "python",
   "name": "python3"
  },
  "language_info": {
   "codemirror_mode": {
    "name": "ipython",
    "version": 3
   },
   "file_extension": ".py",
   "mimetype": "text/x-python",
   "name": "python",
   "nbconvert_exporter": "python",
   "pygments_lexer": "ipython3",
   "version": "3.6.8"
  }
 },
 "nbformat": 4,
 "nbformat_minor": 2
}
