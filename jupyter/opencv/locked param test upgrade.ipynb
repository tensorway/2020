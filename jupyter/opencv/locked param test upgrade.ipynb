{
 "cells": [
  {
   "cell_type": "code",
   "execution_count": 44,
   "metadata": {},
   "outputs": [
    {
     "name": "stdout",
     "output_type": "stream",
     "text": [
      "t= (Fraction(455, 256), Fraction(435, 256))\n",
      "7.5885474430764495 6.29123693934712456.6582655125154915 6.3704480997307166.5174937834200336.6697316599108486.840039826700838\r"
     ]
    }
   ],
   "source": [
    "from picamera.array import PiRGBArray\n",
    "from picamera import PiCamera\n",
    "import time\n",
    "import cv2\n",
    "import numpy as np\n",
    "from fractions import Fraction\n",
    "\n",
    "camera = PiCamera()\n",
    "#res = (1640, 1232)\n",
    "res = (640, 480)\n",
    "#res = (1280, 960)\n",
    "camera.resolution = res\n",
    "#camera.framerate = 30\n",
    "\n",
    "time.sleep(1)\n",
    "camera.iso = 100\n",
    "t = camera.awb_gains\n",
    "print(\"t=\", t)\n",
    "camera.awb_mode = 'off'\n",
    "camera.awb_gains = t\n",
    "#camera.digital_gain = Fraction(1, 1)\n",
    "camera.drc_strength = 'off'\n",
    "camera.exposure_mode = 'off'\n",
    "rawCapture = PiRGBArray(camera, size=res)\n",
    "\n",
    "time.sleep(0.1)\n",
    "n = 0\n",
    "t1 = time.time()\n",
    "averf = 10\n",
    "nmask = 0\n",
    "nnmask = 0\n",
    "xcen = 280\n",
    "ycen = 210\n",
    "\n",
    "mdc = np.ones(mask.shape, np.uint8)*255\n",
    "mask_diff_color = cv2.circle(mdc,(xcen,ycen), 190, 0, -1)\n",
    "\n",
    "for frame in camera.capture_continuous(rawCapture, format=\"bgr\", use_video_port=True):\n",
    "    \n",
    "    img = frame.array\n",
    "    hsv = cv2.cvtColor(img, cv2.COLOR_BGR2HSV)\n",
    "    low1 = np.array([0, 50, 60])\n",
    "    low2 = np.array([170, 50, 60])\n",
    "    low3 = np.array([0, 50, 60])\n",
    "    high1 = np.array([20, 255, 255])\n",
    "    high2 = np.array([180, 255, 255])\n",
    "    high3 = np.array([30, 160, 255])\n",
    "    mask1 = cv2.inRange(hsv, low1, high1)\n",
    "    mask2 = cv2.inRange(hsv, low2, high2)\n",
    "    mask = cv2.bitwise_or(mask1, mask2)\n",
    "    mask_dc = cv2.inRange(hsv, low3, high3)\n",
    "    mask_dc = cv2.bitwise_and(mask_diff_color, mask_dc)\n",
    "    mask11 = cv2.bitwise_or(mask, mask_dc)\n",
    "\n",
    "    if n==0:\n",
    "        nmask = mask\n",
    "    \n",
    "    if n < 30:\n",
    "        nmask, nnmask = create_not_mask(nmask, mask)\n",
    "    #image = cv2.imdecode(image, 1)\n",
    "    #print(image.shape)\n",
    "    #cv2.imshow(\"Frame\", img)\n",
    "    #cv2.imshow(\"Frame2\", mask)\n",
    "    #print(camera.iso, camera.digital_gain, camera.analog_gain)\n",
    "    mask = cv2.erode(mask, np.ones((3, 3))/9)\n",
    "    mask = cv2.dilate(mask, np.ones((3, 3))/9)\n",
    "    \n",
    "    key = cv2.waitKey(1) & 0xFF\n",
    "    \n",
    "    print(1/(time.time()-t1), averf, end = '\\r')\n",
    "    averf = averf*0.9+0.1*1/(time.time()-t1)\n",
    "    #print(\"average = \", averf)\n",
    "    t1 = time.time()\n",
    "    rawCapture.truncate(0)\n",
    "    cv2.imshow('masks', img)#cv2.resize(img, (300, 200)))\n",
    "    cv2.imshow('mask', mask)#cv2.resize(mask, (300, 200)))\n",
    "    cv2.imshow('not mask', nnmask)\n",
    "    cv2.imshow('cleaned', cv2.bitwise_and(mask, nnmask))\n",
    "    cv2.imshow('imn', cv2.bitwise_and(img,img,mask = mask_diff_color))\n",
    "    cv2.imshow('mdc', mask_dc)\n",
    "    if key == ord(\"q\") or n>5000:\n",
    "        cv2.imwrite('nnmask.png', nnmask)\n",
    "        #cv2.imwrite('mask_diff_color.png', mask_diff_color)\n",
    "        break\n",
    "    n += 1\n",
    "    \n",
    "\n",
    "cv2.destroyAllWindows()\n",
    "camera.close()"
   ]
  },
  {
   "cell_type": "code",
   "execution_count": 2,
   "metadata": {},
   "outputs": [],
   "source": [
    "def create_not_mask(mask, noise):\n",
    "    mask = cv2.bitwise_or(mask, noise)\n",
    "    nnmask = cv2.bitwise_not(nmask)\n",
    "    return mask, nnmask"
   ]
  },
  {
   "cell_type": "code",
   "execution_count": 25,
   "metadata": {},
   "outputs": [],
   "source": [
    "\n",
    "cv2.destroyAllWindows()\n",
    "camera.close()"
   ]
  },
  {
   "cell_type": "code",
   "execution_count": 23,
   "metadata": {},
   "outputs": [
    {
     "name": "stdout",
     "output_type": "stream",
     "text": [
      "Help on built-in function inRange:\n",
      "\n",
      "inRange(...)\n",
      "    inRange(src, lowerb, upperb[, dst]) -> dst\n",
      "    .   @brief  Checks if array elements lie between the elements of two other arrays.\n",
      "    .   \n",
      "    .   The function checks the range as follows:\n",
      "    .   -   For every element of a single-channel input array:\n",
      "    .   \\f[\\texttt{dst} (I)= \\texttt{lowerb} (I)_0  \\leq \\texttt{src} (I)_0 \\leq  \\texttt{upperb} (I)_0\\f]\n",
      "    .   -   For two-channel arrays:\n",
      "    .   \\f[\\texttt{dst} (I)= \\texttt{lowerb} (I)_0  \\leq \\texttt{src} (I)_0 \\leq  \\texttt{upperb} (I)_0  \\land \\texttt{lowerb} (I)_1  \\leq \\texttt{src} (I)_1 \\leq  \\texttt{upperb} (I)_1\\f]\n",
      "    .   -   and so forth.\n",
      "    .   \n",
      "    .   That is, dst (I) is set to 255 (all 1 -bits) if src (I) is within the\n",
      "    .   specified 1D, 2D, 3D, ... box and 0 otherwise.\n",
      "    .   \n",
      "    .   When the lower and/or upper boundary parameters are scalars, the indexes\n",
      "    .   (I) at lowerb and upperb in the above formulas should be omitted.\n",
      "    .   @param src first input array.\n",
      "    .   @param lowerb inclusive lower boundary array or a scalar.\n",
      "    .   @param upperb inclusive upper boundary array or a scalar.\n",
      "    .   @param dst output array of the same size as src and CV_8U type.\n",
      "\n"
     ]
    }
   ],
   "source": [
    "help(cv2.inRange)"
   ]
  }
 ],
 "metadata": {
  "kernelspec": {
   "display_name": "Python 3",
   "language": "python",
   "name": "python3"
  },
  "language_info": {
   "codemirror_mode": {
    "name": "ipython",
    "version": 3
   },
   "file_extension": ".py",
   "mimetype": "text/x-python",
   "name": "python",
   "nbconvert_exporter": "python",
   "pygments_lexer": "ipython3",
   "version": "3.7.3"
  }
 },
 "nbformat": 4,
 "nbformat_minor": 2
}
