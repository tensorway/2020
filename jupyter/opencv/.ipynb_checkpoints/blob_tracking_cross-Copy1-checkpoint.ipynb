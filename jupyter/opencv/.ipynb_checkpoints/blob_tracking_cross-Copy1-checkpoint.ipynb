{
 "cells": [
  {
   "cell_type": "code",
   "execution_count": 1,
   "metadata": {},
   "outputs": [],
   "source": [
    "import numpy as np\n",
    "import cv2\n",
    "import time as t\n",
    "import matplotlib.pyplot as plt\n",
    "import math"
   ]
  },
  {
   "cell_type": "code",
   "execution_count": 2,
   "metadata": {},
   "outputs": [],
   "source": [
    "def no(x):\n",
    "    a = 0"
   ]
  },
  {
   "cell_type": "code",
   "execution_count": 3,
   "metadata": {},
   "outputs": [],
   "source": [
    "def read_trackbars():\n",
    "    hl = cv2.getTrackbarPos('h', 'low')\n",
    "    sl = cv2.getTrackbarPos('s', 'low')\n",
    "    vl = cv2.getTrackbarPos('v', 'low')\n",
    "    \n",
    "    hh = cv2.getTrackbarPos('h', 'high')\n",
    "    sh = cv2.getTrackbarPos('s', 'high')\n",
    "    vh = cv2.getTrackbarPos('v', 'high')"
   ]
  },
  {
   "cell_type": "code",
   "execution_count": 4,
   "metadata": {},
   "outputs": [],
   "source": [
    "def setup_trackbars():\n",
    "    cv2.namedWindow('low')\n",
    "    cv2.namedWindow('high')\n",
    "    cv2.createTrackbar('h', 'low', 0, 179, no)\n",
    "    cv2.createTrackbar('s', 'low', 0, 255, no)\n",
    "    cv2.createTrackbar('v', 'low', 0, 255, no)\n",
    "    cv2.createTrackbar('h', 'high', 0, 179, no)\n",
    "    cv2.createTrackbar('s', 'high', 0, 255, no)\n",
    "    cv2.createTrackbar('v', 'high', 0, 255, no)\n",
    "    cv2.createTrackbar('ratio_low', 'low', 100, 300, no)\n",
    "    cv2.createTrackbar('ratio_high', 'high', 100, 300, no)\n",
    "    cv2.createTrackbar('epsilon', 'low', 0, 100, no)\n",
    "    cv2.createTrackbar('pp_low', 'low', 0, 1000, no)\n",
    "    cv2.createTrackbar('pp_high', 'high', 0, 1000, no)"
   ]
  },
  {
   "cell_type": "code",
   "execution_count": 5,
   "metadata": {},
   "outputs": [],
   "source": [
    "def draw_cross(img, x, y, length, color):\n",
    "    img = cv2.line(img, (x, y), (x, y + length), color ,5)\n",
    "    img = cv2.line(img, (x, y), (x, y - length), color ,5)\n",
    "    img = cv2.line(img, (x, y), (x + length, y), color ,5)\n",
    "    img = cv2.line(img, (x, y), (x - length, y), color ,5)\n",
    "    return img"
   ]
  },
  {
   "cell_type": "code",
   "execution_count": 11,
   "metadata": {},
   "outputs": [],
   "source": [
    "cap.release()\n",
    "cv2.destroyAllWindows()"
   ]
  },
  {
   "cell_type": "code",
   "execution_count": null,
   "metadata": {},
   "outputs": [],
   "source": []
  },
  {
   "cell_type": "code",
   "execution_count": 8,
   "metadata": {
    "scrolled": true
   },
   "outputs": [
    {
     "name": "stdout",
     "output_type": "stream",
     "text": [
      "209.0\n"
     ]
    },
    {
     "ename": "NameError",
     "evalue": "name 'i' is not defined",
     "output_type": "error",
     "traceback": [
      "\u001b[0;31m---------------------------------------------------------------------------\u001b[0m",
      "\u001b[0;31mNameError\u001b[0m                                 Traceback (most recent call last)",
      "\u001b[0;32m<ipython-input-8-68338d896734>\u001b[0m in \u001b[0;36m<module>\u001b[0;34m()\u001b[0m\n\u001b[1;32m     54\u001b[0m             \u001b[0;32mif\u001b[0m \u001b[0mmax_size\u001b[0m \u001b[0;34m<\u001b[0m \u001b[0marea\u001b[0m\u001b[0;34m:\u001b[0m\u001b[0;34m\u001b[0m\u001b[0;34m\u001b[0m\u001b[0m\n\u001b[1;32m     55\u001b[0m                 \u001b[0mmax_size\u001b[0m \u001b[0;34m=\u001b[0m \u001b[0marea\u001b[0m\u001b[0;34m\u001b[0m\u001b[0;34m\u001b[0m\u001b[0m\n\u001b[0;32m---> 56\u001b[0;31m                 \u001b[0mi_max_size\u001b[0m \u001b[0;34m=\u001b[0m \u001b[0mi\u001b[0m\u001b[0;34m\u001b[0m\u001b[0;34m\u001b[0m\u001b[0m\n\u001b[0m\u001b[1;32m     57\u001b[0m         \u001b[0mprint\u001b[0m\u001b[0;34m(\u001b[0m\u001b[0mmax_size\u001b[0m\u001b[0;34m,\u001b[0m \u001b[0mi_max_size\u001b[0m\u001b[0;34m)\u001b[0m\u001b[0;34m\u001b[0m\u001b[0;34m\u001b[0m\u001b[0m\n\u001b[1;32m     58\u001b[0m         \u001b[0;32mif\u001b[0m \u001b[0mmax_size\u001b[0m \u001b[0;34m>\u001b[0m \u001b[0;36m10\u001b[0m\u001b[0;34m:\u001b[0m\u001b[0;34m\u001b[0m\u001b[0;34m\u001b[0m\u001b[0m\n",
      "\u001b[0;31mNameError\u001b[0m: name 'i' is not defined"
     ]
    }
   ],
   "source": [
    "cap = cv2.VideoCapture(0)\n",
    "cap.set(3,320);\n",
    "cap.set(4,240);\n",
    "setup_trackbars()\n",
    "hl = sl = vl = hh = sh = vh = 0\n",
    "hight = [hh, sh, vh]\n",
    "lowt = [hl, sl, vl]\n",
    "\n",
    "lowi = np.zeros((200, 200, 3), np.uint8)\n",
    "highi = np.zeros((200, 200, 3), np.uint8)\n",
    "time2 = t.time()\n",
    "\n",
    "while True:\n",
    "    __, img = cap.read()\n",
    "    hsv = cv2.cvtColor(img, cv2.COLOR_BGR2HSV)\n",
    "    hl = cv2.getTrackbarPos('h', 'low')\n",
    "    sl = cv2.getTrackbarPos('s', 'low')\n",
    "    vl = cv2.getTrackbarPos('v', 'low')\n",
    "    \n",
    "    hh = cv2.getTrackbarPos('h', 'high')\n",
    "    sh = cv2.getTrackbarPos('s', 'high')\n",
    "    vh = cv2.getTrackbarPos('v', 'high')\n",
    "    \n",
    "    low_ratio = cv2.getTrackbarPos('ratio_low', 'low')/100\n",
    "    high_ratio = cv2.getTrackbarPos('ratio_high', 'high')/100\n",
    "    e = cv2.getTrackbarPos('epsilon', 'low')/100\n",
    "    low_pp = cv2.getTrackbarPos('pp_low', 'low')\n",
    "    high_pp = cv2.getTrackbarPos('pp_high', 'high')\n",
    "    \n",
    "    hight = np.array([hh, sh, vh], np.uint8)\n",
    "    highi[:] = [hh, sh, vh]\n",
    "    highc = cv2.cvtColor(highi, cv2.COLOR_HSV2BGR)\n",
    "    \n",
    "    lowt = np.array([hl, sl, vl], np.uint8)\n",
    "    lowi[:] = [hl, sl, vl]\n",
    "    lowc = cv2.cvtColor(lowi, cv2.COLOR_HSV2BGR)\n",
    "    \n",
    "    \n",
    "    \n",
    "    mask = cv2.inRange(hsv, lowt, hight)\n",
    "    kernel = np.ones((5, 5), np.uint8)/25\n",
    "    proc = cv2.erode(mask, kernel, 1)\n",
    "    kernel = np.ones((10, 10), np.uint8)/100\n",
    "    proc = cv2.dilate(proc, kernel, 1)\n",
    "    mask = proc\n",
    "    \n",
    "    img2, con, hier = cv2.findContours(mask, cv2.RETR_TREE, cv2.CHAIN_APPROX_SIMPLE)\n",
    "    if len(con) > 0:\n",
    "        max_size = 0\n",
    "        i_max_size = 0\n",
    "        for cnt in con:\n",
    "            area = cv2.contourArea(cnt)\n",
    "            print(area)\n",
    "            if max_size < area:\n",
    "                max_size = area\n",
    "                i_max_size = i\n",
    "        print(max_size, i_max_size)\n",
    "        if max_size > 10:\n",
    "            img = cv2.drawContours(img, con[i_max_size], -1, (0,255,0), 1)\n",
    "            cnt = con[i_max_size]\n",
    "            M = cv2.moments(cnt)\n",
    "            cx = int(M['m10']/(M['m00']+0.001))\n",
    "            cy = int(M['m01']/(M['m00']+0.001))\n",
    "            img = draw_cross(img, cx, cy, 20, (0, 255, 0))\n",
    "    \n",
    "    \n",
    "    cv2.imshow('low', lowc)\n",
    "    cv2.imshow('high', highc)\n",
    "    cv2.imshow('img', img)\n",
    "    cv2.imshow('mask', mask)\n",
    "    cv2.imshow('proc', proc)\n",
    "    \n",
    "    if cv2.waitKey(1) != -1:\n",
    "        break\n",
    "\n",
    "cap.release()\n",
    "cv2.destroyAllWindows()"
   ]
  },
  {
   "cell_type": "code",
   "execution_count": 23,
   "metadata": {},
   "outputs": [],
   "source": [
    "def n_turns(cont):\n",
    "    c = len(cont)\n",
    "    angl = 0\n",
    "    n = 0\n",
    "    for i in range (c):\n",
    "        k1, l1 = line(cont[i], cont[(i+1)%c])\n",
    "        k2, l2 = line(cont[(i+1)%c], cont[(i+2)%c])\n",
    "        k3, l3 = line(cont[i], cont[(i+2)%c])\n",
    "        anglp, temp = find_angle(k1, k2, k3, l3, cont[i], cont[(i+1)%c], cont[(i+2)%c])\n",
    "        n+= temp\n",
    "        angl += anglp\n",
    "    #print(\"n=\", n)\n",
    "    return angl\n",
    "        "
   ]
  },
  {
   "cell_type": "code",
   "execution_count": 24,
   "metadata": {},
   "outputs": [],
   "source": [
    "def line(a, b):\n",
    "    a = a[0]\n",
    "    b = b[0]\n",
    "    #print(\"a=\", a, \" b=\", b)\n",
    "    if (b[0]-a[0]) != 0:\n",
    "        k = (b[1]-a[1])/(b[0]-a[0])\n",
    "        l = a[1] - k*a[0]\n",
    "        if k > 100000:\n",
    "            return k, a[0]\n",
    "        return k, l\n",
    "    else:\n",
    "        return 100000, a[0] "
   ]
  },
  {
   "cell_type": "code",
   "execution_count": 35,
   "metadata": {},
   "outputs": [],
   "source": [
    "def find_angle(k1, k2, k3, l3, a, b, c):\n",
    "    a = a[0]\n",
    "    b = b[0]\n",
    "    c = c[0]\n",
    "    anglr = 0\n",
    "    n = 0\n",
    "    if (1+k1*k2) != 0:\n",
    "        anglr = math.atan(abs((k1-k2)/(1+k1*k2)))\n",
    "    else:\n",
    "        anglr = math.pi / 2\n",
    "    \n",
    "    if a[0] < c[0]:\n",
    "        if k1 < 100000:\n",
    "            if b[1] < k3*b[0]+l3:\n",
    "                anglr = 2*math.pi - anglr\n",
    "                n+= 1\n",
    "        else:\n",
    "            if b[0] > l3:\n",
    "                anglr = 2*math.pi - anglr\n",
    "                n+= 1\n",
    "                \n",
    "    else:\n",
    "        if k1 < 100000:\n",
    "            if b[1] > k3*b[0]+l3:\n",
    "                anglr = 2*math.pi - anglr\n",
    "                n+= 1\n",
    "        else:\n",
    "            if b[0] < l3:\n",
    "                anglr = 2*math.pi - anglr\n",
    "                n+= 1\n",
    "    print(\"anglr=\", math.degrees(anglr))#, \" y=\", k1, k2, k3, l3, a, b, c)\n",
    "    return anglr, n\n",
    "    "
   ]
  },
  {
   "cell_type": "code",
   "execution_count": 26,
   "metadata": {},
   "outputs": [],
   "source": [
    "def list_crt(c, n):\n",
    "    ret = []\n",
    "    for i in range (n):\n",
    "        ret.append(c[i])\n",
    "    return ret"
   ]
  },
  {
   "cell_type": "code",
   "execution_count": null,
   "metadata": {},
   "outputs": [],
   "source": []
  },
  {
   "cell_type": "code",
   "execution_count": null,
   "metadata": {},
   "outputs": [],
   "source": []
  }
 ],
 "metadata": {
  "kernelspec": {
   "display_name": "Python 3",
   "language": "python",
   "name": "python3"
  },
  "language_info": {
   "codemirror_mode": {
    "name": "ipython",
    "version": 3
   },
   "file_extension": ".py",
   "mimetype": "text/x-python",
   "name": "python",
   "nbconvert_exporter": "python",
   "pygments_lexer": "ipython3",
   "version": "3.7.3"
  }
 },
 "nbformat": 4,
 "nbformat_minor": 2
}
