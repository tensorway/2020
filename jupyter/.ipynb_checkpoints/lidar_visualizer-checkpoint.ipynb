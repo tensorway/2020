{
 "cells": [
  {
   "cell_type": "code",
   "execution_count": 35,
   "metadata": {},
   "outputs": [],
   "source": [
    "import sys\n",
    "from rplidar import RPLidar\n",
    "import numpy as np\n",
    "import time\n",
    "import math \n",
    "import cv2\n",
    "\n",
    "robot_angle = -105\n",
    "\n"
   ]
  },
  {
   "cell_type": "code",
   "execution_count": 36,
   "metadata": {},
   "outputs": [
    {
     "name": "stdout",
     "output_type": "stream",
     "text": [
      "928 -1569249132.9180737\n",
      "1677 -1569249133.9194274\n",
      "1693 -1569249134.9768956\n",
      "1684 -1569249136.0347157\n",
      "1672 -1569249137.0907495\n",
      "1684 -1569249138.1389873\n",
      "1681 -1569249139.1909783\n",
      "1692 -1569249140.2413034\n",
      "1682 -1569249141.299982\n",
      "1688 -1569249142.3568404\n",
      "1695 -1569249143.4136727\n",
      "1693 -1569249144.4682024\n",
      "1690 -1569249145.5243585\n",
      "1681 -1569249146.5811124\n",
      "1702 -1569249147.6366134\n",
      "1687 -1569249148.6911027\n",
      "1691 -1569249149.7434602\n",
      "1684 -1569249150.7916625\n",
      "1677 -1569249151.8434448\n",
      "1671 -1569249152.8973749\n",
      "1683 -1569249153.9495018\n",
      "1719 -1569249155.003563\n",
      "1711 -1569249156.0560126\n",
      "1738 -1569249157.1098928\n"
     ]
    },
    {
     "ename": "RPLidarException",
     "evalue": "Incorrect descriptor starting bytes",
     "output_type": "error",
     "traceback": [
      "\u001b[0;31m---------------------------------------------------------------------------\u001b[0m",
      "\u001b[0;31mRPLidarException\u001b[0m                          Traceback (most recent call last)",
      "\u001b[0;32m<ipython-input-36-0784cb0813b7>\u001b[0m in \u001b[0;36m<module>\u001b[0;34m()\u001b[0m\n\u001b[1;32m     10\u001b[0m \u001b[0maccum\u001b[0m \u001b[0;34m=\u001b[0m \u001b[0;36m0\u001b[0m\u001b[0;34m\u001b[0m\u001b[0;34m\u001b[0m\u001b[0m\n\u001b[1;32m     11\u001b[0m \u001b[0;32mwhile\u001b[0m \u001b[0;32mTrue\u001b[0m\u001b[0;34m:\u001b[0m\u001b[0;34m\u001b[0m\u001b[0;34m\u001b[0m\u001b[0m\n\u001b[0;32m---> 12\u001b[0;31m     \u001b[0;32mfor\u001b[0m \u001b[0mscan\u001b[0m \u001b[0;32min\u001b[0m \u001b[0mlidar\u001b[0m\u001b[0;34m.\u001b[0m\u001b[0miter_scans\u001b[0m\u001b[0;34m(\u001b[0m\u001b[0;34m)\u001b[0m\u001b[0;34m:\u001b[0m\u001b[0;34m\u001b[0m\u001b[0;34m\u001b[0m\u001b[0m\n\u001b[0m\u001b[1;32m     13\u001b[0m         \u001b[0;31m#lidar.stop()\u001b[0m\u001b[0;34m\u001b[0m\u001b[0;34m\u001b[0m\u001b[0;34m\u001b[0m\u001b[0m\n\u001b[1;32m     14\u001b[0m \u001b[0;34m\u001b[0m\u001b[0m\n",
      "\u001b[0;32m/usr/local/lib/python3.7/dist-packages/rplidar.py\u001b[0m in \u001b[0;36miter_scans\u001b[0;34m(self, max_buf_meas, min_len)\u001b[0m\n\u001b[1;32m    355\u001b[0m         \u001b[0mscan\u001b[0m \u001b[0;34m=\u001b[0m \u001b[0;34m[\u001b[0m\u001b[0;34m]\u001b[0m\u001b[0;34m\u001b[0m\u001b[0;34m\u001b[0m\u001b[0m\n\u001b[1;32m    356\u001b[0m         \u001b[0miterator\u001b[0m \u001b[0;34m=\u001b[0m \u001b[0mself\u001b[0m\u001b[0;34m.\u001b[0m\u001b[0miter_measurments\u001b[0m\u001b[0;34m(\u001b[0m\u001b[0mmax_buf_meas\u001b[0m\u001b[0;34m)\u001b[0m\u001b[0;34m\u001b[0m\u001b[0;34m\u001b[0m\u001b[0m\n\u001b[0;32m--> 357\u001b[0;31m         \u001b[0;32mfor\u001b[0m \u001b[0mnew_scan\u001b[0m\u001b[0;34m,\u001b[0m \u001b[0mquality\u001b[0m\u001b[0;34m,\u001b[0m \u001b[0mangle\u001b[0m\u001b[0;34m,\u001b[0m \u001b[0mdistance\u001b[0m \u001b[0;32min\u001b[0m \u001b[0miterator\u001b[0m\u001b[0;34m:\u001b[0m\u001b[0;34m\u001b[0m\u001b[0;34m\u001b[0m\u001b[0m\n\u001b[0m\u001b[1;32m    358\u001b[0m             \u001b[0;32mif\u001b[0m \u001b[0mnew_scan\u001b[0m\u001b[0;34m:\u001b[0m\u001b[0;34m\u001b[0m\u001b[0;34m\u001b[0m\u001b[0m\n\u001b[1;32m    359\u001b[0m                 \u001b[0;32mif\u001b[0m \u001b[0mlen\u001b[0m\u001b[0;34m(\u001b[0m\u001b[0mscan\u001b[0m\u001b[0;34m)\u001b[0m \u001b[0;34m>\u001b[0m \u001b[0mmin_len\u001b[0m\u001b[0;34m:\u001b[0m\u001b[0;34m\u001b[0m\u001b[0;34m\u001b[0m\u001b[0m\n",
      "\u001b[0;32m/usr/local/lib/python3.7/dist-packages/rplidar.py\u001b[0m in \u001b[0;36miter_measurments\u001b[0;34m(self, max_buf_meas)\u001b[0m\n\u001b[1;32m    298\u001b[0m         '''\n\u001b[1;32m    299\u001b[0m         \u001b[0mself\u001b[0m\u001b[0;34m.\u001b[0m\u001b[0mstart_motor\u001b[0m\u001b[0;34m(\u001b[0m\u001b[0;34m)\u001b[0m\u001b[0;34m\u001b[0m\u001b[0;34m\u001b[0m\u001b[0m\n\u001b[0;32m--> 300\u001b[0;31m         \u001b[0mstatus\u001b[0m\u001b[0;34m,\u001b[0m \u001b[0merror_code\u001b[0m \u001b[0;34m=\u001b[0m \u001b[0mself\u001b[0m\u001b[0;34m.\u001b[0m\u001b[0mget_health\u001b[0m\u001b[0;34m(\u001b[0m\u001b[0;34m)\u001b[0m\u001b[0;34m\u001b[0m\u001b[0;34m\u001b[0m\u001b[0m\n\u001b[0m\u001b[1;32m    301\u001b[0m         \u001b[0mself\u001b[0m\u001b[0;34m.\u001b[0m\u001b[0mlogger\u001b[0m\u001b[0;34m.\u001b[0m\u001b[0mdebug\u001b[0m\u001b[0;34m(\u001b[0m\u001b[0;34m'Health status: %s [%d]'\u001b[0m\u001b[0;34m,\u001b[0m \u001b[0mstatus\u001b[0m\u001b[0;34m,\u001b[0m \u001b[0merror_code\u001b[0m\u001b[0;34m)\u001b[0m\u001b[0;34m\u001b[0m\u001b[0;34m\u001b[0m\u001b[0m\n\u001b[1;32m    302\u001b[0m         \u001b[0;32mif\u001b[0m \u001b[0mstatus\u001b[0m \u001b[0;34m==\u001b[0m \u001b[0m_HEALTH_STATUSES\u001b[0m\u001b[0;34m[\u001b[0m\u001b[0;36m2\u001b[0m\u001b[0;34m]\u001b[0m\u001b[0;34m:\u001b[0m\u001b[0;34m\u001b[0m\u001b[0;34m\u001b[0m\u001b[0m\n",
      "\u001b[0;32m/usr/local/lib/python3.7/dist-packages/rplidar.py\u001b[0m in \u001b[0;36mget_health\u001b[0;34m(self)\u001b[0m\n\u001b[1;32m    243\u001b[0m         '''\n\u001b[1;32m    244\u001b[0m         \u001b[0mself\u001b[0m\u001b[0;34m.\u001b[0m\u001b[0m_send_cmd\u001b[0m\u001b[0;34m(\u001b[0m\u001b[0mGET_HEALTH_BYTE\u001b[0m\u001b[0;34m)\u001b[0m\u001b[0;34m\u001b[0m\u001b[0;34m\u001b[0m\u001b[0m\n\u001b[0;32m--> 245\u001b[0;31m         \u001b[0mdsize\u001b[0m\u001b[0;34m,\u001b[0m \u001b[0mis_single\u001b[0m\u001b[0;34m,\u001b[0m \u001b[0mdtype\u001b[0m \u001b[0;34m=\u001b[0m \u001b[0mself\u001b[0m\u001b[0;34m.\u001b[0m\u001b[0m_read_descriptor\u001b[0m\u001b[0;34m(\u001b[0m\u001b[0;34m)\u001b[0m\u001b[0;34m\u001b[0m\u001b[0;34m\u001b[0m\u001b[0m\n\u001b[0m\u001b[1;32m    246\u001b[0m         \u001b[0;32mif\u001b[0m \u001b[0mdsize\u001b[0m \u001b[0;34m!=\u001b[0m \u001b[0mHEALTH_LEN\u001b[0m\u001b[0;34m:\u001b[0m\u001b[0;34m\u001b[0m\u001b[0;34m\u001b[0m\u001b[0m\n\u001b[1;32m    247\u001b[0m             \u001b[0;32mraise\u001b[0m \u001b[0mRPLidarException\u001b[0m\u001b[0;34m(\u001b[0m\u001b[0;34m'Wrong get_info reply length'\u001b[0m\u001b[0;34m)\u001b[0m\u001b[0;34m\u001b[0m\u001b[0;34m\u001b[0m\u001b[0m\n",
      "\u001b[0;32m/usr/local/lib/python3.7/dist-packages/rplidar.py\u001b[0m in \u001b[0;36m_read_descriptor\u001b[0;34m(self)\u001b[0m\n\u001b[1;32m    187\u001b[0m             \u001b[0;32mraise\u001b[0m \u001b[0mRPLidarException\u001b[0m\u001b[0;34m(\u001b[0m\u001b[0;34m'Descriptor length mismatch'\u001b[0m\u001b[0;34m)\u001b[0m\u001b[0;34m\u001b[0m\u001b[0;34m\u001b[0m\u001b[0m\n\u001b[1;32m    188\u001b[0m         \u001b[0;32melif\u001b[0m \u001b[0;32mnot\u001b[0m \u001b[0mdescriptor\u001b[0m\u001b[0;34m.\u001b[0m\u001b[0mstartswith\u001b[0m\u001b[0;34m(\u001b[0m\u001b[0mSYNC_BYTE\u001b[0m \u001b[0;34m+\u001b[0m \u001b[0mSYNC_BYTE2\u001b[0m\u001b[0;34m)\u001b[0m\u001b[0;34m:\u001b[0m\u001b[0;34m\u001b[0m\u001b[0;34m\u001b[0m\u001b[0m\n\u001b[0;32m--> 189\u001b[0;31m             \u001b[0;32mraise\u001b[0m \u001b[0mRPLidarException\u001b[0m\u001b[0;34m(\u001b[0m\u001b[0;34m'Incorrect descriptor starting bytes'\u001b[0m\u001b[0;34m)\u001b[0m\u001b[0;34m\u001b[0m\u001b[0;34m\u001b[0m\u001b[0m\n\u001b[0m\u001b[1;32m    190\u001b[0m         \u001b[0mis_single\u001b[0m \u001b[0;34m=\u001b[0m \u001b[0m_b2i\u001b[0m\u001b[0;34m(\u001b[0m\u001b[0mdescriptor\u001b[0m\u001b[0;34m[\u001b[0m\u001b[0;34m-\u001b[0m\u001b[0;36m2\u001b[0m\u001b[0;34m]\u001b[0m\u001b[0;34m)\u001b[0m \u001b[0;34m==\u001b[0m \u001b[0;36m0\u001b[0m\u001b[0;34m\u001b[0m\u001b[0;34m\u001b[0m\u001b[0m\n\u001b[1;32m    191\u001b[0m         \u001b[0;32mreturn\u001b[0m \u001b[0m_b2i\u001b[0m\u001b[0;34m(\u001b[0m\u001b[0mdescriptor\u001b[0m\u001b[0;34m[\u001b[0m\u001b[0;36m2\u001b[0m\u001b[0;34m]\u001b[0m\u001b[0;34m)\u001b[0m\u001b[0;34m,\u001b[0m \u001b[0mis_single\u001b[0m\u001b[0;34m,\u001b[0m \u001b[0m_b2i\u001b[0m\u001b[0;34m(\u001b[0m\u001b[0mdescriptor\u001b[0m\u001b[0;34m[\u001b[0m\u001b[0;34m-\u001b[0m\u001b[0;36m1\u001b[0m\u001b[0;34m]\u001b[0m\u001b[0;34m)\u001b[0m\u001b[0;34m\u001b[0m\u001b[0;34m\u001b[0m\u001b[0m\n",
      "\u001b[0;31mRPLidarException\u001b[0m: Incorrect descriptor starting bytes"
     ]
    }
   ],
   "source": [
    "\n",
    "lidar = RPLidar('/dev/ttyUSB0')\n",
    "f = np.zeros((w, w), np.uint8)\n",
    "cv2.imshow('img', f)\n",
    "cv2.namedWindow('scale')\n",
    "cv2.createTrackbar('scale_trac', 'scale', 1, 1000, no)\n",
    "cv2.createTrackbar('line_sens', 'scale', 1, 150, no)\n",
    "s = np.zeros((100, 300), np.uint8)\n",
    "t1 = time.time()\n",
    "accum = 0\n",
    "while True:\n",
    "    for scan in lidar.iter_scans():\n",
    "        #lidar.stop()\n",
    "        \n",
    "        cv2.imshow('scale', s)\n",
    "        scale = cv2.getTrackbarPos('scale_trac', 'scale')\n",
    "        line_sens = cv2.getTrackbarPos('line_sens', 'scale')\n",
    "        \n",
    "        #print(len(scan))\n",
    "        if time.time()-t1 > 1:\n",
    "            print(accum, accum/time.time()-t1)\n",
    "            t1 = time.time()\n",
    "            accum = 0\n",
    "        accum += len(scan)\n",
    "        f, c = make_img_from_scan(scan)\n",
    "                \n",
    "        '''\n",
    "        lines = cv2.HoughLine  s(f,1,np.pi/180,line_sens)\n",
    "        #print(lines)\n",
    "        if counter > 2 and lines is not None:\n",
    "            delta = math.pi / 180 * 10\n",
    "            #time.sleep(0.5)\n",
    "            for rho,theta in lines[0]:\n",
    "                #print(theta)\n",
    "                #rho = abs(rho)\n",
    "                if (theta < math.pi+delta and theta > math.pi-delta) or (theta > -delta and theta < delta):\n",
    "                    a = np.cos(theta)\n",
    "                    b = np.sin(theta)\n",
    "                    x0 = a*rho\n",
    "                    y0 = b*rho\n",
    "                    x1 = int(x0 + 1000*(-b))\n",
    "                    y1 = int(y0 + 1000*(a))\n",
    "                    x2 = int(x0 - 1000*(-b))\n",
    "                    y2 = int(y0 - 1000*(a))\n",
    "                    cv2.line(f,(x1,y1),(x2,y2),255,2)\n",
    "                    dist = pl_dist(w/2, w/2, rho, theta, scale)\n",
    "                    dist2 = dist * (scale+0.01) / 50\n",
    "                    print(dist, dist2)\n",
    "        '''       \n",
    "            \n",
    "            \n",
    "        cv2.imshow('img', f)\n",
    "        if cv2.waitKey(5) != -1:\n",
    "            cv2.destroyAllWindows()\n",
    "            break\n",
    "        \n",
    "    \n",
    "      \n",
    "cv2.destroyAllWindows()\n",
    "lidar.stop()"
   ]
  },
  {
   "cell_type": "code",
   "execution_count": 7,
   "metadata": {},
   "outputs": [],
   "source": [
    "cv2.destroyAllWindows()\n",
    "lidar.stop()\n"
   ]
  },
  {
   "cell_type": "code",
   "execution_count": 8,
   "metadata": {},
   "outputs": [],
   "source": [
    "def no(x):\n",
    "    a = 0"
   ]
  },
  {
   "cell_type": "code",
   "execution_count": 9,
   "metadata": {},
   "outputs": [],
   "source": [
    "def make_img_from_scan(scan):\n",
    "    w = 500;\n",
    "    counter = 0\n",
    "    f = np.zeros((w, w), np.uint8)\n",
    "    n = len(scan)\n",
    "    for i in range (n):\n",
    "        m = scan[i]\n",
    "        #print(m[0], m[1], m[2])\n",
    "        x = w/2 + math.cos(math.radians(m[1]+robot_angle))*m[2]/(scale+0.01)*50\n",
    "        y = w/2 + math.sin(math.radians(m[1]+robot_angle))*m[2]/(scale+0.01)*50\n",
    "        if x < w-1 and y < w-1 and x>1 and y >1:\n",
    "            f[int(y)][int(x)] = 255\n",
    "            f[int(y)+1][int(x)] = 255\n",
    "            f[int(y)-1][int(x)] = 255\n",
    "            f[int(y)][int(x)+1] = 255\n",
    "            f[int(y)][int(x)-1] = 255\n",
    "    return f, counter"
   ]
  },
  {
   "cell_type": "code",
   "execution_count": null,
   "metadata": {},
   "outputs": [],
   "source": []
  },
  {
   "cell_type": "code",
   "execution_count": 10,
   "metadata": {},
   "outputs": [],
   "source": [
    "def pp_dist(x1, y1, x2, y2):\n",
    "    return math.sqrt((x1-x2)**2+(y1-y2)**2)"
   ]
  },
  {
   "cell_type": "code",
   "execution_count": 11,
   "metadata": {},
   "outputs": [],
   "source": [
    "def pl_dist_polar(x, y, rho, theta):\n",
    "    b = 1/math.cos(theta)*rho\n",
    "    a = math.tan(theta)\n",
    "    a = inf_t(a)\n",
    "    absi = abs(a*x-y+b)\n",
    "    root = math.sqrt(a**2+1)\n",
    "    #print(theta, rho)\n",
    "    #print(a, b, absi, root)\n",
    "    return absi/root#*(scale+0.01)/50"
   ]
  },
  {
   "cell_type": "code",
   "execution_count": 12,
   "metadata": {},
   "outputs": [],
   "source": [
    "def ps_dist(x, y, x1, y1, x2, y2):\n",
    "    k0, l0 = line_from_points(x1, y1, x2, y2)\n",
    "    k = -1/k0\n",
    "    l1 = y1 - k*x1\n",
    "    l2 = y2 - k*x2\n",
    "    \n",
    "    cp1 = (y > k*x + l1)\n",
    "    cp2 = (y > k*x + l2)\n",
    "    mid = (not cp1 and cp2) or (not cp2 and cp1)\n",
    "    \n",
    "    if mid:\n",
    "        return pl_dist_cart(x, y, k0, l0)\n",
    "    else:\n",
    "        return min(pp_dist(x, y, x1, y1), pp_dist(x, y, x2, y2))\n",
    "    \n",
    "    \n",
    "    "
   ]
  },
  {
   "cell_type": "code",
   "execution_count": 13,
   "metadata": {},
   "outputs": [],
   "source": [
    "def inf_t(a):\n",
    "    if a == float('inf'):\n",
    "        a = 10000\n",
    "    if a == float('-inf'):\n",
    "        a = -10000\n",
    "    return a"
   ]
  },
  {
   "cell_type": "code",
   "execution_count": 14,
   "metadata": {},
   "outputs": [],
   "source": [
    "def pl_dist_cart(x, y, k, l):\n",
    "    b = l\n",
    "    a = k\n",
    "    a = inf_t(a)\n",
    "    absi = abs(a*x-y+b)\n",
    "    root = math.sqrt(a**2+1)\n",
    "    #print(theta, rho)\n",
    "    #print(a, b, absi, root)\n",
    "    return absi/root#*(scale+0.01)/50"
   ]
  },
  {
   "cell_type": "code",
   "execution_count": 15,
   "metadata": {},
   "outputs": [],
   "source": [
    "def line_from_points(x1, y1, x2, y2):\n",
    "    if x2 - x1 != 0:\n",
    "        k = (y2-y1)/(x2-x1)\n",
    "    else: \n",
    "        k = 10000*(y2-y1)\n",
    "    l = y1 - k*x1\n",
    "    return k, l"
   ]
  },
  {
   "cell_type": "code",
   "execution_count": 16,
   "metadata": {},
   "outputs": [],
   "source": [
    "field = [\n",
    "    [0, 0, 0, 1000],\n",
    "    [0, 0, 1000, 0],\n",
    "    [0, 1000, 1000, 1000],\n",
    "    [1000, 0, 1000, 1000],\n",
    "    [700, 300, 700, 700],\n",
    "    [300, 300, 500, 700],\n",
    "    [100, 100, 500, 100],\n",
    "    [50, 900, 500, 800]\n",
    "]"
   ]
  },
  {
   "cell_type": "code",
   "execution_count": 17,
   "metadata": {},
   "outputs": [],
   "source": [
    "def get_inter(x, y, angles):\n",
    "    for i in range (len(angles)):\n",
    "        for j in range (len(field)):\n",
    "            g =5\n",
    "        "
   ]
  },
  {
   "cell_type": "code",
   "execution_count": 18,
   "metadata": {},
   "outputs": [
    {
     "ename": "NameError",
     "evalue": "name 'ps_inter' is not defined",
     "output_type": "error",
     "traceback": [
      "\u001b[0;31m---------------------------------------------------------------------------\u001b[0m",
      "\u001b[0;31mNameError\u001b[0m                                 Traceback (most recent call last)",
      "\u001b[0;32m<ipython-input-18-531707ef968e>\u001b[0m in \u001b[0;36m<module>\u001b[0;34m()\u001b[0m\n\u001b[0;32m----> 1\u001b[0;31m \u001b[0mdist\u001b[0m\u001b[0;34m,\u001b[0m \u001b[0mhp\u001b[0m \u001b[0;34m=\u001b[0m \u001b[0mps_inter\u001b[0m\u001b[0;34m(\u001b[0m\u001b[0;34m-\u001b[0m\u001b[0;36m10\u001b[0m\u001b[0;34m,\u001b[0m \u001b[0;36m10\u001b[0m\u001b[0;34m,\u001b[0m \u001b[0;36m15\u001b[0m\u001b[0;34m,\u001b[0m \u001b[0;34m[\u001b[0m\u001b[0;36m0\u001b[0m\u001b[0;34m,\u001b[0m \u001b[0;36m0\u001b[0m\u001b[0;34m,\u001b[0m \u001b[0;36m0\u001b[0m\u001b[0;34m,\u001b[0m \u001b[0;36m500\u001b[0m\u001b[0;34m]\u001b[0m\u001b[0;34m)\u001b[0m\u001b[0;34m\u001b[0m\u001b[0;34m\u001b[0m\u001b[0m\n\u001b[0m\u001b[1;32m      2\u001b[0m \u001b[0mprint\u001b[0m\u001b[0;34m(\u001b[0m\u001b[0mdist\u001b[0m\u001b[0;34m,\u001b[0m \u001b[0mhp\u001b[0m\u001b[0;34m)\u001b[0m\u001b[0;34m\u001b[0m\u001b[0;34m\u001b[0m\u001b[0m\n",
      "\u001b[0;31mNameError\u001b[0m: name 'ps_inter' is not defined"
     ]
    }
   ],
   "source": [
    "dist, hp = ps_inter(-10, 10, 15, [0, 0, 0, 500])\n",
    "print(dist, hp)"
   ]
  },
  {
   "cell_type": "code",
   "execution_count": 19,
   "metadata": {},
   "outputs": [],
   "source": [
    "def ps_inter(x, y, angle, seg):\n",
    "    x1 = seg[0]\n",
    "    y1 = seg[1]\n",
    "    x2 = seg[2]\n",
    "    y2 = seg[3]\n",
    "    if angle == 0 or angle == 180:\n",
    "        if x1 == x2:\n",
    "            yp = y\n",
    "            y11 = y1\n",
    "            y22 = y2\n",
    "            if y2 < y1:\n",
    "                t = y11\n",
    "                y11 = y2\n",
    "                y22 = t\n",
    "            if yp <= y11 or yp >= y22:\n",
    "                return -1, [0, 0]\n",
    "            if is_in_direction(x, y, x1, y, angle)==-1:\n",
    "                return -1, [0, 0]\n",
    "            return abs(x-x1), [x1, y]\n",
    "        if y1 == y2:\n",
    "            return -1, [0, 0]\n",
    "        yp = y\n",
    "        y11 = y1\n",
    "        y22 = y2\n",
    "        if y2 < y1:\n",
    "            t = y11\n",
    "            y11 = y2\n",
    "            y22 = t\n",
    "        if yp <= y11 or yp >= y22:\n",
    "            return -1, [0, 0]\n",
    "        k2, l2 = line_from_points(x1, y1, x2, y2)\n",
    "        xp = (yp-l2)/k2\n",
    "        if is_in_direction(x, y, xp, yp, angle)==-1:\n",
    "            return -1, [0, 0]        \n",
    "        return pp_dist(x, y, xp, yp), [xp, yp]\n",
    "        \n",
    "    if angle == 90 or angle == 270:\n",
    "        if x1 == x2:\n",
    "            return -1, [0, 0]\n",
    "        if y1 == y2:\n",
    "            xp = x\n",
    "            x11 = x1\n",
    "            x22 = x2\n",
    "            if x2 < x1:\n",
    "                t = x11\n",
    "                x11 = x22\n",
    "                x22 = t\n",
    "            if xp <= x11 or xp >= x22:\n",
    "                return -1, [0, 0]\n",
    "            if is_in_direction(x, y, x, y1, angle)==-1:\n",
    "                return -1, [0, 0]    \n",
    "            return abs(y1-y), [x, y1]\n",
    "        xp = x\n",
    "        x11 = x1\n",
    "        x22 = x2\n",
    "        if x2 < x1:\n",
    "            t = x11\n",
    "            x11 = x22\n",
    "            x22 = t\n",
    "        if xp <= x11 or xp >= x22:\n",
    "            return -1, [0, 0]\n",
    "        k2, l2 = line_from_points(x1, y1, x2, y2)\n",
    "        yp = k2*xp + l2\n",
    "        if is_in_direction(x, y, xp, yp, angle)==-1:\n",
    "            return -1, [0, 0]        \n",
    "        return pp_dist(x, y, xp, yp), [xp, yp]      \n",
    "            \n",
    "    k1 = math.tan(math.radians(angle))\n",
    "    l1 = y - k1*x\n",
    "    \n",
    "    if x1 == x2:\n",
    "        xp = x1\n",
    "        yp = k1*xp + l1\n",
    "        if y1 > y2:\n",
    "            t = y1\n",
    "            y1 = y2\n",
    "            y2 = t\n",
    "        if  y1 <= yp and yp <= y2:\n",
    "            return pp_dist(x, y, xp, yp), [xp, yp]\n",
    "        return -1, [0, 0]\n",
    "    \n",
    "    \n",
    "    if y1 == y2:\n",
    "        yp = y1\n",
    "        xp = (yp - l1)/k1\n",
    "        if x1 > x2:\n",
    "            t = x1\n",
    "            x1 = x2\n",
    "            x2 = t\n",
    "        if  x1 <= xp and xp <= x2:\n",
    "            return pp_dist(x, y, xp, yp), [xp, yp]\n",
    "        return -1, [0, 0]\n",
    "        \n",
    "    \n",
    "    k2, l2 = line_from_points(x1, y1, x2, y2)\n",
    "    \n",
    "    #x*k1 + l1 = x*k2 + l2\n",
    "    #print(\"lines \", k1, l1, k2, l2)\n",
    "    if (k1-k2) == 0:\n",
    "        #print(\"parallel\")\n",
    "        return -1, [0, 0]\n",
    "    xp = (l2-l1)/(k1-k2)\n",
    "    if x2 < x1:\n",
    "        t = x2\n",
    "        x2 = x1\n",
    "        x1 = t\n",
    "    if xp < x1 or x2 < xp:\n",
    "        return -1, [0, 0]\n",
    "    yp = k1*xp + l1\n",
    "    dist = pp_dist(x, y, xp, yp)\n",
    "    #print(\"coordinates \",  xp, yp)\n",
    "    if is_in_direction(x, y, xp, yp, angle)==-1:\n",
    "        return -1, [0, 0]\n",
    "    return dist, [xp, yp]"
   ]
  },
  {
   "cell_type": "code",
   "execution_count": 20,
   "metadata": {},
   "outputs": [],
   "source": [
    "def is_in_direction(x, y, x1, y1, angle):\n",
    "    if angle >= 45 and angle < 135:\n",
    "        if y1 < y:\n",
    "            return -1\n",
    "    elif angle >= 135 and angle < 225:\n",
    "        if x1 > x:\n",
    "            return -1\n",
    "    elif angle >= 225 and angle < 315:\n",
    "        if y1 > y:\n",
    "            return -1  \n",
    "    else:\n",
    "        if x1 < x:\n",
    "            return -1\n",
    "    return 1"
   ]
  },
  {
   "cell_type": "code",
   "execution_count": 21,
   "metadata": {},
   "outputs": [],
   "source": [
    "def calc_scan_for_point(x, y, angles, field):\n",
    "    scan = []\n",
    "    points = []\n",
    "    for angle in angles:\n",
    "        mind = 10000\n",
    "        point = 0\n",
    "        for seg in field:\n",
    "            hp = []\n",
    "            dist = 0\n",
    "            #print(angle, seg)\n",
    "            dist, hp = ps_inter(x, y, angle, seg)\n",
    "            if is_in_direction(x, y, hp[0], hp[1], angle) == -1:\n",
    "                dist = -1\n",
    "            #print( dist, hp)\n",
    "            #print(\" \")\n",
    "            if dist > -1 and mind > dist:\n",
    "                mind = dist\n",
    "                point = hp\n",
    "                point[0] = int(point[0])\n",
    "                point[1] = int(point[1])\n",
    "        scan.append(mind)\n",
    "        points.append(point)\n",
    "    return scan, points\n",
    "                \n",
    "            "
   ]
  },
  {
   "cell_type": "code",
   "execution_count": 22,
   "metadata": {},
   "outputs": [
    {
     "ename": "NameError",
     "evalue": "name 'w' is not defined",
     "output_type": "error",
     "traceback": [
      "\u001b[0;31m---------------------------------------------------------------------------\u001b[0m",
      "\u001b[0;31mNameError\u001b[0m                                 Traceback (most recent call last)",
      "\u001b[0;32m<ipython-input-22-a3a83deb44fa>\u001b[0m in \u001b[0;36m<module>\u001b[0;34m()\u001b[0m\n\u001b[0;32m----> 1\u001b[0;31m \u001b[0mtest_scan\u001b[0m \u001b[0;34m=\u001b[0m \u001b[0mnp\u001b[0m\u001b[0;34m.\u001b[0m\u001b[0mzeros\u001b[0m\u001b[0;34m(\u001b[0m\u001b[0;34m(\u001b[0m\u001b[0mw\u001b[0m\u001b[0;34m,\u001b[0m \u001b[0mw\u001b[0m\u001b[0;34m)\u001b[0m\u001b[0;34m,\u001b[0m \u001b[0mnp\u001b[0m\u001b[0;34m.\u001b[0m\u001b[0muint8\u001b[0m\u001b[0;34m)\u001b[0m\u001b[0;34m\u001b[0m\u001b[0;34m\u001b[0m\u001b[0m\n\u001b[0m\u001b[1;32m      2\u001b[0m \u001b[0mx0\u001b[0m \u001b[0;34m=\u001b[0m \u001b[0;36m950\u001b[0m\u001b[0;34m\u001b[0m\u001b[0;34m\u001b[0m\u001b[0m\n\u001b[1;32m      3\u001b[0m \u001b[0my0\u001b[0m \u001b[0;34m=\u001b[0m \u001b[0;36m500\u001b[0m\u001b[0;34m\u001b[0m\u001b[0;34m\u001b[0m\u001b[0m\n\u001b[1;32m      4\u001b[0m \u001b[0mt\u001b[0m \u001b[0;34m=\u001b[0m \u001b[0;36m0\u001b[0m\u001b[0;34m\u001b[0m\u001b[0;34m\u001b[0m\u001b[0m\n\u001b[1;32m      5\u001b[0m \u001b[0;32mfor\u001b[0m \u001b[0mi\u001b[0m \u001b[0;32min\u001b[0m \u001b[0mrange\u001b[0m \u001b[0;34m(\u001b[0m\u001b[0mlen\u001b[0m\u001b[0;34m(\u001b[0m\u001b[0mfield\u001b[0m\u001b[0;34m)\u001b[0m\u001b[0;34m)\u001b[0m\u001b[0;34m:\u001b[0m\u001b[0;34m\u001b[0m\u001b[0;34m\u001b[0m\u001b[0m\n",
      "\u001b[0;31mNameError\u001b[0m: name 'w' is not defined"
     ]
    }
   ],
   "source": [
    "test_scan = np.zeros((w, w), np.uint8)\n",
    "x0 = 950\n",
    "y0 = 500\n",
    "t = 0\n",
    "for i in range (len(field)):\n",
    "    x1 = field[i][0] + t\n",
    "    y1 = field[i][1] + t\n",
    "    x2 = field[i][2] + t\n",
    "    y2 = field[i][3] + t\n",
    "    cv2.line(test_scan,(x1,y1),(x2,y2),255,5)\n",
    "    \n",
    "angles = []\n",
    "for i in range (360):\n",
    "    angles.append(i)\n",
    "    \n",
    "scan, points = calc_scan_for_point(x0, y0, angles, field)\n",
    "print (scan, points)\n",
    "for i in range (len(points)):\n",
    "    point = points[i]\n",
    "    print(point, angles[i])\n",
    "    if type(point) is list:\n",
    "        x1 = point[0]\n",
    "        y1 = point[1]\n",
    "        x2 = x0\n",
    "        y2 = y0\n",
    "        cv2.line(test_scan,(x1,y1),(x2,y2),255,1)\n",
    "    else:\n",
    "        print(angles[i], \"ne valja\")\n",
    "\n",
    "\n",
    "cv2.imshow('img', test_scan)\n",
    "cv2.waitKey(0)\n",
    "cv2.destroyAllWindows()"
   ]
  },
  {
   "cell_type": "code",
   "execution_count": 88,
   "metadata": {},
   "outputs": [
    {
     "ename": "TypeError",
     "evalue": "'int' object is not iterable",
     "output_type": "error",
     "traceback": [
      "\u001b[0;31m---------------------------------------------------------------------------\u001b[0m",
      "\u001b[0;31mTypeError\u001b[0m                                 Traceback (most recent call last)",
      "\u001b[0;32m<ipython-input-88-2b57728c5377>\u001b[0m in \u001b[0;36m<module>\u001b[0;34m()\u001b[0m\n\u001b[0;32m----> 1\u001b[0;31m \u001b[0mdist\u001b[0m\u001b[0;34m,\u001b[0m \u001b[0mhp\u001b[0m \u001b[0;34m=\u001b[0m \u001b[0mps_inter\u001b[0m\u001b[0;34m(\u001b[0m\u001b[0mx\u001b[0m\u001b[0;34m,\u001b[0m \u001b[0my\u001b[0m\u001b[0;34m,\u001b[0m \u001b[0mangles\u001b[0m\u001b[0;34m[\u001b[0m\u001b[0;36m0\u001b[0m\u001b[0;34m]\u001b[0m\u001b[0;34m,\u001b[0m \u001b[0mfield\u001b[0m\u001b[0;34m[\u001b[0m\u001b[0;36m0\u001b[0m\u001b[0;34m]\u001b[0m\u001b[0;34m)\u001b[0m\u001b[0;34m\u001b[0m\u001b[0;34m\u001b[0m\u001b[0m\n\u001b[0m",
      "\u001b[0;31mTypeError\u001b[0m: 'int' object is not iterable"
     ]
    }
   ],
   "source": [
    "dist, hp = ps_inter(x, y, angles[0], field[0])"
   ]
  },
  {
   "cell_type": "code",
   "execution_count": 93,
   "metadata": {},
   "outputs": [
    {
     "ename": "TypeError",
     "evalue": "'int' object is not iterable",
     "output_type": "error",
     "traceback": [
      "\u001b[0;31m---------------------------------------------------------------------------\u001b[0m",
      "\u001b[0;31mTypeError\u001b[0m                                 Traceback (most recent call last)",
      "\u001b[0;32m<ipython-input-93-01e4c5e6508e>\u001b[0m in \u001b[0;36m<module>\u001b[0;34m()\u001b[0m\n\u001b[0;32m----> 1\u001b[0;31m \u001b[0mdist\u001b[0m\u001b[0;34m,\u001b[0m \u001b[0mhp\u001b[0m \u001b[0;34m=\u001b[0m \u001b[0mps_inter\u001b[0m\u001b[0;34m(\u001b[0m\u001b[0;34m-\u001b[0m\u001b[0;36m10\u001b[0m\u001b[0;34m,\u001b[0m \u001b[0;36m10\u001b[0m\u001b[0;34m,\u001b[0m \u001b[0;36m180\u001b[0m\u001b[0;34m,\u001b[0m \u001b[0;34m[\u001b[0m\u001b[0;36m0\u001b[0m\u001b[0;34m,\u001b[0m \u001b[0;36m0\u001b[0m\u001b[0;34m,\u001b[0m \u001b[0;36m0\u001b[0m\u001b[0;34m,\u001b[0m \u001b[0;36m500\u001b[0m\u001b[0;34m]\u001b[0m\u001b[0;34m)\u001b[0m\u001b[0;34m\u001b[0m\u001b[0;34m\u001b[0m\u001b[0m\n\u001b[0m\u001b[1;32m      2\u001b[0m \u001b[0mdist\u001b[0m\u001b[0;34m\u001b[0m\u001b[0;34m\u001b[0m\u001b[0m\n",
      "\u001b[0;31mTypeError\u001b[0m: 'int' object is not iterable"
     ]
    }
   ],
   "source": [
    "dist, hp = ps_inter(-10, 10, 180, [0, 0, 0, 500])\n",
    "dist"
   ]
  },
  {
   "cell_type": "code",
   "execution_count": 152,
   "metadata": {},
   "outputs": [
    {
     "data": {
      "text/plain": [
       "1"
      ]
     },
     "execution_count": 152,
     "metadata": {},
     "output_type": "execute_result"
    }
   ],
   "source": [
    "is_in_direction(500, 500, 600, 600, 45)"
   ]
  },
  {
   "cell_type": "code",
   "execution_count": 23,
   "metadata": {},
   "outputs": [
    {
     "ename": "NameError",
     "evalue": "name 'angles' is not defined",
     "output_type": "error",
     "traceback": [
      "\u001b[0;31m---------------------------------------------------------------------------\u001b[0m",
      "\u001b[0;31mNameError\u001b[0m                                 Traceback (most recent call last)",
      "\u001b[0;32m<ipython-input-23-63aa3c96a264>\u001b[0m in \u001b[0;36m<module>\u001b[0;34m()\u001b[0m\n\u001b[1;32m     10\u001b[0m         \u001b[0my2\u001b[0m \u001b[0;34m=\u001b[0m \u001b[0mfield\u001b[0m\u001b[0;34m[\u001b[0m\u001b[0mi\u001b[0m\u001b[0;34m]\u001b[0m\u001b[0;34m[\u001b[0m\u001b[0;36m3\u001b[0m\u001b[0;34m]\u001b[0m \u001b[0;34m+\u001b[0m \u001b[0mt\u001b[0m\u001b[0;34m\u001b[0m\u001b[0;34m\u001b[0m\u001b[0m\n\u001b[1;32m     11\u001b[0m         \u001b[0mcv2\u001b[0m\u001b[0;34m.\u001b[0m\u001b[0mline\u001b[0m\u001b[0;34m(\u001b[0m\u001b[0mtest_scan\u001b[0m\u001b[0;34m,\u001b[0m\u001b[0;34m(\u001b[0m\u001b[0mx1\u001b[0m\u001b[0;34m,\u001b[0m\u001b[0my1\u001b[0m\u001b[0;34m)\u001b[0m\u001b[0;34m,\u001b[0m\u001b[0;34m(\u001b[0m\u001b[0mx2\u001b[0m\u001b[0;34m,\u001b[0m\u001b[0my2\u001b[0m\u001b[0;34m)\u001b[0m\u001b[0;34m,\u001b[0m\u001b[0;36m255\u001b[0m\u001b[0;34m,\u001b[0m\u001b[0;36m5\u001b[0m\u001b[0;34m)\u001b[0m\u001b[0;34m\u001b[0m\u001b[0;34m\u001b[0m\u001b[0m\n\u001b[0;32m---> 12\u001b[0;31m     \u001b[0mscan\u001b[0m\u001b[0;34m,\u001b[0m \u001b[0mpoints\u001b[0m \u001b[0;34m=\u001b[0m \u001b[0mcalc_scan_for_point\u001b[0m\u001b[0;34m(\u001b[0m\u001b[0mx0\u001b[0m\u001b[0;34m,\u001b[0m \u001b[0my0\u001b[0m\u001b[0;34m,\u001b[0m \u001b[0mangles\u001b[0m\u001b[0;34m,\u001b[0m \u001b[0mfield\u001b[0m\u001b[0;34m)\u001b[0m\u001b[0;34m\u001b[0m\u001b[0;34m\u001b[0m\u001b[0m\n\u001b[0m\u001b[1;32m     13\u001b[0m     \u001b[0;32mfor\u001b[0m \u001b[0mi\u001b[0m \u001b[0;32min\u001b[0m \u001b[0mrange\u001b[0m \u001b[0;34m(\u001b[0m\u001b[0mlen\u001b[0m\u001b[0;34m(\u001b[0m\u001b[0mpoints\u001b[0m\u001b[0;34m)\u001b[0m\u001b[0;34m)\u001b[0m\u001b[0;34m:\u001b[0m\u001b[0;34m\u001b[0m\u001b[0;34m\u001b[0m\u001b[0m\n\u001b[1;32m     14\u001b[0m         \u001b[0mpoint\u001b[0m \u001b[0;34m=\u001b[0m \u001b[0mpoints\u001b[0m\u001b[0;34m[\u001b[0m\u001b[0mi\u001b[0m\u001b[0;34m]\u001b[0m\u001b[0;34m\u001b[0m\u001b[0;34m\u001b[0m\u001b[0m\n",
      "\u001b[0;31mNameError\u001b[0m: name 'angles' is not defined"
     ]
    }
   ],
   "source": [
    "w = 500\n",
    "x0 = y0 = 0\n",
    "t = 0\n",
    "while (x0 < w and y0 < w):\n",
    "    test_scan = np.zeros((w, w), np.uint8)\n",
    "    for i in range (len(field)):\n",
    "        x1 = field[i][0] + t\n",
    "        y1 = field[i][1] + t\n",
    "        x2 = field[i][2] + t\n",
    "        y2 = field[i][3] + t\n",
    "        cv2.line(test_scan,(x1,y1),(x2,y2),255,5)\n",
    "    scan, points = calc_scan_for_point(x0, y0, angles, field)\n",
    "    for i in range (len(points)):\n",
    "        point = points[i]\n",
    "        if type(point) is list:\n",
    "            x1 = point[0]\n",
    "            y1 = point[1]\n",
    "            x2 = x0\n",
    "            y2 = y0\n",
    "            cv2.line(test_scan,(x1,y1),(x2,y2),255,1)\n",
    "        else:\n",
    "            print(angles[i], \"ne valja\",point)\n",
    "\n",
    "    x0 += 1\n",
    "    y0 += 1\n",
    "    cv2.imshow('img', test_scan)\n",
    "    if cv2.waitKey(1) != 255:\n",
    "        print(cv2.waitKey(1))\n",
    "        break\n",
    "    time.sleep(0.01)\n",
    "cv2.destroyAllWindows()"
   ]
  },
  {
   "cell_type": "code",
   "execution_count": 9,
   "metadata": {},
   "outputs": [
    {
     "data": {
      "text/plain": [
       "{'model': 40,\n",
       " 'firmware': (1, 25),\n",
       " 'hardware': 5,\n",
       " 'serialnumber': '85E39AF2C1EA9FC2A2EB92F116303C00'}"
      ]
     },
     "execution_count": 9,
     "metadata": {},
     "output_type": "execute_result"
    }
   ],
   "source": [
    "lidar.get_info()\n"
   ]
  },
  {
   "cell_type": "code",
   "execution_count": null,
   "metadata": {},
   "outputs": [],
   "source": []
  }
 ],
 "metadata": {
  "kernelspec": {
   "display_name": "Python 3",
   "language": "python",
   "name": "python3"
  },
  "language_info": {
   "codemirror_mode": {
    "name": "ipython",
    "version": 3
   },
   "file_extension": ".py",
   "mimetype": "text/x-python",
   "name": "python",
   "nbconvert_exporter": "python",
   "pygments_lexer": "ipython3",
   "version": "3.7.3"
  }
 },
 "nbformat": 4,
 "nbformat_minor": 2
}
