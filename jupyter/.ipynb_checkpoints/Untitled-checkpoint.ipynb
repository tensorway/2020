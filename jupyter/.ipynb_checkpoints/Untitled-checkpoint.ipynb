{
 "cells": [
  {
   "cell_type": "code",
   "execution_count": 1,
   "metadata": {},
   "outputs": [],
   "source": [
    "# Uses Bluez for Linux\n",
    "#\n",
    "# sudo apt-get install bluez python-bluez\n",
    "# \n",
    "# Taken from: https://people.csail.mit.edu/albert/bluez-intro/x232.html\n",
    "# Taken from: https://people.csail.mit.edu/albert/bluez-intro/c212.html\n",
    "\n",
    "import bluetooth\n",
    "\n",
    "def receiveMessages():\n",
    "    server_sock=bluetooth.BluetoothSocket( bluetooth.RFCOMM )\n",
    "  \n",
    "    port = 1\n",
    "    server_sock.bind((\"\",port))\n",
    "    server_sock.listen(1)\n",
    "  \n",
    "    client_sock,address = server_sock.accept()\n",
    "    print (\"Accepted connection from \" + str(address))\n",
    "  \n",
    "    data = client_sock.recv(1024)\n",
    "    print (\"received\")# [%s]\" % data)\n",
    "  \n",
    "    client_sock.close()\n",
    "    server_sock.close()\n",
    "  \n",
    "def sendMessageTo(targetBluetoothMacAddress):\n",
    "    port = 1\n",
    "    sock=bluetooth.BluetoothSocket( bluetooth.RFCOMM )\n",
    "    sock.connect((targetBluetoothMacAddress, port))\n",
    "    sock.send(\"hello!!\")\n",
    "    sock.close()\n",
    "  \n",
    "def lookUpNearbyBluetoothDevices():\n",
    "    nearby_devices = bluetooth.discover_devices()\n",
    "    for bdaddr in nearby_devices:\n",
    "        print( str(bluetooth.lookup_name( bdaddr )) + \" [\" + str(bdaddr) + \"]\")\n",
    "    \n",
    "    \n",
    "lookUpNearbyBluetoothDevices()"
   ]
  },
  {
   "cell_type": "code",
   "execution_count": 21,
   "metadata": {},
   "outputs": [
    {
     "name": "stdout",
     "output_type": "stream",
     "text": [
      "found target bluetooth device with address  94:E9:79:D6:26:AC\n"
     ]
    }
   ],
   "source": [
    "\n",
    "import bluetooth\n",
    "\n",
    "target_name = \"laptop\"\n",
    "target_address = None\n",
    "\n",
    "nearby_devices = bluetooth.discover_devices()\n",
    "\n",
    "for bdaddr in nearby_devices:\n",
    "    if target_name == bluetooth.lookup_name( bdaddr ):\n",
    "        target_address = bdaddr\n",
    "        break\n",
    "\n",
    "if target_address is not None:\n",
    "    print (\"found target bluetooth device with address \", target_address)\n",
    "else:\n",
    "    print (\"could not find target bluetooth device nearby\")"
   ]
  },
  {
   "cell_type": "code",
   "execution_count": 5,
   "metadata": {},
   "outputs": [
    {
     "ename": "BluetoothError",
     "evalue": "(113, 'No route to host')",
     "output_type": "error",
     "traceback": [
      "\u001b[0;31m---------------------------------------------------------------------------\u001b[0m",
      "\u001b[0;31merror\u001b[0m                                     Traceback (most recent call last)",
      "\u001b[0;32m/usr/local/lib/python3.7/dist-packages/bluetooth/bluez.py\u001b[0m in \u001b[0;36mconnect\u001b[0;34m(self, *args, **kwargs)\u001b[0m\n",
      "\u001b[0;31merror\u001b[0m: (113, 'No route to host')",
      "\nDuring handling of the above exception, another exception occurred:\n",
      "\u001b[0;31mBluetoothError\u001b[0m                            Traceback (most recent call last)",
      "\u001b[0;32m<ipython-input-5-26da46b959cd>\u001b[0m in \u001b[0;36m<module>\u001b[0;34m()\u001b[0m\n\u001b[1;32m      3\u001b[0m \u001b[0mport\u001b[0m \u001b[0;34m=\u001b[0m \u001b[0;36m1\u001b[0m\u001b[0;34m\u001b[0m\u001b[0;34m\u001b[0m\u001b[0m\n\u001b[1;32m      4\u001b[0m \u001b[0msock\u001b[0m\u001b[0;34m=\u001b[0m\u001b[0mbluetooth\u001b[0m\u001b[0;34m.\u001b[0m\u001b[0mBluetoothSocket\u001b[0m\u001b[0;34m(\u001b[0m \u001b[0mbluetooth\u001b[0m\u001b[0;34m.\u001b[0m\u001b[0mRFCOMM\u001b[0m \u001b[0;34m)\u001b[0m\u001b[0;34m\u001b[0m\u001b[0;34m\u001b[0m\u001b[0m\n\u001b[0;32m----> 5\u001b[0;31m \u001b[0msock\u001b[0m\u001b[0;34m.\u001b[0m\u001b[0mconnect\u001b[0m\u001b[0;34m(\u001b[0m\u001b[0;34m(\u001b[0m\u001b[0mbd_addr\u001b[0m\u001b[0;34m,\u001b[0m \u001b[0mport\u001b[0m\u001b[0;34m)\u001b[0m\u001b[0;34m)\u001b[0m\u001b[0;34m\u001b[0m\u001b[0;34m\u001b[0m\u001b[0m\n\u001b[0m\u001b[1;32m      6\u001b[0m \u001b[0msock\u001b[0m\u001b[0;34m.\u001b[0m\u001b[0msend\u001b[0m\u001b[0;34m(\u001b[0m\u001b[0;34m\"hello!!\"\u001b[0m\u001b[0;34m)\u001b[0m\u001b[0;34m\u001b[0m\u001b[0;34m\u001b[0m\u001b[0m\n\u001b[1;32m      7\u001b[0m \u001b[0msock\u001b[0m\u001b[0;34m.\u001b[0m\u001b[0mclose\u001b[0m\u001b[0;34m(\u001b[0m\u001b[0;34m)\u001b[0m\u001b[0;34m\u001b[0m\u001b[0;34m\u001b[0m\u001b[0m\n",
      "\u001b[0;32m/usr/local/lib/python3.7/dist-packages/bluetooth/bluez.py\u001b[0m in \u001b[0;36mconnect\u001b[0;34m(self, *args, **kwargs)\u001b[0m\n",
      "\u001b[0;31mBluetoothError\u001b[0m: (113, 'No route to host')"
     ]
    }
   ],
   "source": [
    "import bluetooth\n",
    "bd_addr = \"94:E9:79:D6:26:AC\"\n",
    "#bd_addr = \"01:23:45:67:89:AB\"\n",
    "port = 1\n",
    "sock=bluetooth.BluetoothSocket( bluetooth.RFCOMM )\n",
    "sock.connect((bd_addr, port))\n",
    "sock.send(\"hello!!\")\n",
    "sock.close()"
   ]
  },
  {
   "cell_type": "code",
   "execution_count": 22,
   "metadata": {},
   "outputs": [
    {
     "name": "stdout",
     "output_type": "stream",
     "text": [
      "found target bluetooth device with address  94:E9:79:D6:26:AC\n"
     ]
    }
   ],
   "source": [
    "import bluetooth\n",
    "\n",
    "target_name = \"laptop\"\n",
    "target_address = None\n",
    "\n",
    "nearby_devices = bluetooth.discover_devices()\n",
    "\n",
    "for bdaddr in nearby_devices:\n",
    "    if target_name == bluetooth.lookup_name( bdaddr ):\n",
    "        target_address = bdaddr\n",
    "        break\n",
    "\n",
    "if target_address is not None:\n",
    "    print (\"found target bluetooth device with address \", target_address)\n",
    "else:\n",
    "    print (\"could not find target bluetooth device nearby\")\n"
   ]
  },
  {
   "cell_type": "code",
   "execution_count": 23,
   "metadata": {},
   "outputs": [
    {
     "name": "stdout",
     "output_type": "stream",
     "text": [
      "None\n",
      "7\n",
      "0.0\r",
      "7\n",
      "0.01\r",
      "7\n",
      "0.02\r",
      "7\n",
      "0.03\r",
      "7\n",
      "0.04\r",
      "7\n",
      "0.05\r",
      "7\n",
      "0.06\r",
      "7\n",
      "0.07\r",
      "7\n",
      "0.08\r",
      "7\n",
      "0.09\r"
     ]
    }
   ],
   "source": [
    "import time\n",
    "import bluetooth\n",
    "\n",
    "sock=bluetooth.BluetoothSocket(bluetooth.L2CAP)\n",
    "\n",
    "bd_addr = \"94:E9:79:D6:26:AC\"\n",
    "port = 0x1001\n",
    "print(sock.connect((bd_addr, port)))\n",
    "for i in range (10):\n",
    "    print(sock.send(\"hello!!\"))\n",
    "    time.sleep(0.01)\n",
    "    print(i*0.01, end = '\\r')\n",
    "sock.close()"
   ]
  },
  {
   "cell_type": "code",
   "execution_count": 1,
   "metadata": {},
   "outputs": [],
   "source": [
    "import bluetooth\n",
    "import time \n",
    "\n",
    "server_sock=bluetooth.BluetoothSocket( bluetooth.L2CAP )\n",
    "\n",
    "port = 0x1001\n",
    "server_sock.bind((\"\",port)) \n",
    "server_sock.listen(1)"
   ]
  },
  {
   "cell_type": "code",
   "execution_count": 6,
   "metadata": {},
   "outputs": [
    {
     "ename": "KeyboardInterrupt",
     "evalue": "",
     "output_type": "error",
     "traceback": [
      "\u001b[0;31m---------------------------------------------------------------------------\u001b[0m",
      "\u001b[0;31mKeyboardInterrupt\u001b[0m                         Traceback (most recent call last)",
      "\u001b[0;32m<ipython-input-6-2670dd3b7c97>\u001b[0m in \u001b[0;36m<module>\u001b[0;34m()\u001b[0m\n\u001b[1;32m      3\u001b[0m \u001b[0;34m\u001b[0m\u001b[0m\n\u001b[1;32m      4\u001b[0m \u001b[0;34m\u001b[0m\u001b[0m\n\u001b[0;32m----> 5\u001b[0;31m     \u001b[0mclient_sock\u001b[0m\u001b[0;34m,\u001b[0m\u001b[0maddress\u001b[0m \u001b[0;34m=\u001b[0m \u001b[0mserver_sock\u001b[0m\u001b[0;34m.\u001b[0m\u001b[0maccept\u001b[0m\u001b[0;34m(\u001b[0m\u001b[0;34m)\u001b[0m\u001b[0;34m\u001b[0m\u001b[0;34m\u001b[0m\u001b[0m\n\u001b[0m\u001b[1;32m      6\u001b[0m \u001b[0;34m\u001b[0m\u001b[0m\n\u001b[1;32m      7\u001b[0m     \u001b[0mdata\u001b[0m \u001b[0;34m=\u001b[0m \u001b[0mclient_sock\u001b[0m\u001b[0;34m.\u001b[0m\u001b[0mrecv\u001b[0m\u001b[0;34m(\u001b[0m\u001b[0;36m1024\u001b[0m\u001b[0;34m)\u001b[0m\u001b[0;34m\u001b[0m\u001b[0;34m\u001b[0m\u001b[0m\n",
      "\u001b[0;32m/usr/local/lib/python3.7/dist-packages/bluetooth/bluez.py\u001b[0m in \u001b[0;36maccept\u001b[0;34m(self)\u001b[0m\n\u001b[1;32m    165\u001b[0m     \u001b[0;32mdef\u001b[0m \u001b[0maccept\u001b[0m \u001b[0;34m(\u001b[0m\u001b[0mself\u001b[0m\u001b[0;34m)\u001b[0m\u001b[0;34m:\u001b[0m\u001b[0;34m\u001b[0m\u001b[0;34m\u001b[0m\u001b[0m\n\u001b[1;32m    166\u001b[0m         \u001b[0;32mtry\u001b[0m\u001b[0;34m:\u001b[0m\u001b[0;34m\u001b[0m\u001b[0;34m\u001b[0m\u001b[0m\n\u001b[0;32m--> 167\u001b[0;31m             \u001b[0mclient\u001b[0m\u001b[0;34m,\u001b[0m \u001b[0maddr\u001b[0m \u001b[0;34m=\u001b[0m \u001b[0mself\u001b[0m\u001b[0;34m.\u001b[0m\u001b[0m_sock\u001b[0m\u001b[0;34m.\u001b[0m\u001b[0maccept\u001b[0m \u001b[0;34m(\u001b[0m\u001b[0;34m)\u001b[0m\u001b[0;34m\u001b[0m\u001b[0;34m\u001b[0m\u001b[0m\n\u001b[0m\u001b[1;32m    168\u001b[0m         \u001b[0;32mexcept\u001b[0m \u001b[0m_bt\u001b[0m\u001b[0;34m.\u001b[0m\u001b[0merror\u001b[0m \u001b[0;32mas\u001b[0m \u001b[0me\u001b[0m\u001b[0;34m:\u001b[0m\u001b[0;34m\u001b[0m\u001b[0;34m\u001b[0m\u001b[0m\n\u001b[1;32m    169\u001b[0m             \u001b[0;32mraise\u001b[0m \u001b[0mBluetoothError\u001b[0m \u001b[0;34m(\u001b[0m\u001b[0mstr\u001b[0m \u001b[0;34m(\u001b[0m\u001b[0me\u001b[0m\u001b[0;34m)\u001b[0m\u001b[0;34m)\u001b[0m\u001b[0;34m\u001b[0m\u001b[0;34m\u001b[0m\u001b[0m\n",
      "\u001b[0;31mKeyboardInterrupt\u001b[0m: "
     ]
    }
   ],
   "source": [
    "\n",
    "for i in range(1):\n",
    "    \n",
    "\n",
    "    client_sock,address = server_sock.accept()\n",
    "\n",
    "    data = client_sock.recv(1024)\n",
    "    print (\"received [%s]\" % data)\n",
    "    client_sock.send(\"ggg\")\n",
    "    #server_sock.close()\n",
    "\n"
   ]
  },
  {
   "cell_type": "code",
   "execution_count": null,
   "metadata": {},
   "outputs": [],
   "source": [
    "client_sock.close()\n",
    "server_sock.close()"
   ]
  }
 ],
 "metadata": {
  "kernelspec": {
   "display_name": "Python 3",
   "language": "python",
   "name": "python3"
  },
  "language_info": {
   "codemirror_mode": {
    "name": "ipython",
    "version": 3
   },
   "file_extension": ".py",
   "mimetype": "text/x-python",
   "name": "python",
   "nbconvert_exporter": "python",
   "pygments_lexer": "ipython3",
   "version": "3.7.3"
  }
 },
 "nbformat": 4,
 "nbformat_minor": 2
}
